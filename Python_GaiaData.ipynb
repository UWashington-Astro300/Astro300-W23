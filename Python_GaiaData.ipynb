{
 "cells": [
  {
   "cell_type": "markdown",
   "id": "600a35e5-140a-46ef-9864-aafb9c065646",
   "metadata": {},
   "source": [
    "# Gaia Data"
   ]
  },
  {
   "cell_type": "markdown",
   "id": "0d0bcbeb-1f80-43a3-b595-ebe3db9b961a",
   "metadata": {},
   "source": [
    "### On June 13, 2022 the [Gaia project](https://www.cosmos.esa.int/web/gaia/dr3) released is third major data release containg about 1.5 billion sources.\n",
    "\n",
    "- For Astro 300, we will use a subset of the main data source. \n",
    "\n",
    "- This subset is still really large (1906.8 GB), so we will use python to access this data in an efficient manner.\n",
    "\n",
    "- #### The Gaia database we will use is called `gaiadr3.gaia_source_lite`"
   ]
  },
  {
   "cell_type": "code",
   "execution_count": null,
   "id": "5aef951c-0f1c-46cf-874a-b9cc59cb8113",
   "metadata": {},
   "outputs": [],
   "source": [
    "import numpy as np\n",
    "from astropy.table import QTable\n",
    "from astroquery.gaia import Gaia"
   ]
  },
  {
   "cell_type": "markdown",
   "id": "b527f934-1d47-406e-9f39-417c204a88d0",
   "metadata": {},
   "source": [
    "---\n",
    "# SQL/ADQL Database query language\n",
    " \n",
    "SQL (Structured Query Language) is a language designed for managing data held in a relational database management systems. SQL has became the most widely used database language.\n",
    "\n",
    "Astronomical Data Query Language (ADQL) is a specialised variant of SQL developed for use with the proliferation of astronomical datasets, and extends the functionality of SQL in an astronomical context.\n",
    "\n",
    "[The Gaia ADQL cookbook](https://www.gaia.ac.uk/data/gaia-data-release-1/adql-cookbook) is a great resource for learning the ADQL syntax.\n"
   ]
  },
  {
   "cell_type": "markdown",
   "id": "c1552f9b-c8cc-4f4c-a066-d9659881d655",
   "metadata": {},
   "source": [
    "## ADQL Query\n",
    "\n",
    "A typical ADQL query has the form:\n",
    "\n",
    "```\n",
    "SELECT \n",
    "{columns}\n",
    "FROM {database}\n",
    "WHERE {conditions}\n",
    "```\n",
    "\n",
    "The ADQL commands are usually ALLCAPS and the other commands are lowercase.\n",
    "\n",
    "There is a real example of a ADQL query to get the columns: `source_id`, `ra`, `dec`, and `parallax` from `gaiadr3.gaia_source_lite` database for all objects where the value of the `parallax` column is greater than 200 mas. The columns will be ordered by decreasing values of `parallax`:\n",
    "\n",
    "```\n",
    "SELECT TOP 10\n",
    "source_id, ra, dec, parallax\n",
    "FROM gaiadr3.gaia_source_lite\n",
    "WHERE parallax > 200.0\n",
    "ORDER BY parallax DESC\n",
    "```\n",
    "\n",
    "#### It is really good to add `TOP 10` to the `SELECT` when you first do a query, so you do not drop millions of lines into your notebook!"
   ]
  },
  {
   "cell_type": "markdown",
   "id": "74c1c6a9-f5ac-41fd-8fa0-8c67b49612d0",
   "metadata": {},
   "source": [
    "---\n",
    "## Let's get some data\n",
    "\n",
    "- First we create the query string as a doc-string"
   ]
  },
  {
   "cell_type": "code",
   "execution_count": null,
   "id": "9f7ae8ae-f114-4d69-b2a3-063fdfdf96be",
   "metadata": {},
   "outputs": [],
   "source": [
    "query_one = \"\"\"\n",
    "SELECT TOP 10\n",
    "source_id, ra, dec, parallax\n",
    "FROM gaiadr3.gaia_source_lite\n",
    "WHERE parallax > 200\n",
    "ORDER BY parallax DESC\n",
    "\"\"\""
   ]
  },
  {
   "cell_type": "code",
   "execution_count": null,
   "id": "17f947de-d655-4f28-baca-1f9d87242f7f",
   "metadata": {},
   "outputs": [],
   "source": [
    "print(query_one)"
   ]
  },
  {
   "cell_type": "markdown",
   "id": "9aa88522-ae76-4865-8730-55cbc201e7a5",
   "metadata": {},
   "source": [
    "## Submit our query to the Gaia archive server"
   ]
  },
  {
   "cell_type": "code",
   "execution_count": null,
   "id": "d091128d-26e5-4292-b507-64f0a2d02f4d",
   "metadata": {},
   "outputs": [],
   "source": [
    "my_job_query = Gaia.launch_job(query_one)"
   ]
  },
  {
   "cell_type": "markdown",
   "id": "644faaac-162e-457b-8388-3ba0c9359d86",
   "metadata": {},
   "source": [
    "### Check the status of the job"
   ]
  },
  {
   "cell_type": "code",
   "execution_count": null,
   "id": "829f6e71-25ea-428a-b9d4-c897a1177025",
   "metadata": {},
   "outputs": [],
   "source": [
    "print(my_job_query)"
   ]
  },
  {
   "cell_type": "markdown",
   "id": "80d19ad9-a6e2-48a1-8cd5-6facf6677fb1",
   "metadata": {},
   "source": [
    "### Looks good so get the results\n",
    "\n",
    "- The results will be a nice astropy Qtable"
   ]
  },
  {
   "cell_type": "code",
   "execution_count": null,
   "id": "0f7c844d-1b1a-48d0-ac2d-7203d6fccf0f",
   "metadata": {},
   "outputs": [],
   "source": [
    "my_parallax_table = my_job_query.get_results()"
   ]
  },
  {
   "cell_type": "code",
   "execution_count": null,
   "id": "51243540-141c-49b0-8013-9adf89b0de69",
   "metadata": {},
   "outputs": [],
   "source": [
    "my_parallax_table"
   ]
  },
  {
   "cell_type": "markdown",
   "id": "a59bb9d6-48a7-4bc9-bd8c-d74178074362",
   "metadata": {},
   "source": [
    "---\n",
    "\n",
    "# A more complicated example\n",
    "\n",
    "Let's say you want to find all of the objects within a certain area of the sky\n",
    "\n",
    "<img src=\"https://uwashington-astro300.github.io/A300_images/Finder.png\" width=\"400\"/>\n",
    "\n",
    "The ADQL language includes lots of astronomy-specific stuff like `POINT` and `CIRCLE`. This allows us to specify a point in space and region around the point.\n",
    "\n",
    "The coordinates of `POINT` and `CIRCLE` are usually set to `IRCS` (International Celestial Reference System) \n",
    "\n",
    "`POINT('IRCS', RA(deg), DEC(deg))` specifies a point on the celestial sphere.\n",
    "\n",
    "`CIRCLE('IRCS', RA(deg), DEC(deg), radius(deg))` specifies a circular region on the celestial sphere centred at the given coordinates and with the given radius in degrees.\n",
    "\n",
    "`CONTAINS` is a strange but super useful ADQL function. By setting `CONTAINS(POINT, CIRCLE) = 1` you will pick put all objects centered on `POINT` within `CIRCLE`."
   ]
  },
  {
   "cell_type": "markdown",
   "id": "0892efb6-13cf-40a9-ac91-dfeac5592810",
   "metadata": {},
   "source": [
    "#### *Here is a query to find all Gaia objects within 0.5 degrees of RA = 23.5 deg, Dec = 0.0 deg that are brighter than 12th mag and have color (BP-RP) data.*"
   ]
  },
  {
   "cell_type": "code",
   "execution_count": null,
   "id": "cf6f68fb-ad4b-4b3c-adb5-64e77754dfe8",
   "metadata": {},
   "outputs": [],
   "source": [
    "query_two = \"\"\"\n",
    "SELECT TOP 100\n",
    "source_id, ra, dec, phot_g_mean_mag, bp_rp\n",
    "FROM gaiadr3.gaia_source_lite\n",
    "WHERE CONTAINS(\n",
    "   POINT('ICRS', 23.5, 0.0),\n",
    "   CIRCLE('ICRS', ra, dec, 0.5)\n",
    "   ) = 1\n",
    "AND phot_g_mean_mag < 12.0\n",
    "AND bp_rp IS NOT NULL\n",
    "ORDER BY bp_rp ASC\n",
    "\"\"\""
   ]
  },
  {
   "cell_type": "code",
   "execution_count": null,
   "id": "1d288161-1605-4afd-b2f7-7664957d3a13",
   "metadata": {},
   "outputs": [],
   "source": [
    "print(query_two)"
   ]
  },
  {
   "cell_type": "code",
   "execution_count": null,
   "id": "f291a8d6-7ae1-4651-a21a-7437dfd95a41",
   "metadata": {},
   "outputs": [],
   "source": [
    "my_job_query = Gaia.launch_job(query_two)"
   ]
  },
  {
   "cell_type": "code",
   "execution_count": null,
   "id": "6f273f14-5c3c-4420-aace-9fbb5b8a463a",
   "metadata": {},
   "outputs": [],
   "source": [
    "print(my_job_query)"
   ]
  },
  {
   "cell_type": "code",
   "execution_count": null,
   "id": "4b76687c-b5cd-410a-99c4-c9af8422aa71",
   "metadata": {},
   "outputs": [],
   "source": [
    "my_finder_table = my_job_query.get_results()"
   ]
  },
  {
   "cell_type": "code",
   "execution_count": null,
   "id": "946cb354-2204-4c8c-b346-864d09e52478",
   "metadata": {},
   "outputs": [],
   "source": [
    "my_finder_table"
   ]
  },
  {
   "cell_type": "code",
   "execution_count": null,
   "id": "0e3cf876-f6c2-4476-b00e-2ef6ec98a7db",
   "metadata": {
    "scrolled": true,
    "tags": []
   },
   "outputs": [],
   "source": [
    "my_finder_table.show_in_notebook()"
   ]
  },
  {
   "cell_type": "markdown",
   "id": "eb6975f8-2299-4403-86d5-04f9c273a836",
   "metadata": {},
   "source": [
    "## What else is in the field?\n",
    "\n",
    "#### I used the [ESO Online Digitized Sky Survey](http://archive.eso.org/dss/dss) to get an image of the field"
   ]
  },
  {
   "cell_type": "markdown",
   "id": "193ec4ce-10b2-45c4-ba8f-0f7ae1fc5915",
   "metadata": {},
   "source": [
    "<img src=\"https://uwashington-astro300.github.io/A300_images/StarField.jpg\" width=\"500\"/>"
   ]
  },
  {
   "cell_type": "code",
   "execution_count": null,
   "id": "383ddbd3-bad0-4a17-8e8f-af96a8ba8ac9",
   "metadata": {},
   "outputs": [],
   "source": [
    "query_three = \"\"\"\n",
    "SELECT TOP 200\n",
    "source_id, ra, dec, phot_g_mean_mag, in_galaxy_candidates\n",
    "FROM gaiadr3.gaia_source_lite\n",
    "WHERE CONTAINS(\n",
    "   POINT('ICRS', 23.5, 0.0),\n",
    "   CIRCLE('ICRS', ra, dec, 0.5)\n",
    "   ) = 1\n",
    "AND in_galaxy_candidates = 'True'\n",
    "ORDER BY phot_g_mean_mag ASC\n",
    "\"\"\""
   ]
  },
  {
   "cell_type": "code",
   "execution_count": null,
   "id": "f91cf84d-251e-4a87-8aca-6e7a8f3f264c",
   "metadata": {},
   "outputs": [],
   "source": [
    "print(query_three)"
   ]
  },
  {
   "cell_type": "code",
   "execution_count": null,
   "id": "49dc4195-384f-4e91-8ee0-46c77b6702d8",
   "metadata": {},
   "outputs": [],
   "source": [
    "my_job_query = Gaia.launch_job(query_three)"
   ]
  },
  {
   "cell_type": "code",
   "execution_count": null,
   "id": "592e73ab-ac4a-40eb-b46b-9bcf4ec86286",
   "metadata": {},
   "outputs": [],
   "source": [
    "print(my_job_query)"
   ]
  },
  {
   "cell_type": "code",
   "execution_count": null,
   "id": "ff558f82-79db-472d-a8fb-a47500318075",
   "metadata": {},
   "outputs": [],
   "source": [
    "my_strange_star = my_job_query.get_results()"
   ]
  },
  {
   "cell_type": "code",
   "execution_count": null,
   "id": "dc08f5a3-fe74-4796-b9b4-f55849bb17b4",
   "metadata": {},
   "outputs": [],
   "source": [
    "my_strange_star"
   ]
  },
  {
   "cell_type": "markdown",
   "id": "14b6d6c3-acb6-4030-9a93-25ddfcabef9e",
   "metadata": {},
   "source": [
    "---\n",
    "\n",
    "## ADQL querys can get SUPER complicated! - I have shown you the merest baby steps. \n",
    "\n",
    "## If you want to see how the pros work, check out the [Gaia ADQL Guide](https://www.cosmos.esa.int/web/gaia-users/archive/writing-queries)"
   ]
  }
 ],
 "metadata": {
  "kernelspec": {
   "display_name": "Python 3 (ipykernel)",
   "language": "python",
   "name": "python3"
  },
  "language_info": {
   "codemirror_mode": {
    "name": "ipython",
    "version": 3
   },
   "file_extension": ".py",
   "mimetype": "text/x-python",
   "name": "python",
   "nbconvert_exporter": "python",
   "pygments_lexer": "ipython3",
   "version": "3.9.7"
  }
 },
 "nbformat": 4,
 "nbformat_minor": 5
}
