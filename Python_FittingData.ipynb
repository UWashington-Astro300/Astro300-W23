{
 "cells": [
  {
   "cell_type": "markdown",
   "metadata": {},
   "source": [
    "# Fitting Data"
   ]
  },
  {
   "cell_type": "code",
   "execution_count": null,
   "metadata": {
    "collapsed": false,
    "jupyter": {
     "outputs_hidden": false
    }
   },
   "outputs": [],
   "source": [
    "import numpy as np\n",
    "import matplotlib.pyplot as plt\n",
    "\n",
    "from astropy.table import QTable\n",
    "from astropy import units as u"
   ]
  },
  {
   "cell_type": "code",
   "execution_count": null,
   "metadata": {
    "collapsed": false,
    "jupyter": {
     "outputs_hidden": false
    }
   },
   "outputs": [],
   "source": [
    "plt.style.use('bmh')"
   ]
  },
  {
   "cell_type": "markdown",
   "metadata": {},
   "source": [
    "# Fitting data with a ploynomial - `np.polyfit()`\n",
    "\n",
    "## `np.ployfit(x-data array, y-data array, order-of-fit)`"
   ]
  },
  {
   "cell_type": "markdown",
   "metadata": {},
   "source": [
    "---\n",
    "\n",
    "## First-order fitting:  $f(x) = ax + b$"
   ]
  },
  {
   "cell_type": "code",
   "execution_count": null,
   "metadata": {},
   "outputs": [],
   "source": [
    "my_data1 = QTable.read('https://uwashington-astro300.github.io/A300_Data/fit_data1.csv', \n",
    "                       format='ascii.csv')\n",
    "\n",
    "my_data1['x'].unit = u.s\n",
    "my_data1['y'].unit = u.m\n",
    "\n",
    "my_x = my_data1['x']\n",
    "my_y = my_data1['y']"
   ]
  },
  {
   "cell_type": "code",
   "execution_count": null,
   "metadata": {},
   "outputs": [],
   "source": [
    "fig, ax = plt.subplots(\n",
    "    figsize = (8, 5), \n",
    "    constrained_layout = True\n",
    ")\n",
    "\n",
    "ax.set_xlabel(f\"This is X [{my_x.unit}]\")\n",
    "ax.set_ylabel(f\"This is Y [{my_y.unit}]\")\n",
    "\n",
    "ax.plot(my_x, my_y,\n",
    "        color = \"m\",\n",
    "        marker = \"o\",\n",
    "        linestyle = \"None\",\n",
    "        markersize = 10);"
   ]
  },
  {
   "cell_type": "markdown",
   "metadata": {},
   "source": [
    "### Use `.value` to just send the values (not units) to the fitting function"
   ]
  },
  {
   "cell_type": "code",
   "execution_count": null,
   "metadata": {
    "collapsed": false,
    "jupyter": {
     "outputs_hidden": false
    }
   },
   "outputs": [],
   "source": [
    "my_fit1 = np.polyfit(my_x.value, my_y.value, 1)\n",
    "\n",
    "my_fit1       # The coefficients of the fit (a,b)"
   ]
  },
  {
   "cell_type": "markdown",
   "metadata": {},
   "source": [
    "### You can use `np.poly1d(fit-parameters)` to plot and explore the fitted polynomial"
   ]
  },
  {
   "cell_type": "code",
   "execution_count": null,
   "metadata": {
    "collapsed": false,
    "jupyter": {
     "outputs_hidden": false
    }
   },
   "outputs": [],
   "source": [
    "fitted_polynomial = np.poly1d(my_fit1)\n",
    "fitted_polynomial"
   ]
  },
  {
   "cell_type": "markdown",
   "metadata": {},
   "source": [
    "### Now send the fitted polynomial the x-data to make a fit\n",
    "\n",
    "* It will have the same units as the y-data"
   ]
  },
  {
   "cell_type": "code",
   "execution_count": null,
   "metadata": {
    "collapsed": false,
    "jupyter": {
     "outputs_hidden": false
    }
   },
   "outputs": [],
   "source": [
    "my_data1['Fit'] = fitted_polynomial(my_x.value) * my_y.unit"
   ]
  },
  {
   "cell_type": "code",
   "execution_count": null,
   "metadata": {
    "collapsed": false,
    "jupyter": {
     "outputs_hidden": false
    }
   },
   "outputs": [],
   "source": [
    "my_data1[0:2]"
   ]
  },
  {
   "cell_type": "code",
   "execution_count": null,
   "metadata": {
    "collapsed": false,
    "jupyter": {
     "outputs_hidden": false
    }
   },
   "outputs": [],
   "source": [
    "fig, ax = plt.subplots(\n",
    "    figsize = (8, 5), \n",
    "    constrained_layout = True\n",
    ")\n",
    "\n",
    "ax.set_xlabel(f\"This is X [{my_x.unit}]\")\n",
    "ax.set_ylabel(f\"This is Y [{my_y.unit}]\")\n",
    "\n",
    "ax.plot(my_x, my_y,\n",
    "        color = \"m\",\n",
    "        marker = \"o\",\n",
    "        linestyle = \"None\",\n",
    "        markersize = 10,\n",
    "        label = \"Data\")\n",
    "\n",
    "ax.plot(my_x, my_data1['Fit'],\n",
    "        marker = \"None\",\n",
    "        linewidth = 6,\n",
    "        color = (0.3, 0.1, 0.9, 0.4),\n",
    "        linestyle = '--',\n",
    "        label = \"Fit to Data\")\n",
    "\n",
    "ax.legend(loc=0);"
   ]
  },
  {
   "cell_type": "code",
   "execution_count": null,
   "metadata": {
    "collapsed": false,
    "jupyter": {
     "outputs_hidden": false
    }
   },
   "outputs": [],
   "source": [
    "fitted_polynomial(5)                 # value of f(x) at x = 5"
   ]
  },
  {
   "cell_type": "code",
   "execution_count": null,
   "metadata": {},
   "outputs": [],
   "source": [
    "f\"When X is 5 {my_x.unit} then Y will be {fitted_polynomial(5):.1f} {my_y.unit}\" "
   ]
  },
  {
   "cell_type": "code",
   "execution_count": null,
   "metadata": {
    "collapsed": false,
    "jupyter": {
     "outputs_hidden": false
    }
   },
   "outputs": [],
   "source": [
    "fitted_polynomial.roots              # value of x at f(x) = 0"
   ]
  },
  {
   "cell_type": "code",
   "execution_count": null,
   "metadata": {},
   "outputs": [],
   "source": [
    "f\"When Y is 0 {my_y.unit} then X will be {fitted_polynomial.roots[0]:.1f} {my_x.unit}\" "
   ]
  },
  {
   "cell_type": "code",
   "execution_count": null,
   "metadata": {
    "collapsed": false,
    "jupyter": {
     "outputs_hidden": false
    }
   },
   "outputs": [],
   "source": [
    "(fitted_polynomial - 40).roots       # value of x at f(x) = 40"
   ]
  },
  {
   "cell_type": "code",
   "execution_count": null,
   "metadata": {},
   "outputs": [],
   "source": [
    "f\"When Y is 40 {my_y.unit} then X will be {(fitted_polynomial - 40).roots[0]:.1f} {my_x.unit}\" "
   ]
  },
  {
   "cell_type": "markdown",
   "metadata": {},
   "source": [
    "---\n",
    "## Second-order fitting:  $f(x) = ax^2 + bx + c$"
   ]
  },
  {
   "cell_type": "code",
   "execution_count": null,
   "metadata": {
    "collapsed": false,
    "jupyter": {
     "outputs_hidden": false
    }
   },
   "outputs": [],
   "source": [
    "my_data2 = QTable.read('https://uwashington-astro300.github.io/A300_Data/fit_data2.csv', \n",
    "                       format='ascii.csv')\n",
    "\n",
    "my_data2['x'].unit = u.s\n",
    "my_data2['y'].unit = u.m\n",
    "\n",
    "my_x = my_data2['x']\n",
    "my_y = my_data2['y']"
   ]
  },
  {
   "cell_type": "code",
   "execution_count": null,
   "metadata": {
    "collapsed": false,
    "jupyter": {
     "outputs_hidden": false
    }
   },
   "outputs": [],
   "source": [
    "fig, ax = plt.subplots(\n",
    "    figsize = (8, 5), \n",
    "    constrained_layout = True\n",
    ")\n",
    "\n",
    "ax.set_xlabel(f\"This is X [{my_x.unit}]\")\n",
    "ax.set_ylabel(f\"This is Y [{my_y.unit}]\")\n",
    "\n",
    "ax.plot(my_x, my_y,\n",
    "        color = \"m\",\n",
    "        marker = \"o\",\n",
    "        linestyle = \"None\",\n",
    "        markersize = 10);"
   ]
  },
  {
   "cell_type": "code",
   "execution_count": null,
   "metadata": {
    "collapsed": false,
    "jupyter": {
     "outputs_hidden": false
    }
   },
   "outputs": [],
   "source": [
    "my_fit2 = np.polyfit(my_x.value, my_y.value, 2)\n",
    "\n",
    "my_fit2"
   ]
  },
  {
   "cell_type": "code",
   "execution_count": null,
   "metadata": {
    "collapsed": false,
    "jupyter": {
     "outputs_hidden": false
    }
   },
   "outputs": [],
   "source": [
    "fitted_polynomial = np.poly1d(my_fit2)"
   ]
  },
  {
   "cell_type": "code",
   "execution_count": null,
   "metadata": {
    "collapsed": false,
    "jupyter": {
     "outputs_hidden": false
    }
   },
   "outputs": [],
   "source": [
    "my_data2['Fit'] = fitted_polynomial(my_x.value) * my_y.unit"
   ]
  },
  {
   "cell_type": "code",
   "execution_count": null,
   "metadata": {
    "collapsed": false,
    "jupyter": {
     "outputs_hidden": false
    }
   },
   "outputs": [],
   "source": [
    "fig, ax = plt.subplots(\n",
    "    figsize = (8, 5), \n",
    "    constrained_layout = True\n",
    ")\n",
    "\n",
    "ax.set_xlabel(f\"This is X [{my_x.unit}]\")\n",
    "ax.set_ylabel(f\"This is Y [{my_y.unit}]\")\n",
    "\n",
    "ax.plot(my_x, my_y,\n",
    "        color = \"m\",\n",
    "        marker = \"o\",\n",
    "        linestyle = \"None\",\n",
    "        markersize = 10,\n",
    "        label = \"Data\")\n",
    "\n",
    "ax.plot(my_x, my_data2['Fit'],\n",
    "        marker = \"None\",\n",
    "        linewidth = 6,\n",
    "        color = (0.3, 0.1, 0.9, 0.4),\n",
    "        linestyle = '--',\n",
    "        label = \"Fit to Data\")\n",
    "\n",
    "ax.legend(loc=0);"
   ]
  },
  {
   "cell_type": "code",
   "execution_count": null,
   "metadata": {
    "collapsed": false,
    "jupyter": {
     "outputs_hidden": false
    }
   },
   "outputs": [],
   "source": [
    "fitted_polynomial(5)                 # value of f(x) at x = 5"
   ]
  },
  {
   "cell_type": "code",
   "execution_count": null,
   "metadata": {},
   "outputs": [],
   "source": [
    "f\"When X is 5 {my_x.unit} then Y will be {fitted_polynomial(5):.1f} {my_y.unit}\" "
   ]
  },
  {
   "cell_type": "code",
   "execution_count": null,
   "metadata": {
    "collapsed": false,
    "jupyter": {
     "outputs_hidden": false
    }
   },
   "outputs": [],
   "source": [
    "fitted_polynomial.roots              # value of x at f(x) = 0"
   ]
  },
  {
   "cell_type": "code",
   "execution_count": null,
   "metadata": {},
   "outputs": [],
   "source": [
    "f\"When Y is 0 {my_y.unit} then X will be {fitted_polynomial.roots[0]:.1f} or {fitted_polynomial.roots[1]:.1f} {my_x.unit}\""
   ]
  },
  {
   "cell_type": "code",
   "execution_count": null,
   "metadata": {
    "collapsed": false,
    "jupyter": {
     "outputs_hidden": false
    }
   },
   "outputs": [],
   "source": [
    "(fitted_polynomial - 40).roots       # value of x at f(x) = 40"
   ]
  },
  {
   "cell_type": "code",
   "execution_count": null,
   "metadata": {},
   "outputs": [],
   "source": [
    "f\"When Y is 40 {my_y.unit} then X will be {(fitted_polynomial - 40).roots[0]:.1f} or {(fitted_polynomial - 40).roots[1]:.1f} {my_x.unit}\""
   ]
  },
  {
   "cell_type": "code",
   "execution_count": null,
   "metadata": {
    "collapsed": false,
    "jupyter": {
     "outputs_hidden": false
    }
   },
   "outputs": [],
   "source": [
    "(fitted_polynomial - 80).roots       # value of x at f(x) = 80, no real root"
   ]
  },
  {
   "cell_type": "markdown",
   "metadata": {},
   "source": [
    "---\n",
    "\n",
    "## Side Topic - Complex Numbers\n",
    "\n",
    "* Python uses `j` for the imaginary  part of a complex number\n",
    "* `numpy` has *some* support for complex numbers"
   ]
  },
  {
   "cell_type": "code",
   "execution_count": null,
   "metadata": {
    "collapsed": false,
    "jupyter": {
     "outputs_hidden": false
    }
   },
   "outputs": [],
   "source": [
    "my_solutions = np.array([3.2 + 2.7j, 3.3j, 2.6 + 0j, 6.9])"
   ]
  },
  {
   "cell_type": "code",
   "execution_count": null,
   "metadata": {
    "collapsed": false,
    "jupyter": {
     "outputs_hidden": false
    }
   },
   "outputs": [],
   "source": [
    "my_solutions"
   ]
  },
  {
   "cell_type": "code",
   "execution_count": null,
   "metadata": {
    "collapsed": false,
    "jupyter": {
     "outputs_hidden": false
    }
   },
   "outputs": [],
   "source": [
    "np.isreal(my_solutions)"
   ]
  },
  {
   "cell_type": "code",
   "execution_count": null,
   "metadata": {
    "collapsed": false,
    "jupyter": {
     "outputs_hidden": false
    }
   },
   "outputs": [],
   "source": [
    "np.iscomplex(my_solutions)"
   ]
  },
  {
   "cell_type": "markdown",
   "metadata": {},
   "source": [
    "## Just the Real Solutions"
   ]
  },
  {
   "cell_type": "code",
   "execution_count": null,
   "metadata": {
    "collapsed": false,
    "jupyter": {
     "outputs_hidden": false
    }
   },
   "outputs": [],
   "source": [
    "my_solutions[np.isreal(my_solutions)]"
   ]
  },
  {
   "cell_type": "markdown",
   "metadata": {},
   "source": [
    "### A little neater"
   ]
  },
  {
   "cell_type": "code",
   "execution_count": null,
   "metadata": {},
   "outputs": [],
   "source": [
    "my_solutions[np.isreal(my_solutions)].real"
   ]
  },
  {
   "cell_type": "code",
   "execution_count": null,
   "metadata": {},
   "outputs": [],
   "source": [
    "my_solutions[np.isreal(my_solutions)][0].real"
   ]
  },
  {
   "cell_type": "markdown",
   "metadata": {},
   "source": [
    "### Just the Complex Solutions"
   ]
  },
  {
   "cell_type": "code",
   "execution_count": null,
   "metadata": {
    "collapsed": false,
    "jupyter": {
     "outputs_hidden": false
    }
   },
   "outputs": [],
   "source": [
    "my_solutions[np.iscomplex(my_solutions)]"
   ]
  },
  {
   "cell_type": "markdown",
   "metadata": {},
   "source": [
    "### Remember: A complex root cannot be the solution to a **real world** problem.\n",
    "\n",
    "* Except for the infinite number of exceptions\n",
    "* You know what I mean ....\n",
    "\n",
    "### Also: The real part of a complex number is NOT a real number solution\n",
    "\n",
    "* This is NOT a real solution:"
   ]
  },
  {
   "cell_type": "code",
   "execution_count": null,
   "metadata": {},
   "outputs": [],
   "source": [
    "my_solutions[np.iscomplex(my_solutions)][0].real"
   ]
  },
  {
   "cell_type": "markdown",
   "metadata": {},
   "source": [
    "---\n",
    "\n",
    "## Be careful! Very high-order fits (are almost always) garbage"
   ]
  },
  {
   "cell_type": "code",
   "execution_count": null,
   "metadata": {},
   "outputs": [],
   "source": [
    "my_data1 = QTable.read('https://uwashington-astro300.github.io/A300_Data/fit_data1.csv',\n",
    "                       format='ascii.csv')\n",
    "\n",
    "my_data1['x'].unit = u.s\n",
    "my_data1['y'].unit = u.m\n",
    "\n",
    "my_x = my_data1['x']\n",
    "my_y = my_data1['y']"
   ]
  },
  {
   "cell_type": "code",
   "execution_count": null,
   "metadata": {
    "collapsed": false,
    "jupyter": {
     "outputs_hidden": false
    }
   },
   "outputs": [],
   "source": [
    "my_fit3 = np.polyfit(my_x.value, my_y.value, 20)\n",
    "\n",
    "fitted_polynomial = np.poly1d(my_fit3)"
   ]
  },
  {
   "cell_type": "code",
   "execution_count": null,
   "metadata": {
    "collapsed": false,
    "jupyter": {
     "outputs_hidden": false
    }
   },
   "outputs": [],
   "source": [
    "fig, ax = plt.subplots(\n",
    "    figsize = (8, 5), \n",
    "    constrained_layout = True\n",
    ")\n",
    "\n",
    "ax.set_xlabel(f\"This is X [{my_x.unit}]\")\n",
    "ax.set_ylabel(f\"This is Y [{my_y.unit}]\")\n",
    "ax.set_title('This is a awesome fit!!!!', \n",
    "             fontsize = 24, \n",
    "             fontweight = 'bold')\n",
    "\n",
    "\n",
    "ax.set_ylim(-20,120)\n",
    "\n",
    "xx = np.linspace(0,10,200)\n",
    "\n",
    "ax.plot(my_x, my_y,\n",
    "        color = \"m\",\n",
    "        marker = \"o\",\n",
    "        linestyle = \"None\",\n",
    "        markersize = 10,\n",
    "        label = \"Data\")\n",
    "\n",
    "ax.plot(xx, fitted_polynomial(xx),\n",
    "        linewidth = 6,\n",
    "        color = (0.3, 0.1, 0.9, 0.4),\n",
    "        linestyle = '-',\n",
    "        label = \"Fit to Data\")\n",
    "\n",
    "ax.legend(loc=0);"
   ]
  },
  {
   "cell_type": "markdown",
   "metadata": {},
   "source": [
    "---\n",
    "\n",
    "## Side Topic - The unpack operator (**\\***)\n",
    "\n",
    " * The unpacking operator takes a list and unpacks each value and sends each, in order.\n",
    " * It makes a list **iterable**"
   ]
  },
  {
   "cell_type": "code",
   "execution_count": null,
   "metadata": {
    "collapsed": false,
    "jupyter": {
     "outputs_hidden": false
    }
   },
   "outputs": [],
   "source": [
    "my_list = np.array([3.1, 5.6, 11.5, 19.6])\n",
    "\n",
    "my_list"
   ]
  },
  {
   "cell_type": "code",
   "execution_count": null,
   "metadata": {
    "collapsed": false,
    "jupyter": {
     "outputs_hidden": false
    }
   },
   "outputs": [],
   "source": [
    "def some_numbers(a, b, c, d):\n",
    "    my_string = f\"I have four numbers: {a}, {b}, {c}, and {d}\"\n",
    "    print(my_string)"
   ]
  },
  {
   "cell_type": "markdown",
   "metadata": {},
   "source": [
    "### This will **not** work as the list (`my_list`) is sent as one blob:"
   ]
  },
  {
   "cell_type": "code",
   "execution_count": null,
   "metadata": {
    "collapsed": false,
    "jupyter": {
     "outputs_hidden": false
    }
   },
   "outputs": [],
   "source": [
    "some_numbers(my_list)"
   ]
  },
  {
   "cell_type": "markdown",
   "metadata": {},
   "source": [
    "### This **will** work as the list (`*my_list`) is unpacked and sent as 4 pieces:"
   ]
  },
  {
   "cell_type": "code",
   "execution_count": null,
   "metadata": {
    "collapsed": false,
    "jupyter": {
     "outputs_hidden": false
    }
   },
   "outputs": [],
   "source": [
    "some_numbers(*my_list)"
   ]
  },
  {
   "cell_type": "markdown",
   "metadata": {},
   "source": [
    "---\n",
    "\n",
    "# Fitting a specific function - `curve_fit`"
   ]
  },
  {
   "cell_type": "code",
   "execution_count": null,
   "metadata": {
    "collapsed": false,
    "jupyter": {
     "outputs_hidden": false
    }
   },
   "outputs": [],
   "source": [
    "from scipy.optimize import curve_fit"
   ]
  },
  {
   "cell_type": "code",
   "execution_count": null,
   "metadata": {},
   "outputs": [],
   "source": [
    "my_data3 = QTable.read('https://uwashington-astro300.github.io/A300_Data/fit_data3.csv',\n",
    "                       format='ascii.csv')\n",
    "\n",
    "my_data3['x'].unit = u.s\n",
    "my_data3['y'].unit = u.m\n",
    "\n",
    "my_x = my_data3['x']\n",
    "my_y = my_data3['y']"
   ]
  },
  {
   "cell_type": "code",
   "execution_count": null,
   "metadata": {
    "collapsed": false,
    "jupyter": {
     "outputs_hidden": false
    }
   },
   "outputs": [],
   "source": [
    "fig, ax = plt.subplots(\n",
    "    figsize = (8, 5), \n",
    "    constrained_layout = True\n",
    ")\n",
    "\n",
    "ax.set_xlabel(f\"This is X [{my_x.unit}]\")\n",
    "ax.set_ylabel(f\"This is Y [{my_y.unit}]\")\n",
    "\n",
    "ax.plot(my_x, my_y,\n",
    "        color = \"m\",\n",
    "        marker = \"o\",\n",
    "        linestyle = \"None\",\n",
    "        markersize = 10);"
   ]
  },
  {
   "cell_type": "markdown",
   "metadata": {},
   "source": [
    "\n",
    "\n",
    "$$ \\huge\n",
    "f(x) = a \\sin(bx) \n",
    "$$\n",
    "\n",
    "### You need to provide f(x)\n",
    "\n",
    "* The first argument needs to be the points to fit (`my_x`)\n",
    "* The other arguments are the parameters to be fit (`my_a, my_b`)\n",
    "* The function just returns: `f(x)`"
   ]
  },
  {
   "cell_type": "code",
   "execution_count": null,
   "metadata": {
    "collapsed": false,
    "jupyter": {
     "outputs_hidden": false
    }
   },
   "outputs": [],
   "source": [
    "def ringo(my_x, my_a, my_b):\n",
    "    return my_a * np.sin(my_b * my_x)"
   ]
  },
  {
   "cell_type": "markdown",
   "metadata": {},
   "source": [
    "#### You need to provide an initial guess to the parameters `a` and `b`\n",
    "\n",
    "* `a` is the amplitude. Look at the graph and the maximum amplitude is about 80\n",
    "* `b` is related to the period\n",
    "   * We know $\\sin(\\pi)$ = 0\n",
    "   * So `Y` = 0 when bx = $\\pi$\n",
    "   * Look at graph - `Y` = 0 is when `X` = 18 so b = $\\pi$/18 which is ~3/18 (0.17)"
   ]
  },
  {
   "cell_type": "code",
   "execution_count": null,
   "metadata": {
    "collapsed": false,
    "jupyter": {
     "outputs_hidden": false
    }
   },
   "outputs": [],
   "source": [
    "my_guess_a = 80.0\n",
    "my_guess_b = 3/18\n",
    "\n",
    "init_guesses = [my_guess_a, my_guess_b]"
   ]
  },
  {
   "cell_type": "markdown",
   "metadata": {},
   "source": [
    "#### My Parameters:\n",
    "\n",
    "* `Function to fit = ringo`\n",
    "* `X points to fit = my_data3['x']`\n",
    "* `Y points to fit = my_data3['y']`\n",
    "* `Initial guess (`p0`) at values for a,b = init_guesses`"
   ]
  },
  {
   "cell_type": "code",
   "execution_count": null,
   "metadata": {
    "collapsed": false,
    "jupyter": {
     "outputs_hidden": false
    }
   },
   "outputs": [],
   "source": [
    "fitpars, error = curve_fit(ringo,\n",
    "                           my_x.value, my_y.value,\n",
    "                           p0 = init_guesses)\n",
    "\n",
    "print(fitpars)"
   ]
  },
  {
   "cell_type": "code",
   "execution_count": null,
   "metadata": {
    "collapsed": false,
    "jupyter": {
     "outputs_hidden": false
    }
   },
   "outputs": [],
   "source": [
    "fig, ax = plt.subplots(\n",
    "    figsize = (8, 5), \n",
    "    constrained_layout = True\n",
    ")\n",
    "\n",
    "ax.set_ylim(-100,140)\n",
    "\n",
    "ax.set_xlabel(f\"This is X [{my_x.unit}]\")\n",
    "ax.set_ylabel(f\"This is Y [{my_y.unit}]\")\n",
    "\n",
    "ax.plot(my_x, my_y,\n",
    "        color = \"m\",\n",
    "        marker = \"o\",\n",
    "        linestyle = \"None\",\n",
    "        markersize = 10,\n",
    "        label = \"Data\")\n",
    "\n",
    "# Need to send .value to function (ringo)\n",
    "\n",
    "ax.plot(my_x, ringo(my_x.value, *init_guesses),\n",
    "        color = (0.3, 0.9, 0.2, 0.8),\n",
    "        marker = \"None\",\n",
    "        linestyle = \"--\",\n",
    "        linewidth = 6,\n",
    "        label = \"Initial Guess\")\n",
    "\n",
    "ax.plot(my_x, ringo(my_x.value, *fitpars),\n",
    "        color = (0.3, 0.1, 0.9, 0.4),\n",
    "        marker = \"None\",\n",
    "        linestyle = \"-\",\n",
    "        linewidth = 6,\n",
    "        label = \"Fit to Data\")\n",
    "\n",
    "ax.legend(loc=0);"
   ]
  },
  {
   "cell_type": "markdown",
   "metadata": {},
   "source": [
    "### Bad initial guesses can lead to very bad fits"
   ]
  },
  {
   "cell_type": "code",
   "execution_count": null,
   "metadata": {
    "collapsed": false,
    "jupyter": {
     "outputs_hidden": false
    }
   },
   "outputs": [],
   "source": [
    "my_guess_a = 68.0\n",
    "my_guess_b = 1.0/4\n",
    "\n",
    "init_guesses = [my_guess_a, my_guess_b]"
   ]
  },
  {
   "cell_type": "code",
   "execution_count": null,
   "metadata": {
    "collapsed": false,
    "jupyter": {
     "outputs_hidden": false
    }
   },
   "outputs": [],
   "source": [
    "fitpars, error = curve_fit(ringo,\n",
    "                           my_x.value, my_y.value,\n",
    "                           p0 = init_guesses)\n",
    "\n",
    "print(fitpars)"
   ]
  },
  {
   "cell_type": "code",
   "execution_count": null,
   "metadata": {
    "collapsed": false,
    "jupyter": {
     "outputs_hidden": false
    }
   },
   "outputs": [],
   "source": [
    "fig, ax = plt.subplots(\n",
    "    figsize = (8, 5), \n",
    "    constrained_layout = True\n",
    ")\n",
    "\n",
    "ax.set_ylim(-100,140)\n",
    "\n",
    "ax.set_xlabel(f\"This is X [{my_x.unit}]\")\n",
    "ax.set_ylabel(f\"This is Y [{my_y.unit}]\")\n",
    "\n",
    "ax.plot(my_x, my_y,\n",
    "        color = \"m\",\n",
    "        marker = \"o\",\n",
    "        linestyle = \"None\",\n",
    "        markersize = 10,\n",
    "        label = \"Data\")\n",
    "\n",
    "ax.plot(my_x.value, ringo(my_x.value, *init_guesses),\n",
    "        color = (0.3, 0.9, 0.2, 0.8),\n",
    "        marker = \"None\",\n",
    "        linestyle = \"--\",\n",
    "        linewidth = 6,\n",
    "        label = \"Initial Guess\")\n",
    "\n",
    "ax.plot(my_x.value, ringo(my_x.value, *fitpars),\n",
    "        color = (0.3, 0.1, 0.9, 0.4),\n",
    "        marker = \"None\",\n",
    "        linestyle = \"-\",\n",
    "        linewidth = 6,\n",
    "        label = \"Fit to Data\")\n",
    "\n",
    "ax.legend(loc=0);"
   ]
  },
  {
   "cell_type": "markdown",
   "metadata": {},
   "source": [
    "---\n",
    "\n",
    "### Side Topic - Scaling data: Normalization\n",
    "\n",
    "* It is often useful to rescale your data.\n",
    "* One of the most common types of rescaling is called: `min-max normalization`.\n",
    "* This method rescales that data so the range of the `y-data` is `[0->1]`\n",
    "\n",
    "$$ \\Large\n",
    "\\text{Normalized}(y)={\\frac  {y-{\\text{min}}(y)}{{\\text{max}}(y)-{\\text{min}}(y)}}\n",
    "$$"
   ]
  },
  {
   "cell_type": "code",
   "execution_count": null,
   "metadata": {
    "collapsed": false,
    "jupyter": {
     "outputs_hidden": false
    }
   },
   "outputs": [],
   "source": [
    "def normalize_data(data_array):\n",
    "    result = (data_array - data_array.min()) / (data_array.max() - data_array.min())\n",
    "    return result"
   ]
  },
  {
   "cell_type": "code",
   "execution_count": null,
   "metadata": {
    "collapsed": false,
    "jupyter": {
     "outputs_hidden": false
    }
   },
   "outputs": [],
   "source": [
    "my_y.min(), my_y.max()"
   ]
  },
  {
   "cell_type": "code",
   "execution_count": null,
   "metadata": {
    "collapsed": false,
    "jupyter": {
     "outputs_hidden": false
    }
   },
   "outputs": [],
   "source": [
    "y_normal = normalize_data(my_y)"
   ]
  },
  {
   "cell_type": "code",
   "execution_count": null,
   "metadata": {
    "collapsed": false,
    "jupyter": {
     "outputs_hidden": false
    }
   },
   "outputs": [],
   "source": [
    "y_normal.min(), y_normal.max()"
   ]
  },
  {
   "cell_type": "code",
   "execution_count": null,
   "metadata": {
    "collapsed": false,
    "jupyter": {
     "outputs_hidden": false
    }
   },
   "outputs": [],
   "source": [
    "fig, ax = plt.subplot_mosaic(\n",
    "    '''\n",
    "    AB\n",
    "    ''',\n",
    "    figsize = (14, 4), \n",
    "    constrained_layout = True\n",
    ")\n",
    "\n",
    "fig.set_constrained_layout_pads(wspace = .10)\n",
    "\n",
    "\n",
    "ax['A'].set_xlabel(\"This is X\")\n",
    "ax['A'].set_ylabel(\"This is Y\")\n",
    "\n",
    "ax['A'].plot(my_x.value, my_y.value,\n",
    "           color = \"m\",\n",
    "           marker = \"o\",\n",
    "           linestyle = \"None\",\n",
    "           markersize = 10)\n",
    "\n",
    "ax['B'].set_xlabel(\"This is X\")\n",
    "ax['B'].set_ylabel(\"This is Normalized Y\")\n",
    "\n",
    "ax['B'].plot(my_x.value, y_normal.value,\n",
    "           color = \"m\",\n",
    "           marker = \"o\",\n",
    "           linestyle = \"None\",\n",
    "           markersize = 10);"
   ]
  },
  {
   "cell_type": "code",
   "execution_count": null,
   "metadata": {},
   "outputs": [],
   "source": []
  }
 ],
 "metadata": {
  "anaconda-cloud": {},
  "kernelspec": {
   "display_name": "Python 3 (ipykernel)",
   "language": "python",
   "name": "python3"
  },
  "language_info": {
   "codemirror_mode": {
    "name": "ipython",
    "version": 3
   },
   "file_extension": ".py",
   "mimetype": "text/x-python",
   "name": "python",
   "nbconvert_exporter": "python",
   "pygments_lexer": "ipython3",
   "version": "3.9.7"
  }
 },
 "nbformat": 4,
 "nbformat_minor": 4
}
