{
 "cells": [
  {
   "cell_type": "markdown",
   "metadata": {},
   "source": [
    "# Annotating plots - Gaia - CMD"
   ]
  },
  {
   "cell_type": "code",
   "execution_count": null,
   "metadata": {
    "collapsed": false,
    "jupyter": {
     "outputs_hidden": false
    }
   },
   "outputs": [],
   "source": [
    "import matplotlib.pyplot as plt\n",
    "import numpy as np\n",
    "\n",
    "from matplotlib.patches import Rectangle, Circle, Ellipse, Polygon\n",
    "\n",
    "from astropy.table import QTable\n",
    "from astropy import units as u\n",
    "\n",
    "from astroplan import Observer, FixedTarget\n",
    "from astropy.coordinates import SkyCoord\n",
    "from astroplan.plots import plot_finder_image\n",
    "\n",
    "from astroquery.gaia import Gaia\n",
    "\n",
    "import warnings\n",
    "warnings.filterwarnings(\"ignore\", category = UserWarning)"
   ]
  },
  {
   "cell_type": "markdown",
   "metadata": {},
   "source": [
    "### NGC 2682 (M 67) is a very well studied open star cluster in the northern skies\n",
    "\n",
    "- Right ascension: 08h 51.3m\n",
    "- Declination: +11° 49′"
   ]
  },
  {
   "cell_type": "code",
   "execution_count": null,
   "metadata": {},
   "outputs": [],
   "source": [
    "my_object_ra = '08h51.3m'\n",
    "my_object_dec = '+11d49m'\n",
    "\n",
    "my_object_name = 'NGC 2682'"
   ]
  },
  {
   "cell_type": "markdown",
   "metadata": {},
   "source": [
    "### Use `FixedTarget` from `astroplan` to get setup a target object.\n",
    "\n",
    "- #### `FixedTarget(coord = SkyCoord(ra = my_object_ra, dec = my_object_dec), name = NAME)`"
   ]
  },
  {
   "cell_type": "code",
   "execution_count": null,
   "metadata": {},
   "outputs": [],
   "source": [
    "my_target = FixedTarget(coord = SkyCoord(ra = my_object_ra, dec = my_object_dec), name = my_object_name)"
   ]
  },
  {
   "cell_type": "code",
   "execution_count": null,
   "metadata": {},
   "outputs": [],
   "source": [
    "my_target.coord"
   ]
  },
  {
   "cell_type": "code",
   "execution_count": null,
   "metadata": {},
   "outputs": [],
   "source": [
    "my_target.dec.degree"
   ]
  },
  {
   "cell_type": "code",
   "execution_count": null,
   "metadata": {},
   "outputs": [],
   "source": [
    "my_target.ra.degree"
   ]
  },
  {
   "cell_type": "code",
   "execution_count": null,
   "metadata": {},
   "outputs": [],
   "source": [
    "my_target.ra.hms"
   ]
  },
  {
   "cell_type": "markdown",
   "metadata": {},
   "source": [
    "#### We can use `plot_finder_image` to get an image of the object from the [ESO Online Digitized Sky Survey](http://archive.eso.org/dss/dss)."
   ]
  },
  {
   "cell_type": "code",
   "execution_count": null,
   "metadata": {},
   "outputs": [],
   "source": [
    "fig = plt.subplots(\n",
    "    figsize = (6, 6), \n",
    "    constrained_layout = True\n",
    ")\n",
    "\n",
    "ax, hdu = plot_finder_image(my_target, fov_radius= 0.4 * u.deg);"
   ]
  },
  {
   "cell_type": "markdown",
   "metadata": {},
   "source": [
    "## Get the the [Gaia data](https://www.cosmos.esa.int/web/gaia/dr3) for the object\n",
    "\n",
    "- Note the use of `f-string` and variables in the query\n",
    "- Gaia wants the object coordinates in degrees"
   ]
  },
  {
   "cell_type": "code",
   "execution_count": null,
   "metadata": {},
   "outputs": [],
   "source": [
    "my_query = f\"\"\"\n",
    "SELECT TOP 3000\n",
    "source_id, ra, dec, phot_g_mean_mag, bp_rp, parallax\n",
    "FROM gaiadr3.gaia_source_lite\n",
    "WHERE CONTAINS(\n",
    "   POINT('ICRS', {my_target.ra.degree}, {my_target.dec.degree}),\n",
    "   CIRCLE('ICRS', ra, dec, 0.3)\n",
    "   ) = 1\n",
    "AND parallax > 0.1\n",
    "AND bp_rp IS NOT NULL\n",
    "ORDER BY parallax DESC\n",
    "\"\"\""
   ]
  },
  {
   "cell_type": "code",
   "execution_count": null,
   "metadata": {},
   "outputs": [],
   "source": [
    "print(my_query)"
   ]
  },
  {
   "cell_type": "code",
   "execution_count": null,
   "metadata": {},
   "outputs": [],
   "source": [
    "my_job_query = Gaia.launch_job(my_query)"
   ]
  },
  {
   "cell_type": "code",
   "execution_count": null,
   "metadata": {},
   "outputs": [],
   "source": [
    "print(my_job_query)"
   ]
  },
  {
   "cell_type": "code",
   "execution_count": null,
   "metadata": {},
   "outputs": [],
   "source": [
    "my_table = my_job_query.get_results()"
   ]
  },
  {
   "cell_type": "code",
   "execution_count": null,
   "metadata": {},
   "outputs": [],
   "source": [
    "my_table[0:2]"
   ]
  },
  {
   "cell_type": "markdown",
   "metadata": {},
   "source": [
    "### Use `parallax` and `phot_g_mean_mag` to get **distance** and **absolute magnitude**\n",
    "\n",
    "- Add then as columns to the data table"
   ]
  },
  {
   "cell_type": "code",
   "execution_count": null,
   "metadata": {},
   "outputs": [],
   "source": [
    "my_table['distance'] = my_table['parallax'].to(u.parsec, equivalencies=u.parallax())"
   ]
  },
  {
   "cell_type": "code",
   "execution_count": null,
   "metadata": {},
   "outputs": [],
   "source": [
    "my_table[0:2]"
   ]
  },
  {
   "cell_type": "code",
   "execution_count": null,
   "metadata": {},
   "outputs": [],
   "source": [
    "def find_absmag(my_gmag, my_distance):\n",
    "    result = my_gmag - 5 * np.log10( my_distance / (10 * u.parsec)) * u.mag\n",
    "    return result"
   ]
  },
  {
   "cell_type": "code",
   "execution_count": null,
   "metadata": {},
   "outputs": [],
   "source": [
    "my_table['abs_g'] = find_absmag(my_table['phot_g_mean_mag'], my_table['distance']) * u.mag"
   ]
  },
  {
   "cell_type": "code",
   "execution_count": null,
   "metadata": {},
   "outputs": [],
   "source": [
    "my_table[0:2]"
   ]
  },
  {
   "cell_type": "markdown",
   "metadata": {},
   "source": [
    "## Plot a histogram of the distances\n",
    "\n",
    "- All the stars in the cluster should have the same distance\n",
    "- Objects not in the cluster will have different distances"
   ]
  },
  {
   "cell_type": "code",
   "execution_count": null,
   "metadata": {},
   "outputs": [],
   "source": [
    "fig, ax = plt.subplot_mosaic(\n",
    "    '''\n",
    "    AB\n",
    "    ''',\n",
    "    figsize = (12, 4), \n",
    "    constrained_layout = True\n",
    ")\n",
    "\n",
    "ax['A'].set_xlabel(\"Distance (pc)\")\n",
    "ax['A'].set_ylabel(\"Number\")\n",
    "\n",
    "ax['A'].hist(my_table['distance'],\n",
    "        bins = 100,\n",
    "        histtype = 'stepfilled',\n",
    "        facecolor = 'MediumOrchid')\n",
    "\n",
    "ax['B'].set_xlim(0, 2000)\n",
    "\n",
    "ax['B'].set_xlabel(\"Distance (pc)\")\n",
    "ax['B'].set_ylabel(\"Number\")\n",
    "\n",
    "ax['B'].hist(my_table['distance'],\n",
    "        bins = 100,\n",
    "        histtype = 'stepfilled',\n",
    "        facecolor = 'MediumOrchid');"
   ]
  },
  {
   "cell_type": "markdown",
   "metadata": {},
   "source": [
    "## Pretty easy to see the cluster's distance\n",
    "\n",
    "- We will use distances between 750 pc and 1000 pc for cluster stars\n",
    "- The cluster distance from the literature is 800 - 900 pc, so these values seems fine."
   ]
  },
  {
   "cell_type": "code",
   "execution_count": null,
   "metadata": {},
   "outputs": [],
   "source": [
    "my_cluster_table = my_table[(my_table['distance'] > 750) &\n",
    "                            (my_table['distance'] < 1000)\n",
    "                           ]"
   ]
  },
  {
   "cell_type": "code",
   "execution_count": null,
   "metadata": {},
   "outputs": [],
   "source": [
    "len(my_cluster_table) / len(my_table)"
   ]
  },
  {
   "cell_type": "markdown",
   "metadata": {},
   "source": [
    "## Make a color magnitude diagram (CMD) of the object\n",
    "\n",
    "\n",
    "Color Magnitude Diagram (CMD) is a plot of Color Index vs. Magnitude. This is just a HR-diagram with a change of units.\n",
    "\n",
    "Some things we have to keep in mind when making a CMD\n",
    "\n",
    "- Color Index (X-axis) cover a very small range of values, we will need to adjust our axes accordingly.\n",
    "- Magnitudes (Y-axis) are backwards, we will need to adjust our axes accordingly."
   ]
  },
  {
   "cell_type": "markdown",
   "metadata": {},
   "source": [
    "#### `np.ptp()` returns the range of values (max - min) for an array (*P*eak *T*o *P*eak)"
   ]
  },
  {
   "cell_type": "code",
   "execution_count": null,
   "metadata": {},
   "outputs": [],
   "source": [
    "np.ptp(my_cluster_table['bp_rp'])"
   ]
  },
  {
   "cell_type": "code",
   "execution_count": null,
   "metadata": {},
   "outputs": [],
   "source": [
    "np.ptp(my_cluster_table['abs_g'])"
   ]
  },
  {
   "cell_type": "code",
   "execution_count": null,
   "metadata": {},
   "outputs": [],
   "source": [
    "fig, ax = plt.subplots(\n",
    "    figsize = (15, 15), \n",
    "    constrained_layout = True\n",
    ")\n",
    "\n",
    "# Color Index cover a very small range of values\n",
    "# Make 1 unit in X = 4 units in Y\n",
    "\n",
    "ax.set_aspect(1 / 4)\n",
    "\n",
    "# Magnitudes are backwards\n",
    "\n",
    "ax.set_ylim(-2.5,13)\n",
    "ax.invert_yaxis()\n",
    "\n",
    "###\n",
    "\n",
    "ax.set_xlabel(\"BP - RP\",\n",
    "              fontfamily = 'serif',\n",
    "              fontsize = 25)\n",
    "\n",
    "ax.set_ylabel(r\"$G_{M}$\",\n",
    "              fontfamily = 'serif',\n",
    "              fontsize = 25)\n",
    "\n",
    "ax.set_title(f\"{my_target.name}\",\n",
    "             fontfamily = 'serif',\n",
    "             fontsize = 30)\n",
    "\n",
    "### Plot Data ###\n",
    "\n",
    "ax.plot(my_cluster_table['bp_rp'], my_cluster_table['abs_g'],\n",
    "        color = \"#4C0B5F\",\n",
    "        marker = \"o\",\n",
    "        linestyle = \"None\",\n",
    "        markersize = 5\n",
    "       );"
   ]
  },
  {
   "cell_type": "markdown",
   "metadata": {},
   "source": [
    "---\n",
    "\n",
    "# Annotate your plots with `annotate()`\n",
    "\n",
    "### There are 4 parameters that you use with `annotate()`.\n",
    "\n",
    "- `text` : the text label (string).\n",
    "- `xy = (X, Y)` : The coordinates (X, Y) where you want your arrowhead to point to.\n",
    "- `xytext = (X, Y)` : The coordinates (X, Y) where you want your `text` to display.\n",
    "- `arrowprops` : A dictionary of key-value pairs which define various properties for the arrow, such as color, size and arrowhead type.\n",
    "  - [List of Matplotlib Arrowstyles](https://coderslegacy.com/python/matplotlib-customize-arrowstyles/)\n",
    "  - [List of Matplotlib Arrowprops](https://coderslegacy.com/python/matplotlib-arrowprops/)\n",
    "  \n",
    "---"
   ]
  },
  {
   "cell_type": "code",
   "execution_count": null,
   "metadata": {},
   "outputs": [],
   "source": [
    "fig, ax = plt.subplots(\n",
    "    figsize = (15, 15), \n",
    "    constrained_layout = True\n",
    ")\n",
    "\n",
    "# Color Index cover a very small range of values\n",
    "# Make 1 unit in X = 4 units in Y\n",
    "\n",
    "ax.set_aspect(1/4)\n",
    "\n",
    "# Magnitudes are backwards\n",
    "\n",
    "ax.set_ylim(-2.5,13)\n",
    "ax.invert_yaxis()\n",
    "\n",
    "###\n",
    "\n",
    "ax.set_xlabel(\"BP - RP\",\n",
    "              fontfamily = 'serif',\n",
    "              fontsize = 25)\n",
    "\n",
    "ax.set_ylabel(r\"$G_{M}$\",\n",
    "              fontfamily = 'serif',\n",
    "              fontsize = 25)\n",
    "\n",
    "ax.set_title(f\"{my_target.name}\",\n",
    "             fontfamily = 'serif',\n",
    "             fontsize = 30)\n",
    "\n",
    "### Plot Data ###\n",
    "\n",
    "ax.plot(my_cluster_table['bp_rp'], my_cluster_table['abs_g'],\n",
    "        color = \"#4C0B5F\",\n",
    "        marker = \"o\",\n",
    "        linestyle = \"None\",\n",
    "        markersize = 5)\n",
    "\n",
    "# Sun (BP-RP = 0.82,  G_M = 4.67)\n",
    "        \n",
    "ax.plot(0.82, 4.67,\n",
    "        color = \"DarkOrange\",\n",
    "        marker = \"*\",\n",
    "        linestyle = \"None\",\n",
    "        markersize = 30\n",
    "       )\n",
    "\n",
    "### Text Annotation ###\n",
    "\n",
    "ax.annotate('Main Sequence',\n",
    "             fontsize = 25,\n",
    "             color = 'green',\n",
    "             xy = (2.0, 7.0),\n",
    "             xytext = (2.0, 5.0),\n",
    "             arrowprops = {'color' : 'green',\n",
    "                           'linewidth' : 4,\n",
    "                           'arrowstyle' : '->, head_length = 0.8, head_width = 0.5'}\n",
    "           )\n",
    "\n",
    "ax.annotate('Red Giant\\nBranch',\n",
    "             fontsize = 25,\n",
    "             color = 'red',\n",
    "             xy = (1.3, 1.5),\n",
    "             xytext = (1.7, 0.0),\n",
    "             arrowprops = {'color' : 'red',\n",
    "                           'linewidth' : 4,\n",
    "                           'arrowstyle' : '-|>, head_length = 0.8, head_width = 0.3',\n",
    "                           'connectionstyle' : 'angle3'}\n",
    "           )\n",
    "\n",
    "ax.annotate('Sun',\n",
    "             fontsize = 25,\n",
    "             color = 'DarkOrange',\n",
    "             xy = (0.75, 4.67),\n",
    "             xytext = (0.3, 6.0),\n",
    "             arrowprops = {'color' : 'DarkOrange',\n",
    "                           'linewidth' : 4,\n",
    "                           'arrowstyle' : '-|>, head_length = 0.8, head_width = 0.3',\n",
    "                           'connectionstyle' : 'angle3'}\n",
    "           );"
   ]
  },
  {
   "cell_type": "markdown",
   "metadata": {},
   "source": [
    "---\n",
    "\n",
    "# Annotate your plots with Shapes\n",
    "\n",
    "\n",
    "### [Drawing Shapes with Matplotlib Patches](https://coderslegacy.com/python/drawing-shapes-matplotlib-patches/)\n",
    "---"
   ]
  },
  {
   "cell_type": "markdown",
   "metadata": {},
   "source": [
    "### `Ellipse((center), width, height, angle=0.0, **kwargs)`"
   ]
  },
  {
   "cell_type": "markdown",
   "metadata": {},
   "source": [
    "### `Rectangle((x,y), width, height, angle=0.0, rotation_point='xy', **kwargs)`"
   ]
  },
  {
   "cell_type": "raw",
   "metadata": {},
   "source": [
    "      +------------------+\n",
    "      |                  |\n",
    "    height               \n",
    "      |                  |\n",
    "     (xy)---- width -----+"
   ]
  },
  {
   "cell_type": "code",
   "execution_count": null,
   "metadata": {},
   "outputs": [],
   "source": [
    "fig, ax = plt.subplots(\n",
    "    figsize = (15, 15), \n",
    "    constrained_layout = True\n",
    ")\n",
    "\n",
    "# Color Index cover a very small range of values\n",
    "# Make 1 unit in X = 4 units in Y\n",
    "\n",
    "ax.set_aspect(1/4)\n",
    "\n",
    "# Magnitudes are backwards\n",
    "\n",
    "ax.set_ylim(-2.5,13)\n",
    "ax.invert_yaxis()\n",
    "\n",
    "###\n",
    "\n",
    "ax.set_xlabel(\"BP - RP\",\n",
    "              fontfamily = 'serif',\n",
    "              fontsize = 25)\n",
    "\n",
    "ax.set_ylabel(r\"$G_{M}$\",\n",
    "              fontfamily = 'serif',\n",
    "              fontsize = 25)\n",
    "\n",
    "ax.set_title(f\"{my_target.name}\",\n",
    "             fontfamily = 'serif',\n",
    "             fontsize = 30)\n",
    "\n",
    "### Plot Data ###\n",
    "\n",
    "ax.plot(my_cluster_table['bp_rp'], my_cluster_table['abs_g'],\n",
    "        color = \"#4C0B5F\",\n",
    "        marker = \"o\",\n",
    "        linestyle = \"None\",\n",
    "        markersize = 5)\n",
    "\n",
    "# Sun (BP-RP = 0.82,  G_M = 4.67)\n",
    "        \n",
    "ax.plot(0.82, 4.67,\n",
    "        color = \"DarkOrange\",\n",
    "        marker = \"*\",\n",
    "        linestyle = \"None\",\n",
    "        markersize = 30\n",
    "       )\n",
    "\n",
    "### Text Annotation ###\n",
    "\n",
    "ax.annotate('Main Sequence',\n",
    "             fontsize = 25,\n",
    "             color = 'green',\n",
    "             xy = (2.0, 7.0),\n",
    "             xytext = (2.0, 5.0),\n",
    "             arrowprops = {'color' : 'green',\n",
    "                           'linewidth' : 4,\n",
    "                           'arrowstyle' : '->, head_length = 0.8, head_width = 0.5'}\n",
    "           )\n",
    "\n",
    "ax.annotate('Red Giant\\nBranch',\n",
    "             fontsize = 25,\n",
    "             color = 'red',\n",
    "             xy = (1.3, 1.5),\n",
    "             xytext = (1.7, 0.0),\n",
    "             arrowprops = {'color' : 'red',\n",
    "                           'linewidth' : 4,\n",
    "                           'arrowstyle' : '-|>, head_length = 0.8, head_width = 0.3',\n",
    "                           'connectionstyle' : 'angle3'}\n",
    "           )\n",
    "\n",
    "ax.annotate('Sun',\n",
    "             fontsize = 25,\n",
    "             color = 'DarkOrange',\n",
    "             xy = (0.75, 4.67),\n",
    "             xytext = (0.3, 6.0),\n",
    "             arrowprops = {'color' : 'DarkOrange',\n",
    "                           'linewidth' : 4,\n",
    "                           'arrowstyle' : '-|>, head_length = 0.8, head_width = 0.3',\n",
    "                           'connectionstyle' : 'angle3'}\n",
    "           )\n",
    "\n",
    "### Shape Annotation ###\n",
    "\n",
    "my_shape_one = Ellipse((0.35, 2.0),\n",
    "                       width = 0.75,\n",
    "                       height = 2.85,\n",
    "                       angle = 0,\n",
    "                       color = (0, 0, 0.7, 0.2))\n",
    "\n",
    "ax.add_patch(my_shape_one)\n",
    "\n",
    "ax.text(-0.1, 0.4,\n",
    "       'Blue Stragglers',\n",
    "        color = (0, 0, 0.7, 0.5),\n",
    "        fontsize = 24)\n",
    "\n",
    "my_shape_two = Rectangle((-0.6, 13.0),\n",
    "                       width = 1.5,\n",
    "                       height = -3.0,\n",
    "                       angle = 0,\n",
    "                       color = (0.7, 0, 0.0, 0.5))\n",
    "\n",
    "ax.add_patch(my_shape_two)\n",
    "\n",
    "ax.text(-0.5, 12.5,\n",
    "       'White Dwarfs(?)',\n",
    "        color = (0.7, 0, 0.0),\n",
    "        fontsize = 24);"
   ]
  },
  {
   "cell_type": "code",
   "execution_count": null,
   "metadata": {},
   "outputs": [],
   "source": []
  }
 ],
 "metadata": {
  "anaconda-cloud": {},
  "kernelspec": {
   "display_name": "Python 3 (ipykernel)",
   "language": "python",
   "name": "python3"
  },
  "language_info": {
   "codemirror_mode": {
    "name": "ipython",
    "version": 3
   },
   "file_extension": ".py",
   "mimetype": "text/x-python",
   "name": "python",
   "nbconvert_exporter": "python",
   "pygments_lexer": "ipython3",
   "version": "3.9.7"
  }
 },
 "nbformat": 4,
 "nbformat_minor": 4
}
