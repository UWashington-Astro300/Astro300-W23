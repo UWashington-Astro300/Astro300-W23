{
 "cells": [
  {
   "cell_type": "markdown",
   "metadata": {},
   "source": [
    "# Planning observations with `astroplan`"
   ]
  },
  {
   "cell_type": "code",
   "execution_count": null,
   "metadata": {
    "collapsed": false,
    "jupyter": {
     "outputs_hidden": false
    }
   },
   "outputs": [],
   "source": [
    "import matplotlib.pyplot as plt\n",
    "\n",
    "import numpy as np\n",
    "import astropy.units as u\n",
    "from astropy.time import Time\n",
    "import pytz\n",
    "\n",
    "from astroplan.plots import plot_airmass\n",
    "from astroplan import Observer, FixedTarget, time_grid_from_range\n",
    "from astroplan.plots import plot_finder_image"
   ]
  },
  {
   "cell_type": "markdown",
   "metadata": {},
   "source": [
    "---\n",
    "# Time and Dates\n",
    "\n",
    "<img src=\"https://uwashington-astro300.github.io/A300_images/UTC2.jpg\" width=\"300\"/>\n",
    "\n",
    "- ### All dates and times in are UTC: *Coordinated Universal Time*\n",
    "- All `Time` calculation assume that the time is UTC.\n",
    "- UTC does not change with a change of seasons.\n",
    "- UTC is the time standard for aviation, weather forecasts, the International Space Station, and Amateur radio operators .\n",
    "- Time will default to 00:00:00 UTC."
   ]
  },
  {
   "cell_type": "code",
   "execution_count": null,
   "metadata": {
    "collapsed": false,
    "jupyter": {
     "outputs_hidden": false
    }
   },
   "outputs": [],
   "source": [
    "my_date = Time(\"2023-02-15 21:40\")\n",
    "\n",
    "my_date"
   ]
  },
  {
   "cell_type": "code",
   "execution_count": null,
   "metadata": {
    "collapsed": false,
    "jupyter": {
     "outputs_hidden": false
    }
   },
   "outputs": [],
   "source": [
    "my_date.iso"
   ]
  },
  {
   "cell_type": "code",
   "execution_count": null,
   "metadata": {
    "collapsed": false,
    "jupyter": {
     "outputs_hidden": false
    }
   },
   "outputs": [],
   "source": [
    "f\"The value of my_date is {my_date.iso}\""
   ]
  },
  {
   "cell_type": "markdown",
   "metadata": {},
   "source": [
    "### Different Date Formats"
   ]
  },
  {
   "cell_type": "code",
   "execution_count": null,
   "metadata": {
    "collapsed": false,
    "jupyter": {
     "outputs_hidden": false
    }
   },
   "outputs": [],
   "source": [
    "print(f\"The Julian Date is {my_date.jd:.2f}\")\n",
    "\n",
    "print(f\"The Modified Julian Date is {my_date.mjd:.2f}\")\n",
    "\n",
    "print(f\"The unix Epoch is {my_date.unix:.2f}\")  # Seconds since (Jan 01, 1970 00:00:00 UTC)\n",
    "\n",
    "print(f\"The fraction of a year is {my_date.decimalyear:.2f}\")"
   ]
  },
  {
   "cell_type": "code",
   "execution_count": null,
   "metadata": {},
   "outputs": [],
   "source": [
    "my_date.ymdhms"
   ]
  },
  {
   "cell_type": "code",
   "execution_count": null,
   "metadata": {},
   "outputs": [],
   "source": [
    "print(\n",
    "    f\"This is the {my_date.ymdhms[2]} day of the {my_date.ymdhms[1]} month of the year {my_date.ymdhms[0]} \"\n",
    "    f\"at a time of {my_date.ymdhms[3]} hours, {my_date.ymdhms[4]} minutes, and {my_date.ymdhms[5]} seconds UTC\"\n",
    ")"
   ]
  },
  {
   "cell_type": "markdown",
   "metadata": {},
   "source": [
    "---\n",
    "\n",
    "### [Accurate Time](https://www.ucolick.org/~sla/leapsecs/amsci.html) - `UT1`\n",
    "\n",
    "* `AstroPy` calculates the times of events to a very high accuracy.\n",
    "* Earth's rotation period is constantly changing due to tidal forces and changes in the Earth's moment of inertia.\n",
    "* `AstroPy` uses a time convention called `UT1`.\n",
    "* `UT1` is constanly changing with repect to `UTC`.\n",
    "* This system is tied to the rotation of the Earth with repect to the positions of distant quasars (International Celestial Reference Frame).\n",
    "\n",
    "[`UT1` is not really a time, it’s a way to express the Earth’s rotation angle and it should not be thought of as a real time scale](http://mperdikeas.github.io/utc-vs-ut1-time.html)\n",
    "\n",
    "The orientation of the Earth, which must be measured continuously to keep `UT1` accurate. This measurement is logged by the International Earth Rotation and Reference Systems Service (IERS). They publish a \"bulletin\" with the most recent measurements of the Earth's orientation. This bulletin is constantly being updated.\n",
    "\n",
    "You will run into occasions when you will get a warning that your dates are out of range of the IERS bulletin. To update the bulletin, run the follow block of code (this can take a while to run - so be patient):\n",
    "\n",
    "---"
   ]
  },
  {
   "cell_type": "code",
   "execution_count": null,
   "metadata": {
    "collapsed": false,
    "jupyter": {
     "outputs_hidden": false
    }
   },
   "outputs": [],
   "source": [
    "from astroplan import download_IERS_A\n",
    "download_IERS_A()"
   ]
  },
  {
   "cell_type": "code",
   "execution_count": null,
   "metadata": {},
   "outputs": [],
   "source": [
    "my_date.ut1"
   ]
  },
  {
   "cell_type": "code",
   "execution_count": null,
   "metadata": {},
   "outputs": [],
   "source": [
    "my_date"
   ]
  },
  {
   "cell_type": "markdown",
   "metadata": {},
   "source": [
    "---\n",
    "# Places\n",
    "\n",
    "<img src=\"https://uwashington-astro300.github.io/A300_images/LatLon.jpg\" width=\"400\"/>\n",
    "\n",
    "## Setting your location - `Observer`\n",
    "\n",
    "* `longitude` and `latitude` - any angular unit\n",
    "  * `longitude` - measured East/West from Prime Meridian (+180 deg to -180 deg)\n",
    "  * `latitude` - measured North/South from Equator (+90 deg to -90 deg)\n",
    "* `timezone` - see below\n",
    "* `name` - any string\n",
    "\n",
    "#### `longitude` and `latitude` can take any angular unit, not just the examples I show below!\n",
    "\n",
    "- I like decimal degrees as they are harder to mess up."
   ]
  },
  {
   "cell_type": "code",
   "execution_count": null,
   "metadata": {
    "collapsed": false,
    "jupyter": {
     "outputs_hidden": false
    }
   },
   "outputs": [],
   "source": [
    "computer_room = Observer(longitude = -122.311473 * u.deg,\n",
    "                         latitude = 47 * u.deg + 39 * u.arcmin + 15 * u.arcsec,\n",
    "                         timezone = 'US/Pacific',\n",
    "                         name = \"UW Astro Computer Lab\"\n",
    "                        )"
   ]
  },
  {
   "cell_type": "code",
   "execution_count": null,
   "metadata": {
    "collapsed": false,
    "jupyter": {
     "outputs_hidden": false
    }
   },
   "outputs": [],
   "source": [
    "computer_room"
   ]
  },
  {
   "cell_type": "code",
   "execution_count": null,
   "metadata": {
    "collapsed": false,
    "jupyter": {
     "outputs_hidden": false
    }
   },
   "outputs": [],
   "source": [
    "computer_room.name"
   ]
  },
  {
   "cell_type": "markdown",
   "metadata": {},
   "source": [
    "## Note about negative values for latitude and longitude\n",
    "\n",
    "* If you use decimal degrees, this format is good: `longitude = -122.311473 * u.deg`\n",
    "* If you are using deg, min, sec, make sure to use `()`: `longitude = -(122 * u.deg + 18 * u.arcmin + 38.5 * u.arcsec)`\n",
    "  * Note the `-` outside the `()`"
   ]
  },
  {
   "cell_type": "markdown",
   "metadata": {},
   "source": [
    "---\n",
    "## Working with timezones (local time)\n",
    "\n",
    "* [Timezone List](https://en.wikipedia.org/wiki/List_of_tz_database_time_zones)\n",
    "* Use the name in the **TZ database name** column.\n",
    "* Only use timezone conversions for printouts, NEVER calculations!\n",
    "* If you cannot find the exact timezone but know the offset from GMT use: `Etc/GMT(+/-)OFFSET` - (Example: `Etc/GMT-8`)\n",
    "* Working with tomezones is a [quick path to maddness!](https://xkcd.com/1883/)"
   ]
  },
  {
   "cell_type": "code",
   "execution_count": null,
   "metadata": {
    "collapsed": false,
    "jupyter": {
     "outputs_hidden": false
    }
   },
   "outputs": [],
   "source": [
    "computer_room.timezone"
   ]
  },
  {
   "cell_type": "code",
   "execution_count": null,
   "metadata": {
    "collapsed": false,
    "jupyter": {
     "outputs_hidden": false
    }
   },
   "outputs": [],
   "source": [
    "local_now = my_date.to_datetime(computer_room.timezone)\n",
    "\n",
    "print(local_now)"
   ]
  },
  {
   "cell_type": "markdown",
   "metadata": {},
   "source": [
    "---\n",
    "\n",
    "## Information at your location\n",
    "\n",
    "<img src=\"https://uwashington-astro300.github.io/A300_images/SunNoon.jpg\" width=\"300\"/>\n",
    "\n",
    "### `noon` - output: UTC datetime of noon at your location\n",
    "\n",
    "* `LOCATION.noon(DATE, WHICH)`\n",
    "* `DATE` : Time of observation\n",
    "* `WHICH`: Choose which noon relative to the present `DATE` would you like to calculate:\n",
    "  * next\n",
    "  * previous\n",
    "  * nearest"
   ]
  },
  {
   "cell_type": "code",
   "execution_count": null,
   "metadata": {
    "collapsed": false,
    "jupyter": {
     "outputs_hidden": false
    }
   },
   "outputs": [],
   "source": [
    "my_noon = computer_room.noon(my_date, which = \"previous\")"
   ]
  },
  {
   "cell_type": "code",
   "execution_count": null,
   "metadata": {
    "collapsed": false,
    "jupyter": {
     "outputs_hidden": false
    }
   },
   "outputs": [],
   "source": [
    "my_noon"
   ]
  },
  {
   "cell_type": "code",
   "execution_count": null,
   "metadata": {
    "collapsed": false,
    "jupyter": {
     "outputs_hidden": false
    }
   },
   "outputs": [],
   "source": [
    "print(my_noon.to_datetime(computer_room.timezone))"
   ]
  },
  {
   "cell_type": "markdown",
   "metadata": {},
   "source": [
    "---\n",
    "\n",
    "### `midnight` = anti-noon\n",
    "\n",
    "* Since we know `noon` we know the midnight we want is `next`"
   ]
  },
  {
   "cell_type": "code",
   "execution_count": null,
   "metadata": {},
   "outputs": [],
   "source": [
    "my_midnight = computer_room.midnight(my_noon, which='next')"
   ]
  },
  {
   "cell_type": "code",
   "execution_count": null,
   "metadata": {},
   "outputs": [],
   "source": [
    "my_midnight"
   ]
  },
  {
   "cell_type": "code",
   "execution_count": null,
   "metadata": {},
   "outputs": [],
   "source": [
    "print(my_midnight.to_datetime(computer_room.timezone))"
   ]
  },
  {
   "cell_type": "markdown",
   "metadata": {},
   "source": [
    "---\n",
    "\n",
    "## Side topic - Local Sidereal Time (LST)\n",
    "\n",
    "* LST is the Right Ascension (RA) on the meridian (above your head) at your **location** at your current **time**\n",
    "* `LST(location, time)`\n",
    "* LST is measured in hours (0h - 24h)"
   ]
  },
  {
   "cell_type": "markdown",
   "metadata": {},
   "source": [
    "### The LST in the computer room at midnight is:"
   ]
  },
  {
   "cell_type": "code",
   "execution_count": null,
   "metadata": {},
   "outputs": [],
   "source": [
    "computer_room.local_sidereal_time(my_midnight)"
   ]
  },
  {
   "cell_type": "markdown",
   "metadata": {},
   "source": [
    "### You can then look at a [star chart](https://tobyrsmith.github.io/images/StarChart.jpg) to see what is up"
   ]
  },
  {
   "cell_type": "markdown",
   "metadata": {
    "tags": []
   },
   "source": [
    "---\n",
    "\n",
    "### `tonight` - output `[UTC datetime sunset, UTC datetime sunrise]`\n",
    "\n",
    "* `LOCATION.tonight(TIME, HORIZON)`\n",
    "  * The `TIME` has to be before local sunset!\n",
    "  * `HORIZON`: Sun position above/below horizon to use for calculating set/rise time"
   ]
  },
  {
   "cell_type": "code",
   "execution_count": null,
   "metadata": {
    "collapsed": false,
    "jupyter": {
     "outputs_hidden": false
    }
   },
   "outputs": [],
   "source": [
    "tonight_here = computer_room.tonight(my_noon, horizon = 0 * u.deg)"
   ]
  },
  {
   "cell_type": "code",
   "execution_count": null,
   "metadata": {
    "collapsed": false,
    "jupyter": {
     "outputs_hidden": false
    }
   },
   "outputs": [],
   "source": [
    "tonight_here"
   ]
  },
  {
   "cell_type": "code",
   "execution_count": null,
   "metadata": {
    "collapsed": false,
    "jupyter": {
     "outputs_hidden": false
    }
   },
   "outputs": [],
   "source": [
    "print(f\"Sunset will be at {tonight_here[0].iso} UTC\")\n",
    "print(f\"Sunrise will be at {tonight_here[1].iso} UTC\")"
   ]
  },
  {
   "cell_type": "code",
   "execution_count": null,
   "metadata": {
    "collapsed": false,
    "jupyter": {
     "outputs_hidden": false
    }
   },
   "outputs": [],
   "source": [
    "local_sunset = tonight_here[0].to_datetime(computer_room.timezone)\n",
    "local_sunrise = tonight_here[1].to_datetime(computer_room.timezone)\n",
    "\n",
    "print(f\"Sunset will be at {local_sunset} local time\")\n",
    "print(f\"Sunrise will be at {local_sunrise} local time\")"
   ]
  },
  {
   "cell_type": "markdown",
   "metadata": {},
   "source": [
    "---\n",
    "\n",
    "### Astronomical twilight is when the Sun is 18 degrees below the horizon\n",
    "\n",
    "* This is often the time to begin/end observation"
   ]
  },
  {
   "cell_type": "code",
   "execution_count": null,
   "metadata": {
    "collapsed": false,
    "jupyter": {
     "outputs_hidden": false
    }
   },
   "outputs": [],
   "source": [
    "observe_night = computer_room.tonight(my_noon, horizon = -18 * u.deg)"
   ]
  },
  {
   "cell_type": "code",
   "execution_count": null,
   "metadata": {
    "collapsed": false,
    "jupyter": {
     "outputs_hidden": false
    }
   },
   "outputs": [],
   "source": [
    "print(f\"Start observations tonight at {observe_night[0].iso} UTC\")\n",
    "print(f\"End observations tonight at {observe_night[1].iso} UTC\")"
   ]
  },
  {
   "cell_type": "code",
   "execution_count": null,
   "metadata": {
    "collapsed": false,
    "jupyter": {
     "outputs_hidden": false
    }
   },
   "outputs": [],
   "source": [
    "observing_length = (observe_night[1] - observe_night[0]).to(u.h)\n",
    "\n",
    "print(f\"You can observe for {observing_length:.1f} tonight\")"
   ]
  },
  {
   "cell_type": "code",
   "execution_count": null,
   "metadata": {
    "collapsed": false,
    "jupyter": {
     "outputs_hidden": false
    }
   },
   "outputs": [],
   "source": [
    "# Local Times\n",
    "\n",
    "print(f\"Tonight's observing starts at {observe_night[0].to_datetime(computer_room.timezone)} local time\")\n",
    "print(f\"Tonight's observing ends at {observe_night[1].to_datetime(computer_room.timezone)} local time\")"
   ]
  },
  {
   "cell_type": "markdown",
   "metadata": {},
   "source": [
    "---\n",
    "### [There is lots of information available for your location](https://astroplan.readthedocs.io/en/latest/api/astroplan.Observer.html)\n"
   ]
  },
  {
   "cell_type": "code",
   "execution_count": null,
   "metadata": {
    "collapsed": false,
    "jupyter": {
     "outputs_hidden": false
    }
   },
   "outputs": [],
   "source": [
    "computer_room.is_night(my_noon)"
   ]
  },
  {
   "cell_type": "code",
   "execution_count": null,
   "metadata": {
    "collapsed": false,
    "jupyter": {
     "outputs_hidden": false
    }
   },
   "outputs": [],
   "source": [
    "computer_room.sun_altaz(my_noon)"
   ]
  },
  {
   "cell_type": "code",
   "execution_count": null,
   "metadata": {
    "tags": []
   },
   "outputs": [],
   "source": [
    "computer_room.moon_illumination(my_midnight)"
   ]
  },
  {
   "cell_type": "markdown",
   "metadata": {
    "tags": []
   },
   "source": [
    "---\n",
    "# Things\n",
    "\n",
    "## Objects in the sky - `FixedTarget`"
   ]
  },
  {
   "cell_type": "code",
   "execution_count": null,
   "metadata": {
    "collapsed": false,
    "jupyter": {
     "outputs_hidden": false
    }
   },
   "outputs": [],
   "source": [
    "my_target_one = FixedTarget.from_name(\"M101\")"
   ]
  },
  {
   "cell_type": "code",
   "execution_count": null,
   "metadata": {},
   "outputs": [],
   "source": [
    "fig = plt.subplots(\n",
    "    figsize = (6, 6), \n",
    "    constrained_layout = True\n",
    ")\n",
    "\n",
    "ax, hdu = plot_finder_image(my_target_one, fov_radius= 0.5 * u.deg);"
   ]
  },
  {
   "cell_type": "markdown",
   "metadata": {},
   "source": [
    "### Can you see the object at midnight tonight?"
   ]
  },
  {
   "cell_type": "code",
   "execution_count": null,
   "metadata": {
    "collapsed": false,
    "jupyter": {
     "outputs_hidden": false
    }
   },
   "outputs": [],
   "source": [
    "computer_room.target_is_up(my_midnight, my_target_one)"
   ]
  },
  {
   "cell_type": "markdown",
   "metadata": {},
   "source": [
    "---\n",
    "## Where in the sky?\n",
    "\n",
    "<img src=\"https://uwashington-astro300.github.io/A300_images/AltAz.gif\" width=\"350\"/>\n",
    "\n",
    "* Altitude (Alt) - Degrees above horizon\n",
    "* Azimuth (Az) - Compass degrees from North\n",
    "* `LOCATION.altaz(TIME, TARGET)`\n"
   ]
  },
  {
   "cell_type": "code",
   "execution_count": null,
   "metadata": {
    "collapsed": false,
    "jupyter": {
     "outputs_hidden": false
    }
   },
   "outputs": [],
   "source": [
    "where_to_look = computer_room.altaz(my_midnight, my_target_one)"
   ]
  },
  {
   "cell_type": "code",
   "execution_count": null,
   "metadata": {
    "collapsed": false,
    "jupyter": {
     "outputs_hidden": false
    }
   },
   "outputs": [],
   "source": [
    "where_to_look.alt"
   ]
  },
  {
   "cell_type": "code",
   "execution_count": null,
   "metadata": {
    "collapsed": false,
    "jupyter": {
     "outputs_hidden": false
    }
   },
   "outputs": [],
   "source": [
    "where_to_look.az"
   ]
  },
  {
   "cell_type": "markdown",
   "metadata": {},
   "source": [
    "---\n",
    "\n",
    "### [Air Mass](https://en.wikipedia.org/wiki/Air_mass_%28astronomy%29) is the optical path length through Earth’s atmosphere. \n",
    "\n",
    "<img src=\"https://uwashington-astro300.github.io/A300_images/Airmass.png\" width=\"200\"/>\n",
    "\n",
    "* At sea-level, the air mass at the zenith is 1. \n",
    "* Air mass increases as you move toward the horizon.\n",
    "* Air mass at the horizon is approximately 38.\n",
    "* The best time to observe a target is at minimum airmass.\n",
    "* When the airmass of your target is getting close to 2, you should be observing another target."
   ]
  },
  {
   "cell_type": "code",
   "execution_count": null,
   "metadata": {
    "collapsed": false,
    "jupyter": {
     "outputs_hidden": false
    }
   },
   "outputs": [],
   "source": [
    "# You can find the airmass by using the .secz method\n",
    "\n",
    "where_to_look.secz"
   ]
  },
  {
   "cell_type": "markdown",
   "metadata": {},
   "source": [
    "##### Airmass < 2, you are good to go."
   ]
  },
  {
   "cell_type": "markdown",
   "metadata": {},
   "source": [
    "### Not all targets can (or should) be observed at all locations"
   ]
  },
  {
   "cell_type": "code",
   "execution_count": null,
   "metadata": {
    "collapsed": false,
    "jupyter": {
     "outputs_hidden": false
    }
   },
   "outputs": [],
   "source": [
    "my_target_two = FixedTarget.from_name(\"Sirius\")"
   ]
  },
  {
   "cell_type": "code",
   "execution_count": null,
   "metadata": {
    "collapsed": false,
    "jupyter": {
     "outputs_hidden": false
    }
   },
   "outputs": [],
   "source": [
    "computer_room.target_is_up(my_midnight, my_target_two)"
   ]
  },
  {
   "cell_type": "code",
   "execution_count": null,
   "metadata": {
    "collapsed": false,
    "jupyter": {
     "outputs_hidden": false
    }
   },
   "outputs": [],
   "source": [
    "where_to_look_two = computer_room.altaz(my_midnight, my_target_two)"
   ]
  },
  {
   "cell_type": "code",
   "execution_count": null,
   "metadata": {
    "collapsed": false,
    "jupyter": {
     "outputs_hidden": false
    }
   },
   "outputs": [],
   "source": [
    "where_to_look_two.alt, where_to_look_two.az"
   ]
  },
  {
   "cell_type": "code",
   "execution_count": null,
   "metadata": {
    "collapsed": false,
    "jupyter": {
     "outputs_hidden": false
    }
   },
   "outputs": [],
   "source": [
    "where_to_look_two.secz"
   ]
  },
  {
   "cell_type": "markdown",
   "metadata": {},
   "source": [
    "#### Airmass > 2, a big NOPE!"
   ]
  },
  {
   "cell_type": "markdown",
   "metadata": {},
   "source": [
    "---\n",
    "\n",
    "## Planning observation is better with plots"
   ]
  },
  {
   "cell_type": "markdown",
   "metadata": {},
   "source": [
    "#### Setup our observing window"
   ]
  },
  {
   "cell_type": "code",
   "execution_count": null,
   "metadata": {
    "collapsed": false,
    "jupyter": {
     "outputs_hidden": false
    }
   },
   "outputs": [],
   "source": [
    "my_time_grid = time_grid_from_range(observe_night, time_resolution = 0.1 * u.h)"
   ]
  },
  {
   "cell_type": "code",
   "execution_count": null,
   "metadata": {
    "collapsed": false,
    "jupyter": {
     "outputs_hidden": false
    }
   },
   "outputs": [],
   "source": [
    "my_time_grid[0:5]"
   ]
  },
  {
   "cell_type": "markdown",
   "metadata": {},
   "source": [
    "## Simple Plot\n",
    "\n",
    "* Ignore the warning"
   ]
  },
  {
   "cell_type": "code",
   "execution_count": null,
   "metadata": {
    "collapsed": false,
    "jupyter": {
     "outputs_hidden": false
    }
   },
   "outputs": [],
   "source": [
    "plot_airmass(my_target_one, computer_room, my_time_grid);"
   ]
  },
  {
   "cell_type": "markdown",
   "metadata": {},
   "source": [
    "## Better Plot"
   ]
  },
  {
   "cell_type": "markdown",
   "metadata": {},
   "source": [
    "### Let us turn off those annoying warnings"
   ]
  },
  {
   "cell_type": "code",
   "execution_count": null,
   "metadata": {},
   "outputs": [],
   "source": [
    "import warnings\n",
    "warnings.filterwarnings(\"ignore\", category = UserWarning)"
   ]
  },
  {
   "cell_type": "markdown",
   "metadata": {},
   "source": [
    "### Make a target list"
   ]
  },
  {
   "cell_type": "code",
   "execution_count": null,
   "metadata": {
    "collapsed": false,
    "jupyter": {
     "outputs_hidden": false
    }
   },
   "outputs": [],
   "source": [
    "target_list = [my_target_one, my_target_two]"
   ]
  },
  {
   "cell_type": "code",
   "execution_count": null,
   "metadata": {},
   "outputs": [],
   "source": [
    "target_list"
   ]
  },
  {
   "cell_type": "code",
   "execution_count": null,
   "metadata": {},
   "outputs": [],
   "source": [
    "fig, ax = plt.subplots(\n",
    "    figsize = (12, 6), \n",
    "    constrained_layout = True\n",
    ")\n",
    "\n",
    "for my_object in target_list:\n",
    "    ax = plot_airmass(my_object, computer_room, my_time_grid)\n",
    "\n",
    "ax.legend(loc=0,shadow=True);"
   ]
  },
  {
   "cell_type": "code",
   "execution_count": null,
   "metadata": {},
   "outputs": [],
   "source": []
  }
 ],
 "metadata": {
  "anaconda-cloud": {},
  "kernelspec": {
   "display_name": "Python 3 (ipykernel)",
   "language": "python",
   "name": "python3"
  },
  "language_info": {
   "codemirror_mode": {
    "name": "ipython",
    "version": 3
   },
   "file_extension": ".py",
   "mimetype": "text/x-python",
   "name": "python",
   "nbconvert_exporter": "python",
   "pygments_lexer": "ipython3",
   "version": "3.9.7"
  }
 },
 "nbformat": 4,
 "nbformat_minor": 4
}
