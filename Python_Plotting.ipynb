{
 "cells": [
  {
   "cell_type": "markdown",
   "metadata": {},
   "source": [
    "# Plotting data with Python - `matplotlib`\n",
    "\n",
    "* Python has [LOTS](https://pyviz.org/overviews/index.html) of data visualization (plotting) libraries\n",
    "* Lots of them are built on top of `matplotlib`\n",
    "* `matplotlib` tries to make easy things easy and hard things possible"
   ]
  },
  {
   "cell_type": "code",
   "execution_count": null,
   "metadata": {
    "collapsed": false,
    "jupyter": {
     "outputs_hidden": false
    }
   },
   "outputs": [],
   "source": [
    "import matplotlib.pyplot as plt\n",
    "import numpy as np\n",
    "\n",
    "from astropy.table import QTable\n",
    "from astropy import units as u"
   ]
  },
  {
   "cell_type": "markdown",
   "metadata": {},
   "source": [
    "### Simple Plotting\n",
    "\n",
    "$$\\large\n",
    "[\\ 0 < x < 3\\pi\\ ] \\hspace{1cm}\n",
    "y = e^{-x/3} \\cos(\\pi x)\n",
    "$$"
   ]
  },
  {
   "cell_type": "code",
   "execution_count": null,
   "metadata": {
    "collapsed": false,
    "jupyter": {
     "outputs_hidden": false
    }
   },
   "outputs": [],
   "source": [
    "my_arrayx = np.linspace(0, 3*np.pi, 250)\n",
    "my_arrayy = np.cos(np.pi * my_arrayx) * np.exp(-my_arrayx / 3)"
   ]
  },
  {
   "cell_type": "code",
   "execution_count": null,
   "metadata": {},
   "outputs": [],
   "source": [
    "my_table = QTable(\n",
    "    {'Time': my_arrayx, \n",
    "    'Voltage': my_arrayy}\n",
    ")"
   ]
  },
  {
   "cell_type": "code",
   "execution_count": null,
   "metadata": {},
   "outputs": [],
   "source": [
    "my_table[0:4]"
   ]
  },
  {
   "cell_type": "markdown",
   "metadata": {},
   "source": [
    "### Add a unit to a QTable column"
   ]
  },
  {
   "cell_type": "code",
   "execution_count": null,
   "metadata": {},
   "outputs": [],
   "source": [
    "my_table['Time'].unit = u.s\n",
    "my_table['Voltage'].unit = u.V"
   ]
  },
  {
   "cell_type": "code",
   "execution_count": null,
   "metadata": {},
   "outputs": [],
   "source": [
    "my_table[0:4]"
   ]
  },
  {
   "cell_type": "code",
   "execution_count": null,
   "metadata": {},
   "outputs": [],
   "source": [
    "my_x = my_table['Time']\n",
    "my_y = my_table['Voltage']"
   ]
  },
  {
   "cell_type": "code",
   "execution_count": null,
   "metadata": {
    "collapsed": false,
    "jupyter": {
     "outputs_hidden": false
    }
   },
   "outputs": [],
   "source": [
    "plt.plot(my_x, my_y)"
   ]
  },
  {
   "cell_type": "markdown",
   "metadata": {},
   "source": [
    "### Simple plotting - with *style*"
   ]
  },
  {
   "cell_type": "markdown",
   "metadata": {},
   "source": [
    "* The default style of `matplotlib` is a bit lacking in style.\n",
    "* The new version of `matplotlib` has added some new styles that you can use in place of the default.\n",
    "* Changing the style will effect all of the rest of the plots on the notebook.\n",
    "\n",
    "Examples of the various styles can be found [here](http://matplotlib.org/examples/style_sheets/style_sheets_reference.html)"
   ]
  },
  {
   "cell_type": "code",
   "execution_count": null,
   "metadata": {
    "collapsed": false,
    "jupyter": {
     "outputs_hidden": false
    }
   },
   "outputs": [],
   "source": [
    "plt.style.available"
   ]
  },
  {
   "cell_type": "code",
   "execution_count": null,
   "metadata": {
    "collapsed": false,
    "jupyter": {
     "outputs_hidden": false
    }
   },
   "outputs": [],
   "source": [
    "plt.style.use('ggplot')"
   ]
  },
  {
   "cell_type": "code",
   "execution_count": null,
   "metadata": {
    "collapsed": false,
    "jupyter": {
     "outputs_hidden": false
    }
   },
   "outputs": [],
   "source": [
    "plt.plot(my_x, my_y);"
   ]
  },
  {
   "cell_type": "markdown",
   "metadata": {},
   "source": [
    "Adding the `;` at the end suppresses the `Out[]` line"
   ]
  },
  {
   "cell_type": "markdown",
   "metadata": {},
   "source": [
    "---\n",
    "\n",
    "# Better plotting\n",
    "\n",
    "* The simple plots: `plt.plot()` are great for a quick look at data, but it does not provide\n",
    "much control over the plot.\n",
    "* The `fig,ax` interface lets you control everything!\n",
    "- `figsize = (width, height)` in inches.\n",
    "- `constrained_layout = True`  cleans up the figure, reducing noise and avoiding text overlapping."
   ]
  },
  {
   "cell_type": "code",
   "execution_count": null,
   "metadata": {},
   "outputs": [],
   "source": [
    "fig, ax = plt.subplots(\n",
    "    figsize = (8, 5), \n",
    "    constrained_layout = True\n",
    ")\n",
    "\n",
    "ax.set_xlabel(f'Time ({my_x.unit})')\n",
    "ax.set_ylabel(f'Voltage ({my_y.unit})')\n",
    "ax.set_title('Circut Output')\n",
    "\n",
    "ax.plot(my_x, my_y);"
   ]
  },
  {
   "cell_type": "markdown",
   "metadata": {},
   "source": [
    "### You can change units and use the same plotting code"
   ]
  },
  {
   "cell_type": "code",
   "execution_count": null,
   "metadata": {},
   "outputs": [],
   "source": [
    "my_x = my_table['Time'].to(u.ms)\n",
    "my_y = my_table['Voltage'].to(u.mV)"
   ]
  },
  {
   "cell_type": "code",
   "execution_count": null,
   "metadata": {},
   "outputs": [],
   "source": [
    "fig, ax = plt.subplots(\n",
    "    figsize = (8, 5), \n",
    "    constrained_layout = True\n",
    ")\n",
    "\n",
    "ax.set_xlabel(f'Time ({my_x.unit})')\n",
    "ax.set_ylabel(f'Voltage ({my_y.unit})')\n",
    "ax.set_title('Circut Output')\n",
    "\n",
    "ax.plot(my_x, my_y);"
   ]
  },
  {
   "cell_type": "markdown",
   "metadata": {},
   "source": [
    "---\n",
    "\n",
    "#### Colors, Markers, and Linestyles"
   ]
  },
  {
   "cell_type": "raw",
   "metadata": {},
   "source": [
    "  color =               marker =                 linestyle =\n",
    "\n",
    "'b'     blue         's'        square          '-'   Solid line\n",
    "'g'     green        'o'        circle          '--'  Dashed\n",
    "'r'     red          '^'        triangle        ':'   Dotted\n",
    "'c'     cyan         '+'        plus            '-.'  Dash Dot\n",
    "'m'     magenta      '.'        dot\n",
    "'y'     yellow       '*'        star\n",
    "'k'     black        'D'        diamond         \n",
    "'w'     white        'x'        cross"
   ]
  },
  {
   "cell_type": "markdown",
   "metadata": {},
   "source": [
    "##### [Complete Marker List](https://matplotlib.org/api/markers_api.html)\n",
    "\n",
    "---\n",
    "\n",
    "### In addition, you can specify colors in many different ways:\n",
    "\n",
    "- Grayscale intensities: `color = '0.8'`\n",
    "- RGB triplets: `color = (0.3, 0.1, 0.9)`\n",
    "- RGB triplets (with transparency): `color = (0.3, 0.1, 0.9, 0.4)`\n",
    "- Hex strings: `color = '#7ff00'`\n",
    "- [HTML color names](https://en.wikipedia.org/wiki/Web_colors): `color = 'Chartreuse'`\n",
    "- a name from the [xkcd color survey](https://xkcd.com/color/rgb/): `color = 'xkcd:poison green'`)\n",
    "\n",
    "---"
   ]
  },
  {
   "cell_type": "markdown",
   "metadata": {},
   "source": [
    "### Font stuff (not all fonts/sizes have all properties)\n",
    "\n",
    "* `fontfamily` {FONTNAME, 'serif', 'sans-serif', 'monospace'}\n",
    "* `fontsize` {size in points, 'xx-small', 'x-small', 'small', 'medium', 'large', 'x-large', 'xx-large'}\n",
    "* `fontstyle` {'normal', 'italic', 'oblique'}\n",
    "* `fontweight` {a numeric value in range 0-1000, 'ultralight', 'light', 'normal', 'regular', 'book', 'medium', 'roman', 'semibold', 'demibold', 'demi', 'bold', 'heavy', 'extra bold', 'black'}\n",
    "\n",
    "---"
   ]
  },
  {
   "cell_type": "code",
   "execution_count": null,
   "metadata": {
    "collapsed": false,
    "jupyter": {
     "outputs_hidden": false
    }
   },
   "outputs": [],
   "source": [
    "fig, ax = plt.subplots(\n",
    "    figsize = (8, 5), \n",
    "    constrained_layout = True\n",
    ")\n",
    "\n",
    "ax.set_xlim(0.0, 6000)\n",
    "ax.set_ylim(-1100, 1100)\n",
    "\n",
    "ax.set_xlabel(f'Time ({my_x.unit})',\n",
    "              fontfamily = 'monospace',\n",
    "              fontsize = 18)\n",
    "\n",
    "ax.set_ylabel(f'Voltage ({my_y.unit})',\n",
    "              fontfamily = 'serif',\n",
    "              fontstyle = 'italic',\n",
    "              fontsize = 18)\n",
    "\n",
    "ax.set_title('Circut Output', \n",
    "             fontsize = 24, \n",
    "             fontweight = 'bold')\n",
    "\n",
    "ax.plot(my_x, my_y,\n",
    "        color = 'MidnightBlue',\n",
    "        marker = 'None',\n",
    "        linestyle = '--');"
   ]
  },
  {
   "cell_type": "markdown",
   "metadata": {},
   "source": [
    "---\n",
    "\n",
    "## Histograms"
   ]
  },
  {
   "cell_type": "code",
   "execution_count": null,
   "metadata": {
    "collapsed": false,
    "jupyter": {
     "outputs_hidden": false
    }
   },
   "outputs": [],
   "source": [
    "grade_table = QTable.read('./Data/Grades.csv', format='ascii.csv')"
   ]
  },
  {
   "cell_type": "code",
   "execution_count": null,
   "metadata": {
    "collapsed": false,
    "jupyter": {
     "outputs_hidden": false
    }
   },
   "outputs": [],
   "source": [
    "grade_table[0:3]"
   ]
  },
  {
   "cell_type": "markdown",
   "metadata": {},
   "source": [
    "### Histogram Types\n",
    "\n",
    "- `stepfilled`: step curve that has a color fill\n",
    "- `step`: step curve with **no** color fill"
   ]
  },
  {
   "cell_type": "code",
   "execution_count": null,
   "metadata": {
    "collapsed": false,
    "jupyter": {
     "outputs_hidden": false
    }
   },
   "outputs": [],
   "source": [
    "fig, ax = plt.subplots(\n",
    "    figsize = (8, 5), \n",
    "    constrained_layout = True\n",
    ")\n",
    "\n",
    "# Histogram of the values of column 1 (Exam1)\n",
    "\n",
    "ax.hist(grade_table['Exam1'],\n",
    "        bins = 30,\n",
    "        histtype = 'stepfilled',\n",
    "        facecolor = 'MediumOrchid',\n",
    "        label = \"Exam 1\")\n",
    "\n",
    "# Histogram of the values of column 2 (Exam2)\n",
    "\n",
    "ax.hist(grade_table['Exam2'],\n",
    "        bins = 30,\n",
    "        histtype = 'step',\n",
    "        color = 'MidnightBlue',\n",
    "        linewidth = 4,\n",
    "        label = \"Exam 2\")\n",
    "\n",
    "ax.legend(loc=0, shadow=True);"
   ]
  },
  {
   "cell_type": "raw",
   "metadata": {},
   "source": [
    "Legend loc codes:\n",
    "\n",
    "0   best                6   center left\n",
    "1   upper right         7   center right\n",
    "2   upper left          8   lower center\n",
    "3   lower left          9   upper center\n",
    "4   lower right         10  center"
   ]
  },
  {
   "cell_type": "markdown",
   "metadata": {},
   "source": [
    "### Side Topic - Histogram Bins\n",
    "\n",
    "* Plotting a histogram of two datasets with a different number of elements using the same bin number can lead to a misleading plot\n",
    "* You can fix this by defining your bins"
   ]
  },
  {
   "cell_type": "code",
   "execution_count": null,
   "metadata": {
    "collapsed": false,
    "jupyter": {
     "outputs_hidden": false
    }
   },
   "outputs": [],
   "source": [
    "# Create a sub-set of the data\n",
    "\n",
    "some_grades = grade_table[(grade_table['Exam2'] > 40.0) & \n",
    "                          (grade_table['Exam2'] < 80.0)]\n",
    "\n",
    "some_grades[0:3]"
   ]
  },
  {
   "cell_type": "code",
   "execution_count": null,
   "metadata": {},
   "outputs": [],
   "source": [
    "len(grade_table['Quarter'])"
   ]
  },
  {
   "cell_type": "code",
   "execution_count": null,
   "metadata": {},
   "outputs": [],
   "source": [
    "len(some_grades['Quarter'])"
   ]
  },
  {
   "cell_type": "code",
   "execution_count": null,
   "metadata": {
    "collapsed": false,
    "jupyter": {
     "outputs_hidden": false
    }
   },
   "outputs": [],
   "source": [
    "fig, ax = plt.subplots(\n",
    "    figsize = (8, 5), \n",
    "    constrained_layout = True\n",
    ")\n",
    "\n",
    "ax.hist(grade_table['Exam2'],\n",
    "        bins = 30,\n",
    "        histtype = 'stepfilled',\n",
    "        facecolor = 'MediumOrchid',\n",
    "        label = \"All Exams\")\n",
    "\n",
    "ax.hist(some_grades['Exam2'],\n",
    "        bins = 30,\n",
    "        histtype = 'step',\n",
    "        color = 'MidnightBlue',\n",
    "        linewidth = 4,\n",
    "        label = \"Score [40 - 80]\")\n",
    "\n",
    "ax.legend(loc=0, shadow=True);"
   ]
  },
  {
   "cell_type": "code",
   "execution_count": null,
   "metadata": {
    "collapsed": false,
    "jupyter": {
     "outputs_hidden": false
    }
   },
   "outputs": [],
   "source": [
    "my_bins = np.arange(18,95,2)\n",
    "my_bins"
   ]
  },
  {
   "cell_type": "code",
   "execution_count": null,
   "metadata": {
    "collapsed": false,
    "jupyter": {
     "outputs_hidden": false
    }
   },
   "outputs": [],
   "source": [
    "fig, ax = plt.subplots(\n",
    "    figsize = (8, 5), \n",
    "    constrained_layout = True\n",
    ")\n",
    "\n",
    "ax.hist(grade_table['Exam2'],\n",
    "        bins = my_bins,\n",
    "        histtype = 'stepfilled',\n",
    "        facecolor = 'MediumOrchid',\n",
    "        label = \"All Exams\")\n",
    "\n",
    "ax.hist(some_grades['Exam2'],\n",
    "        bins = my_bins,\n",
    "        histtype = 'step',\n",
    "        color = 'MidnightBlue',\n",
    "        linewidth = 4,\n",
    "        label = \"Score [40 - 80]\")\n",
    "\n",
    "ax.legend(loc=0, shadow=True);"
   ]
  },
  {
   "cell_type": "markdown",
   "metadata": {},
   "source": [
    "---\n",
    "\n",
    "## Adding text and lines\n",
    "\n",
    "* `.vlines(x, ymin, ymax)`\n",
    "* `.hlines(y, xmin, xmax)`\n",
    "* `.text(X, Y, 'text')`"
   ]
  },
  {
   "cell_type": "code",
   "execution_count": null,
   "metadata": {
    "collapsed": false,
    "jupyter": {
     "outputs_hidden": false
    }
   },
   "outputs": [],
   "source": [
    "my_average = grade_table['Exam2'].mean()\n",
    "my_std = grade_table['Exam2'].std()"
   ]
  },
  {
   "cell_type": "code",
   "execution_count": null,
   "metadata": {
    "collapsed": false,
    "jupyter": {
     "outputs_hidden": false
    }
   },
   "outputs": [],
   "source": [
    "my_average, my_std"
   ]
  },
  {
   "cell_type": "code",
   "execution_count": null,
   "metadata": {
    "collapsed": false,
    "jupyter": {
     "outputs_hidden": false
    }
   },
   "outputs": [],
   "source": [
    "fig, ax = plt.subplots(\n",
    "    figsize = (8, 5), \n",
    "    constrained_layout = True\n",
    ")\n",
    "\n",
    "ax.hist(grade_table['Exam2'],\n",
    "        bins = my_bins,\n",
    "        histtype = 'stepfilled',\n",
    "        facecolor = 'MediumOrchid')\n",
    "\n",
    "ax.vlines(my_average, 0, 28,\n",
    "          color = 'LawnGreen',\n",
    "          linewidth = 5,\n",
    "          linestyle = '-')\n",
    "\n",
    "ax.vlines(my_average + (1.5 * my_std), 0, 14,\n",
    "          color = 'Navy',\n",
    "          linewidth = 7,\n",
    "          linestyle = '--')\n",
    "\n",
    "ax.text(75, 8,\n",
    "       '1.5-Sigma',\n",
    "        color='HotPink',\n",
    "        fontsize = 24);"
   ]
  },
  {
   "cell_type": "markdown",
   "metadata": {},
   "source": [
    "----\n",
    "\n",
    "## Subplots - Multiple panels in a single plot frame.\n",
    "\n",
    "- You layout your panels using simple ASCII art.\n",
    "- The convention is to use single capital letters\n",
    "- Access each panel with the single letter (i.e. `['A']`)\n",
    "- X/Y axes labels have to be added to each subplot separately\n",
    "- The example below show the ASCII art and the resulting layout"
   ]
  },
  {
   "cell_type": "markdown",
   "metadata": {},
   "source": [
    "<img src=\"https://uwashington-astro300.github.io/A300_images/Mosaic.jpg\" width=\"700\"/>"
   ]
  },
  {
   "cell_type": "code",
   "execution_count": null,
   "metadata": {
    "collapsed": false,
    "jupyter": {
     "outputs_hidden": false
    }
   },
   "outputs": [],
   "source": [
    "fig, ax = plt.subplot_mosaic(\n",
    "    '''\n",
    "    BA\n",
    "    ''',\n",
    "    figsize = (12, 4), \n",
    "    constrained_layout = True\n",
    ")\n",
    "\n",
    "# Plot at ['A']\n",
    "\n",
    "ax['A'].set_xlim(0.0, 6000)\n",
    "ax['A'].set_ylim(-1100, 1100)\n",
    "\n",
    "ax['A'].plot(my_x, my_y,\n",
    "           color = 'b',\n",
    "           marker = 'None',\n",
    "           linestyle = '--')\n",
    "\n",
    "ax['A'].set_xlabel(f'Time ({my_x.unit})')\n",
    "ax['A'].set_ylabel(f'Voltage ({my_y.unit})')\n",
    "ax['A'].set_title('Circut Output')\n",
    "\n",
    "# Plot at ['B']\n",
    "\n",
    "ax['B'].hist(grade_table['Exam2'],\n",
    "           bins = 30,\n",
    "           histtype = 'stepfilled',\n",
    "           facecolor = 'MediumOrchid')\n",
    "\n",
    "ax['B'].set_title('Exam 2 Grades')\n",
    "ax['B'].set_xlabel('Exam 2 Score')\n",
    "ax['B'].set_ylabel('Number of Students');"
   ]
  },
  {
   "cell_type": "code",
   "execution_count": null,
   "metadata": {
    "collapsed": false,
    "jupyter": {
     "outputs_hidden": false
    }
   },
   "outputs": [],
   "source": [
    "fig, ax = plt.subplot_mosaic(\n",
    "    '''\n",
    "    ACC\n",
    "    BCC\n",
    "    ''',\n",
    "    figsize = (12, 8), \n",
    "    constrained_layout = True\n",
    ")\n",
    "\n",
    "fig.set_constrained_layout_pads(wspace = .15)\n",
    "\n",
    "# wspace : Width padding between subplots, expressed as a fraction of the subplot width.\n",
    "# hspace : Height padding between subplots, expressed as a fraction of the subplot width.\n",
    "\n",
    "# Plot at ['A']\n",
    "\n",
    "ax['A'].set_xlim(0.0, 6000)\n",
    "ax['A'].set_ylim(-1100, 1100)\n",
    "\n",
    "ax['A'].plot(my_x, my_y,\n",
    "             color = 'b',\n",
    "             marker = 'None',\n",
    "             linestyle = '--')\n",
    "\n",
    "ax['A'].set_xlabel(f'Time ({my_x.unit})')\n",
    "ax['A'].set_ylabel(f'Voltage ({my_y.unit})')\n",
    "ax['A'].set_title('Circut Output')\n",
    "\n",
    "# Plot at ['B']\n",
    "\n",
    "ax['B'].hist(grade_table['Exam2'],\n",
    "             bins = 30,\n",
    "             linewidth = 5,\n",
    "             histtype = 'step')\n",
    "\n",
    "ax['B'].vlines(my_average, 0, 30.5,\n",
    "               color = 'LawnGreen',\n",
    "               linewidth = 5,\n",
    "               linestyle = '-')\n",
    "\n",
    "ax['B'].set_title('Exam 2 Grades')\n",
    "ax['B'].set_xlabel('Exam 2 Score')\n",
    "ax['B'].set_ylabel('Number of Students')\n",
    "\n",
    "# Plot at ['C'] - x-axis set to log\n",
    "\n",
    "ax['C'].set_xscale('log')\n",
    "\n",
    "ax['C'].set_xlim(1, 10000)\n",
    "ax['C'].set_ylim(-1100, 1100)\n",
    "\n",
    "ax['C'].plot(my_x, my_y,\n",
    "             color = 'r',\n",
    "             marker = 'None',\n",
    "             linestyle = '--')\n",
    "\n",
    "ax['C'].set_xlabel(f'Time ({my_x.unit})')\n",
    "ax['C'].set_ylabel(f'Voltage ({my_y.unit})')\n",
    "ax['C'].set_title('Circut Output (log)');"
   ]
  },
  {
   "cell_type": "markdown",
   "metadata": {},
   "source": [
    "---\n",
    "# Alternative Projections\n",
    "\n",
    "## Polar Plots (`r`, $\\theta$)"
   ]
  },
  {
   "cell_type": "code",
   "execution_count": null,
   "metadata": {
    "collapsed": false,
    "jupyter": {
     "outputs_hidden": false
    }
   },
   "outputs": [],
   "source": [
    "my_theta = np.linspace(0, 2*np.pi, 1000)"
   ]
  },
  {
   "cell_type": "markdown",
   "metadata": {},
   "source": [
    "#### Need to add `subplot_kw={'projection': 'polar'}`"
   ]
  },
  {
   "cell_type": "code",
   "execution_count": null,
   "metadata": {},
   "outputs": [],
   "source": [
    "fig, ax = plt.subplots(\n",
    "    subplot_kw={'projection': 'polar'},\n",
    "    figsize = (6, 6), \n",
    "    constrained_layout = True\n",
    ")\n",
    "\n",
    "my_r = my_theta\n",
    "\n",
    "ax.plot(my_r, my_theta/15.0,\n",
    "        label=\"spiral\")\n",
    "\n",
    "ax.plot(my_r, np.cos(16*my_theta),\n",
    "        label=\"flower\")\n",
    "\n",
    "ax.legend(loc=0, shadow=True);"
   ]
  },
  {
   "cell_type": "code",
   "execution_count": null,
   "metadata": {
    "collapsed": false,
    "jupyter": {
     "outputs_hidden": false
    }
   },
   "outputs": [],
   "source": [
    "fig, ax = plt.subplot_mosaic(\n",
    "    '''\n",
    "    AB\n",
    "    ''',\n",
    "    subplot_kw={'projection': 'polar'},\n",
    "    figsize = (12, 6), \n",
    "    constrained_layout = True\n",
    ")\n",
    "\n",
    "my_r = my_theta\n",
    "\n",
    "ax['A'].plot(my_r, my_theta/15.0,\n",
    "        label=\"spiral\")\n",
    "\n",
    "ax['B'].plot(my_r, np.cos(16*my_theta),\n",
    "        label=\"flower\")\n",
    "\n",
    "ax['A'].legend(loc=0, shadow=True)\n",
    "ax['B'].legend(loc=0, shadow=True);"
   ]
  },
  {
   "cell_type": "markdown",
   "metadata": {},
   "source": [
    "## 3D plots `(X,Y,Z)`"
   ]
  },
  {
   "cell_type": "code",
   "execution_count": null,
   "metadata": {
    "collapsed": false,
    "jupyter": {
     "outputs_hidden": false
    }
   },
   "outputs": [],
   "source": [
    "from mpl_toolkits.mplot3d import Axes3D"
   ]
  },
  {
   "cell_type": "code",
   "execution_count": null,
   "metadata": {},
   "outputs": [],
   "source": [
    "fig, ax = plt.subplots(\n",
    "    subplot_kw={'projection': '3d'},\n",
    "    figsize = (9, 9), \n",
    "    constrained_layout = True\n",
    ")\n",
    "\n",
    "ax.set_xlabel('This is X')\n",
    "ax.set_ylabel('This is Y')\n",
    "ax.set_zlabel('This is Z')\n",
    "\n",
    "my_otherx = my_theta\n",
    "my_othery = np.cos(3 * my_theta)\n",
    "my_otherz = np.sin(2 * my_theta)\n",
    "\n",
    "ax.plot(my_otherx, my_othery, my_otherz,\n",
    "        color = 'Firebrick',\n",
    "        marker = 'None',\n",
    "        linestyle = '--');\n",
    "\n",
    "ax.view_init(azim = 0, elev = 0)"
   ]
  },
  {
   "cell_type": "markdown",
   "metadata": {},
   "source": [
    "---\n",
    "## Tons of examples of `matplotlib` plots can be found [here](https://matplotlib.org/stable/gallery/index.html)"
   ]
  }
 ],
 "metadata": {
  "anaconda-cloud": {},
  "kernelspec": {
   "display_name": "Python 3 (ipykernel)",
   "language": "python",
   "name": "python3"
  },
  "language_info": {
   "codemirror_mode": {
    "name": "ipython",
    "version": 3
   },
   "file_extension": ".py",
   "mimetype": "text/x-python",
   "name": "python",
   "nbconvert_exporter": "python",
   "pygments_lexer": "ipython3",
   "version": "3.9.7"
  }
 },
 "nbformat": 4,
 "nbformat_minor": 4
}
