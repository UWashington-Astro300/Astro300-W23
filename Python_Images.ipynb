{
 "cells": [
  {
   "cell_type": "markdown",
   "metadata": {},
   "source": [
    "# Images in Python"
   ]
  },
  {
   "cell_type": "code",
   "execution_count": null,
   "metadata": {
    "collapsed": false,
    "jupyter": {
     "outputs_hidden": false
    }
   },
   "outputs": [],
   "source": [
    "import numpy as np\n",
    "import matplotlib.pyplot as plt"
   ]
  },
  {
   "cell_type": "markdown",
   "metadata": {},
   "source": [
    "### One dimensional numpy arrays have been main data container so far ... "
   ]
  },
  {
   "cell_type": "code",
   "execution_count": null,
   "metadata": {},
   "outputs": [],
   "source": [
    "my_array = np.array([2, 3, 7, 8, 2, 3, 2, 4, 8, 7, 3, 5, 4, 9, 3, 2, 9, 2, 3, 8, 4, 0, 8, 5, 1, 0, 2, 1, 3, 9, 9, 2, 4, 2, 4, 2])"
   ]
  },
  {
   "cell_type": "code",
   "execution_count": null,
   "metadata": {},
   "outputs": [],
   "source": [
    "len(my_array)"
   ]
  },
  {
   "cell_type": "code",
   "execution_count": null,
   "metadata": {},
   "outputs": [],
   "source": [
    "np.shape(my_array)"
   ]
  },
  {
   "cell_type": "markdown",
   "metadata": {
    "tags": []
   },
   "source": [
    "## Moving to high dimensions\n",
    "\n",
    "### Numpy Array Shapes and Axis\n",
    "\n",
    "<img src=\"https://uwashington-astro300.github.io/A300_images/NumpyArrayShape.jpg\" width = \"700\">"
   ]
  },
  {
   "cell_type": "markdown",
   "metadata": {},
   "source": [
    "## Reshaping arrays\n",
    "\n",
    "- #### `np.reshape(original array, (# of elements on axis 0, # of elements on axis 1, ...))`"
   ]
  },
  {
   "cell_type": "code",
   "execution_count": null,
   "metadata": {},
   "outputs": [],
   "source": [
    "np.reshape(my_array, (2,18))"
   ]
  },
  {
   "cell_type": "code",
   "execution_count": null,
   "metadata": {},
   "outputs": [],
   "source": [
    "np.reshape(my_array, (2,3,6))"
   ]
  },
  {
   "cell_type": "code",
   "execution_count": null,
   "metadata": {},
   "outputs": [],
   "source": [
    "np.reshape(my_array, (6,6))"
   ]
  },
  {
   "cell_type": "code",
   "execution_count": null,
   "metadata": {
    "collapsed": false,
    "jupyter": {
     "outputs_hidden": false
    }
   },
   "outputs": [],
   "source": [
    "my_matrix = np.reshape(my_array, (6,6))"
   ]
  },
  {
   "cell_type": "markdown",
   "metadata": {},
   "source": [
    "### All of the normal numpy commands work with matrices (of any dimension)"
   ]
  },
  {
   "cell_type": "code",
   "execution_count": null,
   "metadata": {
    "collapsed": false,
    "jupyter": {
     "outputs_hidden": false
    }
   },
   "outputs": [],
   "source": [
    "my_matrix.mean()        # mean of the whole matrix"
   ]
  },
  {
   "cell_type": "code",
   "execution_count": null,
   "metadata": {
    "collapsed": false,
    "jupyter": {
     "outputs_hidden": false
    }
   },
   "outputs": [],
   "source": [
    "my_matrix.mean(axis = 0)   # mean of the columns"
   ]
  },
  {
   "cell_type": "code",
   "execution_count": null,
   "metadata": {
    "collapsed": false,
    "jupyter": {
     "outputs_hidden": false
    }
   },
   "outputs": [],
   "source": [
    "my_matrix.mean(axis = 0)[0]  # mean of the 0th column"
   ]
  },
  {
   "cell_type": "code",
   "execution_count": null,
   "metadata": {
    "collapsed": false,
    "jupyter": {
     "outputs_hidden": false
    }
   },
   "outputs": [],
   "source": [
    "my_matrix.mean(axis = 1)   # mean of the rows"
   ]
  },
  {
   "cell_type": "code",
   "execution_count": null,
   "metadata": {
    "collapsed": false,
    "jupyter": {
     "outputs_hidden": false
    }
   },
   "outputs": [],
   "source": [
    "my_matrix.flatten()      # convert to 1D (useful for some plotting)"
   ]
  },
  {
   "cell_type": "markdown",
   "metadata": {},
   "source": [
    "### Math on matrices/images applies to every value"
   ]
  },
  {
   "cell_type": "code",
   "execution_count": null,
   "metadata": {
    "collapsed": false,
    "jupyter": {
     "outputs_hidden": false
    }
   },
   "outputs": [],
   "source": [
    "my_matrix * 2"
   ]
  },
  {
   "cell_type": "markdown",
   "metadata": {},
   "source": [
    "---\n",
    "\n",
    "# `imshow` will display 2-d arrays as images\n",
    "\n",
    "- ### Working with images in python is essentially a visual way of working with 2-d arrays"
   ]
  },
  {
   "cell_type": "code",
   "execution_count": null,
   "metadata": {
    "collapsed": false,
    "jupyter": {
     "outputs_hidden": false
    }
   },
   "outputs": [],
   "source": [
    "plt.style.use('ggplot')\n",
    "plt.rc('axes', grid=False)   # turn off the background grid for images"
   ]
  },
  {
   "cell_type": "code",
   "execution_count": null,
   "metadata": {},
   "outputs": [],
   "source": [
    "plt.imshow(my_matrix);"
   ]
  },
  {
   "cell_type": "markdown",
   "metadata": {},
   "source": [
    "## Colormaps\n",
    "\n",
    "- Matplotlib will color each value of the matrix (think pixel) with a color from a **colormap**\n",
    "- The default colormap is called `viridis`\n",
    "\n",
    "<img src=\"https://uwashington-astro300.github.io/A300_images/Viridis.jpg\" width = \"700\">\n",
    "\n",
    "- The minimum value is set the left-most color, the maximum value to the right-most\n",
    "- You can change the colormap with `cmap =`\n",
    "- ## [Colormap reference](https://matplotlib.org/stable/gallery/color/colormap_reference.html)"
   ]
  },
  {
   "cell_type": "code",
   "execution_count": null,
   "metadata": {
    "collapsed": false,
    "jupyter": {
     "outputs_hidden": false
    }
   },
   "outputs": [],
   "source": [
    "plt.imshow(my_matrix, cmap = plt.cm.Blues);"
   ]
  },
  {
   "cell_type": "markdown",
   "metadata": {},
   "source": [
    "## Show the image with a colorbar"
   ]
  },
  {
   "cell_type": "code",
   "execution_count": null,
   "metadata": {
    "collapsed": false,
    "jupyter": {
     "outputs_hidden": false
    }
   },
   "outputs": [],
   "source": [
    "plt.imshow(my_matrix, cmap = plt.cm.Blues)\n",
    "plt.colorbar();"
   ]
  },
  {
   "cell_type": "code",
   "execution_count": null,
   "metadata": {
    "collapsed": false,
    "jupyter": {
     "outputs_hidden": false
    }
   },
   "outputs": [],
   "source": [
    "fig, ax = plt.subplot_mosaic(\n",
    "    '''\n",
    "    ABCDE\n",
    "    ''',\n",
    "    figsize = (16, 4), \n",
    "    constrained_layout = True\n",
    ")\n",
    "\n",
    "ax['A'].imshow(my_matrix, cmap = plt.cm.viridis)\n",
    "ax['A'].set_xlabel('viridis', fontsize = 20)\n",
    "\n",
    "ax['B'].imshow(my_matrix, cmap = plt.cm.autumn)\n",
    "ax['B'].set_xlabel('autumn', fontsize = 20)\n",
    "\n",
    "ax['C'].imshow(my_matrix, cmap = plt.cm.magma)\n",
    "ax['C'].set_xlabel('magma', fontsize = 20)\n",
    "\n",
    "ax['D'].imshow(my_matrix, cmap = plt.cm.Spectral)\n",
    "ax['D'].set_xlabel('Spectral', fontsize = 20)\n",
    "\n",
    "ax['E'].imshow(my_matrix, cmap = plt.cm.gray)\n",
    "ax['E'].set_xlabel('gray', fontsize = 20);"
   ]
  },
  {
   "cell_type": "markdown",
   "metadata": {},
   "source": [
    "### Images are just arrays so they can be sliced.\n",
    "\n",
    " * The origin is the upper left hand corner `[0,0]`\n",
    " * `[Start_Row:End_Row, Start_Column:End_Column]`\n",
    "   - Start: first element you want\n",
    "   - End: First element you DON'T want\n",
    "   - `:`  is the whole range"
   ]
  },
  {
   "cell_type": "code",
   "execution_count": null,
   "metadata": {
    "collapsed": false,
    "jupyter": {
     "outputs_hidden": false
    }
   },
   "outputs": [],
   "source": [
    "fig, ax = plt.subplot_mosaic(\n",
    "    '''\n",
    "    ABCD\n",
    "    ''',\n",
    "    figsize = (16, 4), \n",
    "    constrained_layout = True\n",
    ")\n",
    "\n",
    "ax['A'].imshow(my_matrix, cmap = plt.cm.Blues)\n",
    "ax['A'].set_xlabel('Original', fontsize = 20)\n",
    "\n",
    "ax['B'].imshow(my_matrix[:,0:2], cmap = plt.cm.Blues)\n",
    "ax['B'].set_xlabel('[:,0:2]', fontsize = 20)                         # all rows, 2 columns\n",
    "\n",
    "ax['C'].imshow(my_matrix[0:2,:], cmap = plt.cm.Blues)                  # 2 rows, all columns\n",
    "ax['C'].set_xlabel('[0:2,:]', fontsize = 20)\n",
    "\n",
    "ax['D'].imshow(my_matrix[0:2,2:4], cmap = plt.cm.Blues);\n",
    "ax['D'].set_xlabel('[0:2,2:4]', fontsize = 20) ;                     # center"
   ]
  },
  {
   "cell_type": "markdown",
   "metadata": {},
   "source": [
    "### Scaling the colormap\n",
    "\n",
    "- If you look at the images above, you can see that the colormap for each image has been normalized\n",
    "- You can override this by using:\n",
    "  - `vmin =` lowest value\n",
    "  - `vmax =` highest value"
   ]
  },
  {
   "cell_type": "code",
   "execution_count": null,
   "metadata": {},
   "outputs": [],
   "source": [
    "fig, ax = plt.subplot_mosaic(\n",
    "    '''\n",
    "    ABCD\n",
    "    ''',\n",
    "    figsize = (16, 4), \n",
    "    constrained_layout = True\n",
    ")\n",
    "\n",
    "my_max_value = np.max(my_matrix)\n",
    "my_min_value = np.min(my_matrix)\n",
    "\n",
    "ax['A'].imshow(my_matrix, cmap = plt.cm.Blues,\n",
    "               vmin = my_min_value, vmax = my_max_value)\n",
    "ax['A'].set_xlabel('Original', fontsize = 20)\n",
    "\n",
    "ax['B'].imshow(my_matrix[:,0:2], cmap = plt.cm.Blues,\n",
    "               vmin = my_min_value, vmax = my_max_value)\n",
    "ax['B'].set_xlabel('[:,0:2]', fontsize = 20)                         # all rows, 2 columns\n",
    "\n",
    "ax['C'].imshow(my_matrix[0:2,:], cmap = plt.cm.Blues,\n",
    "               vmin = my_min_value, vmax = my_max_value)                  # 2 rows, all columns\n",
    "ax['C'].set_xlabel('[0:2,:]', fontsize = 20)\n",
    "\n",
    "ax['D'].imshow(my_matrix[0:2,2:4], cmap = plt.cm.Blues,\n",
    "               vmin = my_min_value, vmax = my_max_value);\n",
    "ax['D'].set_xlabel('[0:2,2:4]', fontsize = 20) ;                     # center"
   ]
  },
  {
   "cell_type": "markdown",
   "metadata": {},
   "source": [
    "### Images are just arrays so they can be [manipulated](https://docs.scipy.org/doc/numpy-1.13.0/reference/routines.array-manipulation.html)."
   ]
  },
  {
   "cell_type": "code",
   "execution_count": null,
   "metadata": {
    "collapsed": false,
    "jupyter": {
     "outputs_hidden": false
    }
   },
   "outputs": [],
   "source": [
    "fig, ax = plt.subplot_mosaic(\n",
    "    '''\n",
    "    ABCDE\n",
    "    ''',\n",
    "    figsize = (16, 4), \n",
    "    constrained_layout = True\n",
    ")\n",
    "\n",
    "ax['A'].imshow(my_matrix, cmap=plt.cm.Blues)\n",
    "ax['A'].set_xlabel('my_matrix', fontsize = 20)\n",
    "\n",
    "ax['B'].imshow(np.flip(my_matrix,axis=0), cmap=plt.cm.Blues)      # axis = 0 (COLUMNS)\n",
    "ax['B'].set_xlabel('np.flip(my_matrix,axis=0)', fontsize = 15)\n",
    "\n",
    "ax['C'].imshow(np.flip(my_matrix,axis=1), cmap=plt.cm.Blues)      # axis = 1 (ROWS)\n",
    "ax['C'].set_xlabel('np.flip(my_matrix,axis=1)', fontsize = 15)\n",
    "\n",
    "ax['D'].imshow(np.rot90(my_matrix), cmap=plt.cm.Blues)            # Rotate 90 counter-clockwise\n",
    "ax['D'].set_xlabel('np.rot90(my_matrix)', fontsize = 15)\n",
    "\n",
    "ax['E'].imshow(np.roll(my_matrix,1,axis=0), cmap=plt.cm.Blues)    # axis = 0 (COLUMNS)\n",
    "ax['E'].set_xlabel('np.roll(my_matrix,1,axis=0)', fontsize = 15);"
   ]
  },
  {
   "cell_type": "markdown",
   "metadata": {},
   "source": [
    "---\n",
    "### WARNING! Common image formats DO NOT preserve dynamic range of original data!!\n",
    "- Common image formats: jpg, gif, png, tiff\n",
    "- Common image formats will re-scale your data values to [0:1]\n",
    "- Common image formats are **NOT** suitable for scientific data!"
   ]
  },
  {
   "cell_type": "code",
   "execution_count": null,
   "metadata": {
    "collapsed": false,
    "jupyter": {
     "outputs_hidden": false
    }
   },
   "outputs": [],
   "source": [
    "# Write my_matrix to a PNG file\n",
    "\n",
    "plt.imsave('Square.png', my_matrix, cmap=plt.cm.gray)\n",
    "\n",
    "\n",
    "# Read in the PNG file\n",
    "\n",
    "my_png = plt.imread('Square.png')"
   ]
  },
  {
   "cell_type": "code",
   "execution_count": null,
   "metadata": {
    "collapsed": false,
    "jupyter": {
     "outputs_hidden": false
    }
   },
   "outputs": [],
   "source": [
    "print(f\"The original data has a min = {my_matrix.min():.2f} and a max = {my_matrix.max():.2f}\")\n",
    "print(f\"The PNG file has a min = {my_png.min():.2f} and a max = {my_png.max():.2f}\")"
   ]
  },
  {
   "cell_type": "markdown",
   "metadata": {},
   "source": [
    "---\n",
    "\n",
    "# [FITS file (Flexible Image Transport System)](https://en.wikipedia.org/wiki/FITS)\n",
    "\n",
    "- Initially developed by astronomers in the USA and Europe in the late 1970s to serve the interchange of data between observatories. \n",
    "- FITS is still in widespread use as a data interchange and archiving format by astronomers.\n",
    "- FITS is only used in Astronomy."
   ]
  },
  {
   "cell_type": "code",
   "execution_count": null,
   "metadata": {
    "collapsed": false,
    "jupyter": {
     "outputs_hidden": false
    }
   },
   "outputs": [],
   "source": [
    "import astropy.io.fits as fits"
   ]
  },
  {
   "cell_type": "markdown",
   "metadata": {},
   "source": [
    "## FITS files consist of at least two parts - `Header` and `Data`\n",
    "\n",
    "- FITS terminology makes clear its origin in an era of punched card images stored on magnetic tape.\n",
    "- A FITS file is comprised of segments called Header/Data Units (HDUs).\n",
    "- The first `[0]` HDU is called the `Primary HDU`.\n",
    "- The primary data array can contain a 1-D spectrum, a 2-D image, or a 3-D data cube.\n",
    "- Every HDU consists of an ASCII formatted `Header Unit`. \n",
    "- Each header unit contains a sequence of fixed-length 80-character keyword (`Cards`)\n",
    "\n",
    "<img src=\"https://uwashington-astro300.github.io/A300_images/UW_Card.jpg\" width = \"700\">"
   ]
  },
  {
   "cell_type": "code",
   "execution_count": null,
   "metadata": {
    "collapsed": false,
    "jupyter": {
     "outputs_hidden": false
    }
   },
   "outputs": [],
   "source": [
    "data_file = 'https://uwashington-astro300.github.io/A300_Data/bsg01.fits'\n",
    "\n",
    "fits.info(data_file)"
   ]
  },
  {
   "cell_type": "markdown",
   "metadata": {},
   "source": [
    "### This file only has one HDU, the PrimaryHDU (`HDU[0]`)\n",
    "\n",
    "#### Extract the data and header from `HDU[0]`"
   ]
  },
  {
   "cell_type": "code",
   "execution_count": null,
   "metadata": {
    "collapsed": false,
    "jupyter": {
     "outputs_hidden": false
    }
   },
   "outputs": [],
   "source": [
    "image_data   = fits.getdata(data_file, 0)\n",
    "image_header = fits.getheader(data_file, 0)"
   ]
  },
  {
   "cell_type": "code",
   "execution_count": null,
   "metadata": {
    "collapsed": false,
    "jupyter": {
     "outputs_hidden": false
    }
   },
   "outputs": [],
   "source": [
    "image_header"
   ]
  },
  {
   "cell_type": "code",
   "execution_count": null,
   "metadata": {
    "collapsed": false,
    "jupyter": {
     "outputs_hidden": false
    }
   },
   "outputs": [],
   "source": [
    "image_data[0:2]"
   ]
  },
  {
   "cell_type": "code",
   "execution_count": null,
   "metadata": {
    "collapsed": false,
    "jupyter": {
     "outputs_hidden": false
    }
   },
   "outputs": [],
   "source": [
    "print(f\"The image has a shape [height,width] of {image_data.shape}\")"
   ]
  },
  {
   "cell_type": "markdown",
   "metadata": {},
   "source": [
    "## FITS format preserves the full dynamic range of data"
   ]
  },
  {
   "cell_type": "code",
   "execution_count": null,
   "metadata": {
    "collapsed": false,
    "jupyter": {
     "outputs_hidden": false
    }
   },
   "outputs": [],
   "source": [
    "print(f\"The image has a maximum value of {image_data.max():.2f}\")\n",
    "print(f\"The image has a minimum value of {image_data.min():.2f}\")"
   ]
  },
  {
   "cell_type": "code",
   "execution_count": null,
   "metadata": {
    "collapsed": false,
    "jupyter": {
     "outputs_hidden": false
    }
   },
   "outputs": [],
   "source": [
    "fig, ax = plt.subplot_mosaic(\n",
    "    '''\n",
    "    AB\n",
    "    ''',\n",
    "    figsize = (12, 6), \n",
    "    constrained_layout = True\n",
    ")\n",
    "\n",
    "ax['A'].imshow(image_data, cmap = plt.cm.gray)\n",
    "ax['A'].set_title(\"OK, Boomer!\")\n",
    "\n",
    "ax['B'].set_xlabel(\"Pixel Values\")\n",
    "ax['B'].set_ylabel(\"Number of Pixels\")\n",
    "ax['B'].hist(image_data.flatten(),bins=20);"
   ]
  },
  {
   "cell_type": "markdown",
   "metadata": {},
   "source": [
    "## Just show some values\n",
    "\n",
    "Only show pixel values that are greater than 60% of the maximum"
   ]
  },
  {
   "cell_type": "code",
   "execution_count": null,
   "metadata": {},
   "outputs": [],
   "source": [
    "fig, ax = plt.subplot_mosaic(\n",
    "    '''\n",
    "    AB\n",
    "    ''',\n",
    "    figsize = (12, 6), \n",
    "    constrained_layout = True\n",
    ")\n",
    "\n",
    "my_max_value = np.max(image_data)\n",
    "my_lower_cut = 0.60 * my_max_value\n",
    "\n",
    "ax['A'].imshow(image_data,\n",
    "               cmap=plt.cm.gray, \n",
    "               vmin = my_lower_cut,\n",
    "               vmax = my_max_value)\n",
    "\n",
    "ax['A'].set_title(\"OK, 60% Boomer!\")\n",
    "\n",
    "ax['B'].set_xlabel(\"Pixel Values\")\n",
    "ax['B'].set_ylabel(\"Number of Pixels\")\n",
    "ax['B'].hist(image_data.flatten(), bins=20)\n",
    "ax['B'].vlines(my_lower_cut, 0, 50000,\n",
    "          color = 'Navy',\n",
    "          linewidth = 5,\n",
    "          linestyle = '--');"
   ]
  },
  {
   "cell_type": "markdown",
   "metadata": {},
   "source": [
    "## Modifying pixel values"
   ]
  },
  {
   "cell_type": "code",
   "execution_count": null,
   "metadata": {
    "collapsed": false,
    "jupyter": {
     "outputs_hidden": false
    }
   },
   "outputs": [],
   "source": [
    "copy_data = np.copy(image_data)        # make a copy of the data to work with\n",
    "\n",
    "copy_data.min(), copy_data.mean(), copy_data.max()"
   ]
  },
  {
   "cell_type": "markdown",
   "metadata": {},
   "source": [
    "#### Set all pixel_values > 2 * mean pixel_value to pixel_value maximum"
   ]
  },
  {
   "cell_type": "code",
   "execution_count": null,
   "metadata": {
    "collapsed": false,
    "jupyter": {
     "outputs_hidden": false
    }
   },
   "outputs": [],
   "source": [
    "copy_data[copy_data > 2 * copy_data.mean()] = copy_data.max()"
   ]
  },
  {
   "cell_type": "code",
   "execution_count": null,
   "metadata": {
    "collapsed": false,
    "jupyter": {
     "outputs_hidden": false
    }
   },
   "outputs": [],
   "source": [
    "fig, ax = plt.subplot_mosaic(\n",
    "    '''\n",
    "    AB\n",
    "    ''',\n",
    "    figsize = (12, 6), \n",
    "    constrained_layout = True\n",
    ")\n",
    "\n",
    "ax['A'].imshow(copy_data, cmap = plt.cm.gray)\n",
    "\n",
    "my_bins = np.arange(0,110,5)\n",
    "\n",
    "ax['B'].set_xlabel(\"Pixel Values\")\n",
    "ax['B'].set_ylabel(\"Number of Pixels\")\n",
    "\n",
    "ax['B'].hist(image_data.flatten(), bins=my_bins)\n",
    "\n",
    "ax['B'].hist(copy_data.flatten(), bins=my_bins, \n",
    "             histtype = \"step\", \n",
    "             linewidth = \"4\", \n",
    "             color = \"b\");"
   ]
  },
  {
   "cell_type": "markdown",
   "metadata": {},
   "source": [
    "## You can add and subtract images"
   ]
  },
  {
   "cell_type": "code",
   "execution_count": null,
   "metadata": {
    "collapsed": false,
    "jupyter": {
     "outputs_hidden": false
    }
   },
   "outputs": [],
   "source": [
    "another_image_file = \"https://uwashington-astro300.github.io/A300_Data/bsg02.fits\"\n",
    "\n",
    "another_image_data = fits.getdata(another_image_file)     # a quick way to just get the data"
   ]
  },
  {
   "cell_type": "code",
   "execution_count": null,
   "metadata": {
    "collapsed": false,
    "jupyter": {
     "outputs_hidden": false
    }
   },
   "outputs": [],
   "source": [
    "fig, ax = plt.subplot_mosaic(\n",
    "    '''\n",
    "    AB\n",
    "    ''',\n",
    "    figsize = (8, 6), \n",
    "    constrained_layout = True\n",
    ")\n",
    "\n",
    "fig.set_constrained_layout_pads(wspace = .15)\n",
    "\n",
    "ax['A'].set_title(\"Original Boomer Image\")\n",
    "ax['B'].set_title(\"Another Boomer Image\")\n",
    "\n",
    "ax['A'].imshow(image_data, cmap = plt.cm.gray)\n",
    "ax['B'].imshow(another_image_data, cmap = plt.cm.gray);"
   ]
  },
  {
   "cell_type": "markdown",
   "metadata": {},
   "source": [
    "## The two images above may look the same but they are not!\n",
    "\n",
    "### Subtracting the two images reveals the truth."
   ]
  },
  {
   "cell_type": "code",
   "execution_count": null,
   "metadata": {
    "collapsed": false,
    "jupyter": {
     "outputs_hidden": false
    }
   },
   "outputs": [],
   "source": [
    "real_image = image_data - another_image_data                 # Subtract the images pixel by pixel"
   ]
  },
  {
   "cell_type": "code",
   "execution_count": null,
   "metadata": {
    "collapsed": false,
    "jupyter": {
     "outputs_hidden": false
    }
   },
   "outputs": [],
   "source": [
    "fig, ax = plt.subplot_mosaic(\n",
    "    '''\n",
    "    ABC\n",
    "    ''',\n",
    "    figsize = (12, 6), \n",
    "    constrained_layout = True\n",
    ")\n",
    "\n",
    "fig.set_constrained_layout_pads(wspace = .15)\n",
    "\n",
    "ax['A'].set_title(\"Original Boomer Image\")\n",
    "ax['B'].set_title(\"Another Boomer Image\")\n",
    "ax['C'].set_title(\"Real Boomer Image!\")\n",
    "\n",
    "ax['A'].imshow(image_data, cmap = plt.cm.gray)\n",
    "\n",
    "ax['B'].imshow(another_image_data, cmap = plt.cm.gray)\n",
    "\n",
    "ax['C'].imshow(real_image, cmap = plt.cm.gray);"
   ]
  },
  {
   "cell_type": "code",
   "execution_count": null,
   "metadata": {
    "collapsed": false,
    "jupyter": {
     "outputs_hidden": false
    }
   },
   "outputs": [],
   "source": [
    "print(f\"The real image has a maximum value of {real_image.max():.2f}\")\n",
    "print(f\"The real image has a minimum value of {real_image.min():.2f}\")"
   ]
  },
  {
   "cell_type": "markdown",
   "metadata": {},
   "source": [
    "---\n",
    "## FITS Images - An astronomical example"
   ]
  },
  {
   "cell_type": "markdown",
   "metadata": {},
   "source": [
    "### We can use the `astroplan` package to get FITS data for any field in the sky\n",
    " - By default the data comes from the [ESO Online Digitized Sky Survey](http://archive.eso.org/dss/dss)\n",
    " -  You can change this if you want."
   ]
  },
  {
   "cell_type": "code",
   "execution_count": null,
   "metadata": {},
   "outputs": [],
   "source": [
    "from astroplan import FixedTarget\n",
    "from astroplan.plots import plot_finder_image\n",
    "from astropy import units as u"
   ]
  },
  {
   "cell_type": "markdown",
   "metadata": {},
   "source": [
    "### We do not even needs the coordinates, just the name (pretty much any version of the name).\n",
    "\n",
    "- `astroplan` uses [SIMABD](https://simbad.unistra.fr/simbad/) to resove all of the names."
   ]
  },
  {
   "cell_type": "code",
   "execution_count": null,
   "metadata": {},
   "outputs": [],
   "source": [
    "my_target = FixedTarget.from_name(\"M51\")"
   ]
  },
  {
   "cell_type": "code",
   "execution_count": null,
   "metadata": {},
   "outputs": [],
   "source": [
    "fig = plt.subplots(\n",
    "    figsize = (6, 6), \n",
    "    constrained_layout = True\n",
    ")\n",
    "\n",
    "ax, hdu = plot_finder_image(my_target, fov_radius= 0.3 * u.deg);"
   ]
  },
  {
   "cell_type": "markdown",
   "metadata": {},
   "source": [
    "### The variable `hdu` above is just the Header/Data Unit of the FITS file of the field!"
   ]
  },
  {
   "cell_type": "code",
   "execution_count": null,
   "metadata": {},
   "outputs": [],
   "source": [
    "hdu.header[0:4]"
   ]
  },
  {
   "cell_type": "code",
   "execution_count": null,
   "metadata": {},
   "outputs": [],
   "source": [
    "hdu.data[0:1]"
   ]
  },
  {
   "cell_type": "code",
   "execution_count": null,
   "metadata": {
    "collapsed": false,
    "jupyter": {
     "outputs_hidden": false
    }
   },
   "outputs": [],
   "source": [
    "object_data   = hdu.data\n",
    "object_header = hdu.header"
   ]
  },
  {
   "cell_type": "code",
   "execution_count": null,
   "metadata": {
    "collapsed": false,
    "jupyter": {
     "outputs_hidden": false
    }
   },
   "outputs": [],
   "source": [
    "print(f\"Image min  = {object_data.min():9.1f}\")\n",
    "print(f\"Image max  = {object_data.max():9.1f}\")\n",
    "print(f\"Image mean = {object_data.mean():9.1f}\")\n",
    "print(f\"Image std  = {object_data.std():9.1f}\")"
   ]
  },
  {
   "cell_type": "markdown",
   "metadata": {},
   "source": [
    "### Notice the VERY wide range of pixel values (dynamic range)"
   ]
  },
  {
   "cell_type": "code",
   "execution_count": null,
   "metadata": {
    "collapsed": false,
    "jupyter": {
     "outputs_hidden": false
    }
   },
   "outputs": [],
   "source": [
    "fig, ax = plt.subplot_mosaic(\n",
    "    '''\n",
    "    AB\n",
    "    ''',\n",
    "    figsize = (12, 6), \n",
    "    constrained_layout = True\n",
    ")\n",
    "\n",
    "fig.set_constrained_layout_pads(wspace = .15)\n",
    "\n",
    "ax['A'].set_title(\"Object Image\")\n",
    "ax['A'].imshow(object_data, \n",
    "               cmap = plt.cm.gray)\n",
    "\n",
    "#cbar = fig.colorbar(object_data, ax=ax, shrink=0.8)\n",
    "\n",
    "ax['B'].set_xlabel(\"Image Pixel Values\")\n",
    "ax['B'].set_ylabel(\"Number of Pixels\")\n",
    "ax['B'].hist(object_data.flatten(),bins=100);"
   ]
  },
  {
   "cell_type": "markdown",
   "metadata": {},
   "source": [
    "#### Notice the origin is in the upper left corner (the image is upside down)"
   ]
  },
  {
   "cell_type": "code",
   "execution_count": null,
   "metadata": {
    "collapsed": false,
    "jupyter": {
     "outputs_hidden": false
    }
   },
   "outputs": [],
   "source": [
    "fig, ax = plt.subplot_mosaic(\n",
    "    '''\n",
    "    AB\n",
    "    ''',\n",
    "    figsize = (12, 6), \n",
    "    constrained_layout = True\n",
    ")\n",
    "\n",
    "fig.set_constrained_layout_pads(wspace = .15)\n",
    "\n",
    "ax['A'].set_title(\"Object Image\")\n",
    "\n",
    "ax['A'].imshow(object_data, \n",
    "               cmap = plt.cm.gray,\n",
    "               origin = \"lower\")\n",
    "\n",
    "ax['B'].set_xlabel(\"Image Pixel Values\")\n",
    "ax['B'].set_ylabel(\"Number of Pixels\")\n",
    "ax['B'].hist(object_data.flatten(),bins=100);"
   ]
  },
  {
   "cell_type": "markdown",
   "metadata": {},
   "source": [
    "#### Better, the origin is in the lower left corner"
   ]
  },
  {
   "cell_type": "markdown",
   "metadata": {},
   "source": [
    "---\n",
    "\n",
    "### Like most astronomical data, all of the interesting stuff is in a very small percentage of the total pixels in the image."
   ]
  },
  {
   "cell_type": "code",
   "execution_count": null,
   "metadata": {},
   "outputs": [],
   "source": [
    "fig, ax = plt.subplot_mosaic(\n",
    "    '''\n",
    "    AB\n",
    "    ''',\n",
    "    figsize = (12, 6), \n",
    "    constrained_layout = True\n",
    ")\n",
    "\n",
    "fig.set_constrained_layout_pads(wspace = .15)\n",
    "\n",
    "ax['A'].set_title(\"Object Image\")\n",
    "\n",
    "ax['A'].imshow(object_data,\n",
    "               cmap = plt.cm.gray,\n",
    "               origin = \"lower\",\n",
    "               vmin = 6000,\n",
    "               vmax = 25000)\n",
    "\n",
    "ax['B'].set_xlabel(\"Image Pixel Values\")\n",
    "ax['B'].set_ylabel(\"Number of Pixels\")\n",
    "\n",
    "ax['B'].set_ylim(0,50000)\n",
    "\n",
    "ax['B'].hist(object_data.flatten(),bins=100)\n",
    "ax['B'].vlines(6000, 0, 50000,\n",
    "          color = 'Navy',\n",
    "          linewidth = 5,\n",
    "          linestyle = '--');"
   ]
  },
  {
   "cell_type": "code",
   "execution_count": null,
   "metadata": {},
   "outputs": [],
   "source": [
    "np.size(object_data)"
   ]
  },
  {
   "cell_type": "code",
   "execution_count": null,
   "metadata": {},
   "outputs": [],
   "source": [
    "np.size(object_data[object_data > 6000])"
   ]
  },
  {
   "cell_type": "code",
   "execution_count": null,
   "metadata": {},
   "outputs": [],
   "source": [
    "np.size(object_data[object_data > 6000]) / np.size(object_data) * 100"
   ]
  },
  {
   "cell_type": "markdown",
   "metadata": {},
   "source": [
    "---\n",
    "## World Coordinate System `WCS`\n",
    "\n",
    "* Most FITS images contain coordinate information\n",
    "* This information is part of the FITS header"
   ]
  },
  {
   "cell_type": "code",
   "execution_count": null,
   "metadata": {
    "collapsed": false,
    "jupyter": {
     "outputs_hidden": false
    }
   },
   "outputs": [],
   "source": [
    "from astropy.wcs import WCS"
   ]
  },
  {
   "cell_type": "code",
   "execution_count": null,
   "metadata": {
    "collapsed": false,
    "jupyter": {
     "outputs_hidden": false
    }
   },
   "outputs": [],
   "source": [
    "my_wcs = WCS(object_header) # Ignore the warning"
   ]
  },
  {
   "cell_type": "code",
   "execution_count": null,
   "metadata": {
    "collapsed": false,
    "jupyter": {
     "outputs_hidden": false
    }
   },
   "outputs": [],
   "source": [
    "my_wcs"
   ]
  },
  {
   "cell_type": "markdown",
   "metadata": {},
   "source": [
    "#### To plot the coordinates on your image use `subplot_kw={'projection': my_wcs}`"
   ]
  },
  {
   "cell_type": "code",
   "execution_count": null,
   "metadata": {
    "collapsed": false,
    "jupyter": {
     "outputs_hidden": false
    }
   },
   "outputs": [],
   "source": [
    "fig, ax = plt.subplots(\n",
    "    subplot_kw={'projection': my_wcs},\n",
    "    figsize = (6, 6), \n",
    "    constrained_layout = True\n",
    ")\n",
    "\n",
    "ax.set_title(\"Object Image\")\n",
    "ax.set_xlabel(\"RA\")\n",
    "ax.set_ylabel(\"Dec\")\n",
    "\n",
    "ax.imshow(object_data, \n",
    "          cmap = plt.cm.gray,\n",
    "          origin = \"lower\");"
   ]
  },
  {
   "cell_type": "markdown",
   "metadata": {},
   "source": [
    "### If you want to get fancy you can add a colorbar\n",
    "\n",
    "- You have to add a variable (I use: `my_image`) that contains your image\n",
    "- Then use that variable in the colorbar"
   ]
  },
  {
   "cell_type": "code",
   "execution_count": null,
   "metadata": {},
   "outputs": [],
   "source": [
    "fig, ax = plt.subplots(\n",
    "    subplot_kw={'projection': my_wcs},\n",
    "    figsize = (6, 6), \n",
    "    constrained_layout = True\n",
    ")\n",
    "\n",
    "ax.set_title(\"Object Image\")\n",
    "ax.set_xlabel(\"RA\")\n",
    "ax.set_ylabel(\"Dec\")\n",
    "\n",
    "my_image = ax.imshow(object_data,\n",
    "                     cmap = plt.cm.gray,\n",
    "                     origin = \"lower\")\n",
    "\n",
    "cbar = plt.colorbar(my_image, shrink=0.8);"
   ]
  },
  {
   "cell_type": "markdown",
   "metadata": {},
   "source": [
    "### If you want to get *even fancier* you can add a **log** colorbar with *custom labels*.\n",
    "\n",
    "- Import the `LogNorm` package\n",
    "- Set the location on colorbar for labels with `set_ticks`\n",
    "- Add labels with `set_ticklabels`"
   ]
  },
  {
   "cell_type": "code",
   "execution_count": null,
   "metadata": {},
   "outputs": [],
   "source": [
    "from matplotlib.colors import LogNorm"
   ]
  },
  {
   "cell_type": "code",
   "execution_count": null,
   "metadata": {},
   "outputs": [],
   "source": [
    "fig, ax = plt.subplots(\n",
    "    subplot_kw={'projection': my_wcs},\n",
    "    figsize = (6, 6), \n",
    "    constrained_layout = True\n",
    ")\n",
    "\n",
    "ax.set_title(\"Object Image\")\n",
    "ax.set_xlabel(\"RA\")\n",
    "ax.set_ylabel(\"Dec\")\n",
    "\n",
    "my_image = ax.imshow(object_data, \n",
    "                     cmap = plt.cm.gray,\n",
    "                     norm = LogNorm(),\n",
    "                     origin = \"lower\")\n",
    "\n",
    "cbar = plt.colorbar(my_image, shrink=0.75)\n",
    "\n",
    "cbar.set_ticks([2.1e3, 4e3, 6e3, 10e3, 14e3])\n",
    "cbar.set_ticklabels([\"Really Dark\", \"Pretty Dark\", \"Bright\", \"Really Bright\", \"Super Bright!\"]);"
   ]
  },
  {
   "cell_type": "code",
   "execution_count": null,
   "metadata": {},
   "outputs": [],
   "source": []
  }
 ],
 "metadata": {
  "anaconda-cloud": {},
  "kernelspec": {
   "display_name": "Python 3 (ipykernel)",
   "language": "python",
   "name": "python3"
  },
  "language_info": {
   "codemirror_mode": {
    "name": "ipython",
    "version": 3
   },
   "file_extension": ".py",
   "mimetype": "text/x-python",
   "name": "python",
   "nbconvert_exporter": "python",
   "pygments_lexer": "ipython3",
   "version": "3.9.7"
  }
 },
 "nbformat": 4,
 "nbformat_minor": 4
}
