{
 "cells": [
  {
   "cell_type": "markdown",
   "metadata": {},
   "source": [
    "---\n",
    "\n",
    "# Some websites for this assignment:"
   ]
  },
  {
   "cell_type": "markdown",
   "metadata": {},
   "source": [
    "- ## [Overleaf](https://v2.overleaf.com/)\n",
    "\n",
    "- ## [Overleaf Docs and Help](https://v2.overleaf.com/learn)\n",
    "\n",
    "- ## [Latex Symbols](https://en.wikipedia.org/wiki/Wikipedia:LaTeX_symbols)\n",
    "\n",
    "- ## [Latex draw symbols](http://detexify.kirelabs.org/classify.html)\n",
    "\n",
    "- ## [Latex wikibook](https://en.wikibooks.org/wiki/LaTeX)\n",
    "---\n",
    "\n",
    "\n",
    "# [AAS Journals](https://journals.aas.org/)\n",
    "\n",
    "\n",
    "# [The SAO/NASA Astrophysics Data System](https://ui.adsabs.harvard.edu/)\n"
   ]
  },
  {
   "cell_type": "markdown",
   "metadata": {},
   "source": [
    "---\n",
    "\n",
    "# `QTables` can output $\\LaTeX$ tables"
   ]
  },
  {
   "cell_type": "code",
   "execution_count": null,
   "metadata": {
    "collapsed": false,
    "jupyter": {
     "outputs_hidden": false
    }
   },
   "outputs": [],
   "source": [
    "from astropy.table import QTable\n",
    "from astropy.io import ascii"
   ]
  },
  {
   "cell_type": "code",
   "execution_count": null,
   "metadata": {
    "collapsed": false,
    "jupyter": {
     "outputs_hidden": false
    }
   },
   "outputs": [],
   "source": [
    "star_table = QTable.read('https://uwashington-astro300.github.io/A300_Data/ObjectList.csv', \n",
    "                           format='ascii.csv')"
   ]
  },
  {
   "cell_type": "code",
   "execution_count": null,
   "metadata": {
    "collapsed": false,
    "jupyter": {
     "outputs_hidden": false
    }
   },
   "outputs": [],
   "source": [
    "star_table[0:3]"
   ]
  },
  {
   "cell_type": "code",
   "execution_count": null,
   "metadata": {
    "collapsed": false,
    "jupyter": {
     "outputs_hidden": false
    },
    "scrolled": true
   },
   "outputs": [],
   "source": [
    "ascii.write(star_table, format='latex')"
   ]
  },
  {
   "cell_type": "markdown",
   "metadata": {
    "jupyter": {
     "outputs_hidden": false
    }
   },
   "source": [
    "---\n",
    "\n",
    "# [Latex Table Generator](https://www.tablesgenerator.com/)"
   ]
  },
  {
   "cell_type": "markdown",
   "metadata": {},
   "source": [
    "---\n",
    "\n",
    "# $\\LaTeX$ Assignment"
   ]
  },
  {
   "cell_type": "markdown",
   "metadata": {},
   "source": [
    "## Start with the file: `HW_LaTeX.tex` in Overleaf\n",
    "\n",
    "* Make sure to set `Main Document` -> `HW_LaTeX.tex`"
   ]
  },
  {
   "cell_type": "markdown",
   "metadata": {},
   "source": [
    "## Minimum required elements (15 pts):\n",
    "\n",
    "* Aim for 4 pages in length (more is fine).\n",
    "* At least two paragraphs of text.\n",
    "  * The text does not have to be anything specific - just be readable.\n",
    "* At least 5 references from ADS.\n",
    "  * The references do not need to relate to anything - just 5 references .\n",
    "  * Make sure to `\\citep{KEY}` or `\\citet{KEY}` the references in your paper.\n",
    "* Typeset the following equation:\n",
    "\n",
    "<p align=\"center\"> \n",
    "<img src=\"https://uwashington-astro300.github.io/A300_images/Equation_A22.png\" width = \"600\">\n",
    "</p>\n",
    "\n",
    "* Typeset one (or more) equation(s) of your choice.\n",
    "* Include the plot you generated of the Gaia CMD (`My_Cool_Plot.png`).\n",
    "* One other plot/image (do not reuse and old one from this class!).\n",
    "* One table of at least 4 columns and 4 rows (not the `star_table` from above!).\n"
   ]
  },
  {
   "cell_type": "markdown",
   "metadata": {},
   "source": [
    "## Want more points?\n",
    "\n",
    "* Make your paper coherent - tie everything together.\n",
    "* Make the content interesting (for some definition of interesting).\n",
    "* Convince me you spent some time working on the assignment.\n"
   ]
  },
  {
   "cell_type": "markdown",
   "metadata": {},
   "source": [
    "---\n",
    "\n",
    "## Due: Thur Mar 16 at 5 pm\n",
    "\n",
    "* Upload the PDF to the class canvas site\n",
    "* This is the last assignment of the quarter\n",
    "\n",
    "I am not going to look at/grade the assignments until the due date.   \n",
    "So, no sending them back to you with comments to fix.  \n",
    "You can resubmit as many times as you want before the deadline - I will look at the last submission.\n",
    "\n",
    "Of course, if you have any questions while you are working on the assignemt - feel free to email me.\n"
   ]
  },
  {
   "cell_type": "code",
   "execution_count": null,
   "metadata": {},
   "outputs": [],
   "source": []
  }
 ],
 "metadata": {
  "anaconda-cloud": {},
  "kernelspec": {
   "display_name": "Python 3 (ipykernel)",
   "language": "python",
   "name": "python3"
  },
  "language_info": {
   "codemirror_mode": {
    "name": "ipython",
    "version": 3
   },
   "file_extension": ".py",
   "mimetype": "text/x-python",
   "name": "python",
   "nbconvert_exporter": "python",
   "pygments_lexer": "ipython3",
   "version": "3.9.7"
  }
 },
 "nbformat": 4,
 "nbformat_minor": 4
}
