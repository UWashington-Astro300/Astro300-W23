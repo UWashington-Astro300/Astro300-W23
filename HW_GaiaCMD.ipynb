{
 "cells": [
  {
   "cell_type": "markdown",
   "metadata": {},
   "source": [
    "# Gaia Field Stars (CMD)"
   ]
  },
  {
   "cell_type": "code",
   "execution_count": null,
   "metadata": {
    "collapsed": false,
    "jupyter": {
     "outputs_hidden": false
    }
   },
   "outputs": [],
   "source": [
    "import matplotlib.pyplot as plt\n",
    "import numpy as np\n",
    "\n",
    "from astropy.table import QTable\n",
    "from astropy import units as u\n",
    "from astropy.coordinates import SkyCoord\n",
    "\n",
    "from astroplan import FixedTarget\n",
    "from astroplan.plots import plot_finder_image\n",
    "from matplotlib.patches import Rectangle, Circle, Ellipse, Polygon\n",
    "\n",
    "from astroquery.gaia import Gaia\n",
    "\n",
    "import warnings\n",
    "warnings.filterwarnings(\"ignore\", category = UserWarning)"
   ]
  },
  {
   "cell_type": "markdown",
   "metadata": {},
   "source": [
    "---\n",
    "# Instructions\n",
    "\n",
    "The goal of this assignment is to demonstrate your python skills in making a color-magnitude diagram from Gaia data.\n",
    "\n",
    "This ideas and techniques used in this assignment can be found in the `Python_Plotting_Annotate` notebook\n",
    "\n",
    "Your first step is to pick a point in space **far from the galacitic plane** (the blue regions in the plot below). The reason for\n",
    "this is that we want to pick a region that has little gas and dust. This gas and dust effects the colors of observed object making\n",
    "them appear more red. We want to avoid this reddening.\n",
    "\n",
    "### Pick and RA and a DEC far away from the galactic plane."
   ]
  },
  {
   "cell_type": "markdown",
   "metadata": {},
   "source": [
    "&nbsp;\n",
    "\n",
    "<p>\n",
    "<img src=\"https://uwashington-astro300.github.io/A300_images/GalCoords.jpg\" width = \"1000\">\n",
    "</p>"
   ]
  },
  {
   "cell_type": "markdown",
   "metadata": {},
   "source": [
    "### Enter the coordinates of the center of your field"
   ]
  },
  {
   "cell_type": "code",
   "execution_count": null,
   "metadata": {},
   "outputs": [],
   "source": [
    "my_object_ra = \n",
    "my_object_dec = "
   ]
  },
  {
   "cell_type": "markdown",
   "metadata": {},
   "source": [
    "### Use `FixedTarget` from `astroplan` to get setup a target object. Make sure to give it a name.\n",
    "\n",
    "- #### `FixedTarget(coord = SkyCoord(ra = my_object_ra, dec = my_object_dec), name = NAME)`"
   ]
  },
  {
   "cell_type": "code",
   "execution_count": null,
   "metadata": {},
   "outputs": [],
   "source": []
  },
  {
   "cell_type": "markdown",
   "metadata": {},
   "source": [
    "### Use `plot_finder_image` to get an image of your field."
   ]
  },
  {
   "cell_type": "code",
   "execution_count": null,
   "metadata": {},
   "outputs": [],
   "source": []
  },
  {
   "cell_type": "markdown",
   "metadata": {},
   "source": [
    "## Get the the [Gaia data](https://www.cosmos.esa.int/web/gaia/dr3) for your field\n",
    "\n",
    "- Get the data for the 5,000 (at most) objects.\n",
    "- They should all be within **1.0 degress** of your target coordinates.\n",
    "- You will want the columns: `source_id, ra, dec, phot_g_mean_mag, bp_rp, parallax`\n",
    "    - `parallax` > 0.1\n",
    "    - `g_mag` and `bp_rp` should not be null\n"
   ]
  },
  {
   "cell_type": "code",
   "execution_count": null,
   "metadata": {},
   "outputs": [],
   "source": []
  },
  {
   "cell_type": "code",
   "execution_count": null,
   "metadata": {},
   "outputs": [],
   "source": []
  },
  {
   "cell_type": "code",
   "execution_count": null,
   "metadata": {},
   "outputs": [],
   "source": []
  },
  {
   "cell_type": "markdown",
   "metadata": {},
   "source": [
    "### Use `parallax` and `phot_g_mean_mag` to get **distance** (in pc) and the **absolute magnitude** ($G_{M}$)\n",
    "\n",
    "- Add them as columns to the data table"
   ]
  },
  {
   "cell_type": "code",
   "execution_count": null,
   "metadata": {},
   "outputs": [],
   "source": []
  },
  {
   "cell_type": "code",
   "execution_count": null,
   "metadata": {},
   "outputs": [],
   "source": []
  },
  {
   "cell_type": "markdown",
   "metadata": {},
   "source": [
    "---\n",
    "\n",
    "## Make a subset of your data table that contains the data for all of the main sequence M-type stars in your field\n",
    "\n",
    "- ### You will need information from the CMD on the back your [Gaia Info Sheet](./Info/GaiaInfo.pdf).\n",
    "- ### You will need to make a cut based on the color (`bp_rp`) and Absolute magnitude (G$_M$)"
   ]
  },
  {
   "cell_type": "code",
   "execution_count": null,
   "metadata": {},
   "outputs": [],
   "source": []
  },
  {
   "cell_type": "code",
   "execution_count": null,
   "metadata": {},
   "outputs": [],
   "source": []
  },
  {
   "cell_type": "markdown",
   "metadata": {},
   "source": [
    "### What fraction of your total number of objects are main sequence M-type stars?"
   ]
  },
  {
   "cell_type": "code",
   "execution_count": null,
   "metadata": {},
   "outputs": [],
   "source": []
  },
  {
   "cell_type": "markdown",
   "metadata": {},
   "source": [
    "---\n",
    "## The Solar Neighborhood is generally defined as objects within 9.2 pc of of the Sun.\n",
    "\n",
    "### Make a subset of your data table that contains the data for all of the objects in your field that are in the Solar neighborhood"
   ]
  },
  {
   "cell_type": "code",
   "execution_count": null,
   "metadata": {},
   "outputs": [],
   "source": []
  },
  {
   "cell_type": "markdown",
   "metadata": {},
   "source": [
    "### What fraction of your total number of objects are in the Solar neighborhood?"
   ]
  },
  {
   "cell_type": "code",
   "execution_count": null,
   "metadata": {},
   "outputs": [],
   "source": []
  },
  {
   "cell_type": "markdown",
   "metadata": {
    "tags": []
   },
   "source": [
    "---\n",
    "\n",
    "# Make an annotated color magnitude diagram (BP-RP vs. $G_{M}$) of your field.\n",
    "\n",
    "- A figure size of 15 in x 15 in\n",
    "- Both axes labeled\n",
    "- A title for the figure\n",
    "- The main sequence indicated in some way\n",
    "- A symbol and label placed at the position of the Sun (**BP-RP** = 0.82, $G_{M}$ = 4.67)\n",
    "- Main sequence M-type stars plotted with a different symbol and color\n",
    "- Solar neighborhood stars plotted with a different symbol and color\n",
    "- **Use annotations (arrows, shapes, text) to make everything clear**"
   ]
  },
  {
   "cell_type": "code",
   "execution_count": null,
   "metadata": {},
   "outputs": [],
   "source": []
  },
  {
   "cell_type": "markdown",
   "metadata": {},
   "source": [
    "---\n",
    "\n",
    "### Save and download a PNG version of your figure. You will need this for the final assignment of the class.\n",
    "\n",
    "- Feel free to change the name of the file if you wish."
   ]
  },
  {
   "cell_type": "code",
   "execution_count": null,
   "metadata": {},
   "outputs": [],
   "source": [
    "fig.savefig('My_Cool_Plot.png', bbox_inches='tight')"
   ]
  },
  {
   "cell_type": "markdown",
   "metadata": {},
   "source": [
    "### Due Mon Feb 6  - 1 pm\n",
    "- `File -> Download as -> HTML (.html)`\n",
    "- `upload your .html file to the class Canvas page`"
   ]
  }
 ],
 "metadata": {
  "anaconda-cloud": {},
  "kernelspec": {
   "display_name": "Python 3 (ipykernel)",
   "language": "python",
   "name": "python3"
  },
  "language_info": {
   "codemirror_mode": {
    "name": "ipython",
    "version": 3
   },
   "file_extension": ".py",
   "mimetype": "text/x-python",
   "name": "python",
   "nbconvert_exporter": "python",
   "pygments_lexer": "ipython3",
   "version": "3.9.7"
  }
 },
 "nbformat": 4,
 "nbformat_minor": 4
}
