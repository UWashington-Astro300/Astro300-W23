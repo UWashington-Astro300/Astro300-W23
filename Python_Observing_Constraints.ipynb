{
 "cells": [
  {
   "cell_type": "markdown",
   "metadata": {},
   "source": [
    "# More `astroplan` - Constraints"
   ]
  },
  {
   "cell_type": "code",
   "execution_count": null,
   "metadata": {
    "collapsed": false,
    "jupyter": {
     "outputs_hidden": false
    }
   },
   "outputs": [],
   "source": [
    "import numpy as np\n",
    "\n",
    "import astropy.units as u\n",
    "from astropy.table import QTable\n",
    "from astropy.time import Time\n",
    "from astropy.coordinates import SkyCoord\n",
    "\n",
    "from astroplan import Observer, FixedTarget\n",
    "\n",
    "import pytz\n",
    "\n",
    "import warnings\n",
    "warnings.filterwarnings('ignore', category=Warning)"
   ]
  },
  {
   "cell_type": "markdown",
   "metadata": {},
   "source": [
    "----\n",
    "\n",
    "# Side Topic One: `For-loop` and `arrays`"
   ]
  },
  {
   "cell_type": "code",
   "execution_count": null,
   "metadata": {},
   "outputs": [],
   "source": [
    "my_matrix = np.array(\n",
    "[[0, 3, 7],\n",
    " [2, 1, 8],\n",
    " [4, 9, 3],]\n",
    ")\n",
    "\n",
    "my_matrix"
   ]
  },
  {
   "cell_type": "code",
   "execution_count": null,
   "metadata": {},
   "outputs": [],
   "source": [
    "for my_x, my_y, my_z in my_matrix:\n",
    "    print(f\"X = {my_x}, Y = {my_y}, and Z = {my_z}\")"
   ]
  },
  {
   "cell_type": "markdown",
   "metadata": {},
   "source": [
    "---\n",
    "# Side Topic Two: List Comprehensions\n",
    "\n",
    "<img src=\"https://uwashington-astro300.github.io/A300_images/ComplexCode.jpg\" width=\"275\"/>\n",
    "\n",
    "List comprehensions provide a concise way to create lists (arrays). Common applications are to make new lists where each element is the result of some operations applied to each member of another sequence.\n",
    "\n",
    "### For example: Create the list: `[0, 1, 4, 9, 16, 25, 36, 49, 64, 81]`"
   ]
  },
  {
   "cell_type": "code",
   "execution_count": null,
   "metadata": {
    "collapsed": false,
    "jupyter": {
     "outputs_hidden": false
    }
   },
   "outputs": [],
   "source": [
    "squares = []                    # create a blank list\n",
    "\n",
    "for x in range(10):             # for loop 0 -> 9\n",
    "    squares.append(x**2)        # calculate x**2 for each x, add to end of list\n",
    "\n",
    "squares"
   ]
  },
  {
   "cell_type": "markdown",
   "metadata": {},
   "source": [
    "### You can do the same thing with:"
   ]
  },
  {
   "cell_type": "code",
   "execution_count": null,
   "metadata": {
    "collapsed": false,
    "jupyter": {
     "outputs_hidden": false
    }
   },
   "outputs": [],
   "source": [
    "squares = [x**2 for x in range(10)]\n",
    "\n",
    "squares"
   ]
  },
  {
   "cell_type": "markdown",
   "metadata": {},
   "source": [
    "### You can include `if` statements:"
   ]
  },
  {
   "cell_type": "code",
   "execution_count": null,
   "metadata": {
    "collapsed": false,
    "jupyter": {
     "outputs_hidden": false
    }
   },
   "outputs": [],
   "source": [
    "even_squares = []\n",
    "\n",
    "for x in range(10):\n",
    "\n",
    "    if (x % 2 == 0):\n",
    "        even_squares.append(x**2)\n",
    "\n",
    "even_squares"
   ]
  },
  {
   "cell_type": "markdown",
   "metadata": {},
   "source": [
    "### You can do the same thing with:"
   ]
  },
  {
   "cell_type": "code",
   "execution_count": null,
   "metadata": {
    "collapsed": false,
    "jupyter": {
     "outputs_hidden": false
    }
   },
   "outputs": [],
   "source": [
    "even_squares = [x**2 for x in range(10) if (x % 2 == 0)]\n",
    "\n",
    "even_squares"
   ]
  },
  {
   "cell_type": "markdown",
   "metadata": {},
   "source": [
    "----\n",
    "# Side Topic Three: \n",
    "\n",
    "* ## `For-loop - arrays`\n",
    "* ## List Comprehensions\n"
   ]
  },
  {
   "cell_type": "code",
   "execution_count": null,
   "metadata": {},
   "outputs": [],
   "source": [
    "my_matrix"
   ]
  },
  {
   "cell_type": "code",
   "execution_count": null,
   "metadata": {},
   "outputs": [],
   "source": [
    "def my_function(my_x, my_y, my_z):\n",
    "    result = f\"X = {my_x}, Y = {my_y}, and Z = {my_z}\"\n",
    "    return result"
   ]
  },
  {
   "cell_type": "code",
   "execution_count": null,
   "metadata": {},
   "outputs": [],
   "source": [
    "my_output = [my_function(my_x, my_y, my_z) for my_x, my_y, my_z in my_matrix]"
   ]
  },
  {
   "cell_type": "code",
   "execution_count": null,
   "metadata": {},
   "outputs": [],
   "source": [
    "my_output"
   ]
  },
  {
   "cell_type": "markdown",
   "metadata": {},
   "source": [
    "---\n",
    "\n",
    "# Now to observations"
   ]
  },
  {
   "cell_type": "markdown",
   "metadata": {},
   "source": [
    "## Start with a external list of target objects:"
   ]
  },
  {
   "cell_type": "code",
   "execution_count": null,
   "metadata": {
    "collapsed": false,
    "jupyter": {
     "outputs_hidden": false
    }
   },
   "outputs": [],
   "source": [
    "target_table = QTable.read('https://uwashington-astro300.github.io/A300_Data/ObjectList.csv', \n",
    "                           format='ascii.csv')"
   ]
  },
  {
   "cell_type": "code",
   "execution_count": null,
   "metadata": {
    "collapsed": false,
    "jupyter": {
     "outputs_hidden": false
    }
   },
   "outputs": [],
   "source": [
    "target_table[0:3]"
   ]
  },
  {
   "cell_type": "markdown",
   "metadata": {},
   "source": [
    "## Add some units to the table"
   ]
  },
  {
   "cell_type": "code",
   "execution_count": null,
   "metadata": {
    "tags": []
   },
   "outputs": [],
   "source": [
    "target_table['RA'].unit = u.hourangle\n",
    "target_table['DEC'].unit = u.deg"
   ]
  },
  {
   "cell_type": "code",
   "execution_count": null,
   "metadata": {
    "tags": []
   },
   "outputs": [],
   "source": [
    "target_table[0:3]"
   ]
  },
  {
   "cell_type": "code",
   "execution_count": null,
   "metadata": {},
   "outputs": [],
   "source": [
    "for my_Name, my_RA, my_DEC in target_table:\n",
    "    print (my_Name, my_RA, my_DEC)"
   ]
  },
  {
   "cell_type": "markdown",
   "metadata": {},
   "source": [
    "### Instead of using SIMBAD, you can manually enter info for a target in the sky\n",
    "\n",
    "`FixedTarget(coords = SkyCoord(RA, DEC), name = 'NAME')`"
   ]
  },
  {
   "cell_type": "code",
   "execution_count": null,
   "metadata": {
    "collapsed": false,
    "jupyter": {
     "outputs_hidden": false
    }
   },
   "outputs": [],
   "source": [
    "my_targets = [FixedTarget(coord = SkyCoord(ra = my_RA, dec = my_DEC), name = my_Name)\n",
    "           for my_Name, my_RA, my_DEC in target_table]"
   ]
  },
  {
   "cell_type": "code",
   "execution_count": null,
   "metadata": {
    "collapsed": false,
    "jupyter": {
     "outputs_hidden": false
    }
   },
   "outputs": [],
   "source": [
    "my_targets"
   ]
  },
  {
   "cell_type": "markdown",
   "metadata": {},
   "source": [
    "----\n",
    "\n",
    "# [Theodor Jacobsen Observatory (TJO)](http://depts.washington.edu/astron/outreach/jacobsen-observatory/)\n",
    "\n",
    "The UW Astronomy department was founded in 1891 by the mathematics professor Joseph M. Taylor. Dr. Taylor built the first observatory on the University of Washington campus (UW was originally located downtown - 4th Ave and University, the current location of the Fairmont Olympic Hotel).\n",
    "When the university moved to its present location, Dr. Taylor spent \\$3,000  on a 6-inch refractor telescope and appropriated the stone and money left over from the construction of Denny Hall to build the observatory we see on campus today.\n",
    "\n",
    "The observatory is named after Theodor S. Jacobsen, who began teaching at UW in 1928. Professor Jacobsen had a long career at the UW and was the key figure in establishing the modern UW Astronomy department. His last book came out in 1999, four years before his death at the age of 102.\n",
    "\n",
    "<p align=\"center\"> \n",
    "    <img src=\"https://uwashington-astro300.github.io/A300_images/TJO_Now_sm.jpg\" width = \"291\">\n",
    "    <img src=\"https://uwashington-astro300.github.io/A300_images/TJO_Telescope.jpg\" width = \"176\">\n",
    "    <img src=\"https://uwashington-astro300.github.io/A300_images/TJ_Photo.jpg\" width = \"243\">\n",
    "    <img src=\"https://uwashington-astro300.github.io/A300_images/OldUW.jpg\" width = \"320\">\n",
    "</p>"
   ]
  },
  {
   "cell_type": "code",
   "execution_count": null,
   "metadata": {},
   "outputs": [],
   "source": [
    "tjo_observe = Observer(longitude = -122.309268 * u.deg,\n",
    "                       latitude = 47.660431 * u.deg,\n",
    "                       timezone = 'US/Pacific',\n",
    "                       name = \"Theodor Jacobsen Observatory\"\n",
    "                      )"
   ]
  },
  {
   "cell_type": "code",
   "execution_count": null,
   "metadata": {},
   "outputs": [],
   "source": [
    "tjo_observe"
   ]
  },
  {
   "cell_type": "markdown",
   "metadata": {},
   "source": [
    "----\n",
    "\n",
    "# Public Outreach\n",
    "\n",
    "TJO's main use today is as a site for public outreach. In normal times, undergraduate astro majors (you!) give monthly public talks and lead tours of the night sky\n",
    "\n",
    "For this example, let us say you are planning to give a talk at TJO about the constellations of the zodiac. And you want to be able to show the audience some of the constellations in the sky.\n",
    "\n",
    "* The date of the talk is Friday Apr 7, 2023\n",
    "* The talks are usually given from 8 - 11 pm [PT]"
   ]
  },
  {
   "cell_type": "code",
   "execution_count": null,
   "metadata": {},
   "outputs": [],
   "source": [
    "talk_start = Time(\"2023-04-08 04:00\")\n",
    "talk_end = Time(\"2023-04-08 07:00\")\n",
    "\n",
    "print(talk_start.to_datetime(tjo_observe.timezone))"
   ]
  },
  {
   "cell_type": "code",
   "execution_count": null,
   "metadata": {},
   "outputs": [],
   "source": [
    "my_time_range = [talk_start, talk_end]\n",
    "\n",
    "my_time_range"
   ]
  },
  {
   "cell_type": "markdown",
   "metadata": {},
   "source": [
    "----\n",
    "\n",
    "# Observing Constraints\n",
    "\n",
    "### We have a place, a time, and some targets. But what targets can we see?"
   ]
  },
  {
   "cell_type": "code",
   "execution_count": null,
   "metadata": {},
   "outputs": [],
   "source": [
    "from astroplan import SunSeparationConstraint\n",
    "from astroplan import observability_table"
   ]
  },
  {
   "cell_type": "markdown",
   "metadata": {},
   "source": [
    "### We are observing at night, so let us only look at things thar are greater than 6 hours away from the Sun"
   ]
  },
  {
   "cell_type": "code",
   "execution_count": null,
   "metadata": {},
   "outputs": [],
   "source": [
    "my_constraints = [SunSeparationConstraint(6 * u.hourangle)]"
   ]
  },
  {
   "cell_type": "code",
   "execution_count": null,
   "metadata": {},
   "outputs": [],
   "source": [
    "my_constraints"
   ]
  },
  {
   "cell_type": "markdown",
   "metadata": {},
   "source": [
    "## astroplan's `observability_table` is a quick summary of what you can see\n",
    "\n",
    "`observability_table(constraints, location, targets, time_range)`"
   ]
  },
  {
   "cell_type": "code",
   "execution_count": null,
   "metadata": {},
   "outputs": [],
   "source": [
    "observing_table = observability_table(my_constraints, tjo_observe, my_targets, time_range = my_time_range)\n",
    "\n",
    "observing_table"
   ]
  },
  {
   "cell_type": "markdown",
   "metadata": {},
   "source": [
    "### Just show the objects that are observable"
   ]
  },
  {
   "cell_type": "code",
   "execution_count": null,
   "metadata": {},
   "outputs": [],
   "source": [
    "observing_table[observing_table['ever observable'] == True]"
   ]
  },
  {
   "cell_type": "markdown",
   "metadata": {},
   "source": [
    "## What about Moonlight?"
   ]
  },
  {
   "cell_type": "code",
   "execution_count": null,
   "metadata": {},
   "outputs": [],
   "source": [
    "tjo_observe.moon_illumination(talk_start)"
   ]
  },
  {
   "cell_type": "code",
   "execution_count": null,
   "metadata": {},
   "outputs": [],
   "source": [
    "from astroplan import MoonSeparationConstraint"
   ]
  },
  {
   "cell_type": "code",
   "execution_count": null,
   "metadata": {},
   "outputs": [],
   "source": [
    "my_constraints.append(MoonSeparationConstraint(30 * u.deg))"
   ]
  },
  {
   "cell_type": "code",
   "execution_count": null,
   "metadata": {},
   "outputs": [],
   "source": [
    "my_constraints"
   ]
  },
  {
   "cell_type": "code",
   "execution_count": null,
   "metadata": {},
   "outputs": [],
   "source": [
    "observing_table = observability_table(my_constraints, tjo_observe, my_targets, time_range = my_time_range)"
   ]
  },
  {
   "cell_type": "code",
   "execution_count": null,
   "metadata": {},
   "outputs": [],
   "source": [
    "observing_table[observing_table['ever observable'] == True]"
   ]
  },
  {
   "cell_type": "markdown",
   "metadata": {},
   "source": [
    "---\n",
    "# Site Specific Constraints\n",
    "\n",
    "<img src=\"https://uwashington-astro300.github.io/A300_images/TJO_Locate.PNG\" width=\"300\"/>\n",
    "\n",
    "## TJO is not exactly in the greatest location for astronomical observations!\n",
    "\n",
    "* Lots of city lights\n",
    "* Especially the adjacent parking lot\n",
    "* Surrounding trees really limit the view!\n",
    "* You have to look above Alt = 30 degrees to clear the trees"
   ]
  },
  {
   "cell_type": "code",
   "execution_count": null,
   "metadata": {},
   "outputs": [],
   "source": [
    "from astroplan import AltitudeConstraint"
   ]
  },
  {
   "cell_type": "code",
   "execution_count": null,
   "metadata": {},
   "outputs": [],
   "source": [
    "my_constraints.append(AltitudeConstraint(min=30*u.deg, max=None))"
   ]
  },
  {
   "cell_type": "code",
   "execution_count": null,
   "metadata": {},
   "outputs": [],
   "source": [
    "observing_table = observability_table(my_constraints, tjo_observe, my_targets, time_range = my_time_range)"
   ]
  },
  {
   "cell_type": "code",
   "execution_count": null,
   "metadata": {},
   "outputs": [],
   "source": [
    "observing_table[observing_table['ever observable'] == True]"
   ]
  },
  {
   "cell_type": "code",
   "execution_count": null,
   "metadata": {},
   "outputs": [],
   "source": [
    "total_time = (talk_end - talk_start).to(u.h)\n",
    "\n",
    "total_time"
   ]
  },
  {
   "cell_type": "code",
   "execution_count": null,
   "metadata": {},
   "outputs": [],
   "source": [
    "observing_table['Observing Time'] = total_time * observing_table['fraction of time observable']"
   ]
  },
  {
   "cell_type": "code",
   "execution_count": null,
   "metadata": {},
   "outputs": [],
   "source": [
    "observing_table[observing_table['ever observable'] == True]"
   ]
  },
  {
   "cell_type": "markdown",
   "metadata": {},
   "source": [
    "----\n",
    "# Non-Standard Constraint\n",
    "\n",
    "<img src=\"https://uwashington-astro300.github.io/A300_images/TJO_Locate_AZ.PNG\" width=\"300\"/>\n",
    "\n",
    "## In addition, the trees to the North and West completely envelop the observatory!\n",
    "\n",
    "* You can only really observe at Azimuths between about 70 and 185 degrees\n",
    "* `astroplan` does not have an Azimuth constraint so will will try something else"
   ]
  },
  {
   "cell_type": "markdown",
   "metadata": {},
   "source": [
    "## We will use `plot_sky` to check the azimuth constraint\n",
    "\n",
    "* `plot_sky(targets, location, time)`"
   ]
  },
  {
   "cell_type": "code",
   "execution_count": null,
   "metadata": {},
   "outputs": [],
   "source": [
    "target_mask = np.flatnonzero(observing_table['ever observable'] == True)"
   ]
  },
  {
   "cell_type": "code",
   "execution_count": null,
   "metadata": {},
   "outputs": [],
   "source": [
    "target_mask"
   ]
  },
  {
   "cell_type": "code",
   "execution_count": null,
   "metadata": {},
   "outputs": [],
   "source": [
    "for index in target_mask:\n",
    "    print(my_targets[index])"
   ]
  },
  {
   "cell_type": "code",
   "execution_count": null,
   "metadata": {},
   "outputs": [],
   "source": [
    "import matplotlib.pyplot as plt\n",
    "\n",
    "from astroplan import time_grid_from_range\n",
    "from astroplan.plots import plot_sky"
   ]
  },
  {
   "cell_type": "code",
   "execution_count": null,
   "metadata": {},
   "outputs": [],
   "source": [
    "fig, ax = plt.subplots(\n",
    "    subplot_kw={'projection': 'polar'},\n",
    "    figsize = (8, 8), \n",
    "    constrained_layout = True\n",
    ")\n",
    "\n",
    "for index in target_mask:\n",
    "    ax = plot_sky(my_targets[index], tjo_observe, talk_start)\n",
    "\n",
    "ax.legend(loc=0,shadow=True);"
   ]
  },
  {
   "cell_type": "code",
   "execution_count": null,
   "metadata": {},
   "outputs": [],
   "source": [
    "fig, ax = plt.subplots(\n",
    "    subplot_kw={'projection': 'polar'},\n",
    "    figsize = (8, 8), \n",
    "    constrained_layout = True\n",
    ")\n",
    "\n",
    "for index in target_mask:\n",
    "    ax = plot_sky(my_targets[index], tjo_observe, talk_end)\n",
    "\n",
    "ax.legend(loc=0,shadow=True);"
   ]
  },
  {
   "cell_type": "markdown",
   "metadata": {},
   "source": [
    "## Looks like we are going to talk about Leo!"
   ]
  },
  {
   "cell_type": "markdown",
   "metadata": {},
   "source": [
    "----\n",
    "\n",
    "# Astroplan Constraints\n",
    "\n",
    "`from astroplan import CONSTRAINT`\n",
    "\n",
    "* `AirmassConstraint(max)` - Constrain the airmass of a target.\n",
    "* `AltitudeConstraint(min, max)` - Constrain the altitude of the target.\n",
    "* `MoonIlluminationConstraint(min, max)` - Constrain the fractional illumination of the Moon.\n",
    "* `MoonSeparationConstraint(min, max)` - Constrain the separation between the Moon and some targets.\n",
    "* `SunSeparationConstraint(min, max)` - Constrain the separation between the Sun and some targets."
   ]
  },
  {
   "cell_type": "markdown",
   "metadata": {},
   "source": [
    "---\n",
    "\n",
    "# Moving Targets (solar system targets)\n",
    "\n",
    "- The built-in solar system objects are: 'sun', 'mercury', 'venus', 'earth-moon-barycenter', 'earth', 'moon', 'mars', 'jupiter', 'saturn', 'uranus', 'neptune', 'pluto'"
   ]
  },
  {
   "cell_type": "code",
   "execution_count": null,
   "metadata": {
    "collapsed": false,
    "jupyter": {
     "outputs_hidden": false
    }
   },
   "outputs": [],
   "source": [
    "from astropy.coordinates import get_body"
   ]
  },
  {
   "cell_type": "code",
   "execution_count": null,
   "metadata": {
    "collapsed": false,
    "jupyter": {
     "outputs_hidden": false
    }
   },
   "outputs": [],
   "source": [
    "sun_now = get_body('sun',talk_start)\n",
    "\n",
    "sun_now"
   ]
  },
  {
   "cell_type": "code",
   "execution_count": null,
   "metadata": {
    "collapsed": false,
    "jupyter": {
     "outputs_hidden": false
    }
   },
   "outputs": [],
   "source": [
    "sun_location = tjo_observe.altaz(talk_start, sun_now)\n",
    "\n",
    "sun_location.alt, sun_location.az"
   ]
  },
  {
   "cell_type": "code",
   "execution_count": null,
   "metadata": {
    "collapsed": false,
    "jupyter": {
     "outputs_hidden": false
    }
   },
   "outputs": [],
   "source": [
    "moon_now = get_body('moon',talk_start)"
   ]
  },
  {
   "cell_type": "code",
   "execution_count": null,
   "metadata": {},
   "outputs": [],
   "source": [
    "moon_location = tjo_observe.altaz(talk_start, moon_now)\n",
    "\n",
    "moon_location.alt, moon_location.az"
   ]
  },
  {
   "cell_type": "code",
   "execution_count": null,
   "metadata": {
    "collapsed": false,
    "jupyter": {
     "outputs_hidden": false
    }
   },
   "outputs": [],
   "source": [
    "sun_now.separation(moon_now)"
   ]
  },
  {
   "cell_type": "markdown",
   "metadata": {},
   "source": [
    "## We can make the Moon a `FixedTarget` for planning"
   ]
  },
  {
   "cell_type": "code",
   "execution_count": null,
   "metadata": {},
   "outputs": [],
   "source": [
    "pseudo_moon = FixedTarget(moon_now, name = \"Moon\")"
   ]
  },
  {
   "cell_type": "code",
   "execution_count": null,
   "metadata": {},
   "outputs": [],
   "source": [
    "pseudo_moon.coord"
   ]
  },
  {
   "cell_type": "code",
   "execution_count": null,
   "metadata": {},
   "outputs": [],
   "source": [
    "fig, ax = plt.subplots(\n",
    "    subplot_kw={'projection': 'polar'},\n",
    "    figsize = (8, 8), \n",
    "    constrained_layout = True\n",
    ")\n",
    "\n",
    "ax = plot_sky(pseudo_moon, tjo_observe, talk_start + 1 * u.h)\n",
    "ax = plot_sky(pseudo_moon, tjo_observe, talk_end)\n",
    "\n",
    "ax.legend(loc=0,shadow=True);"
   ]
  },
  {
   "cell_type": "markdown",
   "metadata": {},
   "source": [
    "## Maybe we should talk about the Moon!"
   ]
  }
 ],
 "metadata": {
  "anaconda-cloud": {},
  "kernelspec": {
   "display_name": "Python 3 (ipykernel)",
   "language": "python",
   "name": "python3"
  },
  "language_info": {
   "codemirror_mode": {
    "name": "ipython",
    "version": 3
   },
   "file_extension": ".py",
   "mimetype": "text/x-python",
   "name": "python",
   "nbconvert_exporter": "python",
   "pygments_lexer": "ipython3",
   "version": "3.9.7"
  }
 },
 "nbformat": 4,
 "nbformat_minor": 4
}
