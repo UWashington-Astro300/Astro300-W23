{
 "cells": [
  {
   "cell_type": "markdown",
   "metadata": {},
   "source": [
    "# `astroplan` - Constraints\n",
    "\n",
    "## Add all of the following cells to the bottom of your Observing assignment.\n",
    "\n",
    "- Re-run all of the cells of your Observing assignment first.\n",
    "- And then run the cells below."
   ]
  },
  {
   "cell_type": "code",
   "execution_count": null,
   "metadata": {
    "collapsed": false,
    "jupyter": {
     "outputs_hidden": false
    }
   },
   "outputs": [],
   "source": [
    "from astropy.table import QTable\n",
    "\n",
    "from astropy.coordinates import SkyCoord\n",
    "from astroplan import observability_table\n",
    "from astroplan import AltitudeConstraint, MoonSeparationConstraint, SunSeparationConstraint"
   ]
  },
  {
   "cell_type": "markdown",
   "metadata": {},
   "source": [
    "---\n",
    "\n",
    "# Targets\n",
    "\n",
    "* Setup the targets from the data file `https://uwashington-astro300.github.io/A300_Data/BrightStars_25.csv` and create a target list.\n",
    "* The columns are:\n",
    "  - Name\n",
    "  - RA (hours)\n",
    "  - DEC (deg)"
   ]
  },
  {
   "cell_type": "code",
   "execution_count": null,
   "metadata": {
    "collapsed": false,
    "jupyter": {
     "outputs_hidden": false
    }
   },
   "outputs": [],
   "source": []
  },
  {
   "cell_type": "code",
   "execution_count": null,
   "metadata": {},
   "outputs": [],
   "source": []
  },
  {
   "cell_type": "code",
   "execution_count": null,
   "metadata": {},
   "outputs": [],
   "source": []
  },
  {
   "cell_type": "markdown",
   "metadata": {},
   "source": [
    "----\n",
    "## For each of the 3 locations create an `observability_table` with the following constraints\n",
    "\n",
    "\n",
    "- #### Use the new target list\n",
    "* Target > 6 hours from Sun\n",
    "* Target > 60 degrees from Moon\n",
    "* Target Altitude > 60 degrees"
   ]
  },
  {
   "cell_type": "code",
   "execution_count": null,
   "metadata": {},
   "outputs": [],
   "source": []
  },
  {
   "cell_type": "code",
   "execution_count": null,
   "metadata": {},
   "outputs": [],
   "source": []
  },
  {
   "cell_type": "code",
   "execution_count": null,
   "metadata": {},
   "outputs": [],
   "source": []
  },
  {
   "cell_type": "code",
   "execution_count": null,
   "metadata": {},
   "outputs": [],
   "source": []
  },
  {
   "cell_type": "code",
   "execution_count": null,
   "metadata": {},
   "outputs": [],
   "source": []
  },
  {
   "cell_type": "code",
   "execution_count": null,
   "metadata": {},
   "outputs": [],
   "source": []
  },
  {
   "cell_type": "markdown",
   "metadata": {},
   "source": [
    "---\n",
    "## For each Location create a summary paragraph:\n",
    "\n",
    "- #### If there is more than one target with the same \"longest observing time\" - just pick one.\n",
    "- Use `f-string` formatting to make your output look nice\n",
    "- All floats should be printed to one decimal place\n",
    "- Replace the CAP values with data. **DO NOT HARDCODE!!** - use variables."
   ]
  },
  {
   "cell_type": "raw",
   "metadata": {},
   "source": [
    "On DATE at LOCATION you can observe NUMBER targets over the observing night. The observing night at LOCATION is NUMBER hours long. The target with the longest time for observation is TARGET_NAME with a total of NUMBER hours of observing."
   ]
  },
  {
   "cell_type": "markdown",
   "metadata": {},
   "source": [
    "### Location 1"
   ]
  },
  {
   "cell_type": "code",
   "execution_count": null,
   "metadata": {},
   "outputs": [],
   "source": []
  },
  {
   "cell_type": "markdown",
   "metadata": {},
   "source": [
    "### Location 2"
   ]
  },
  {
   "cell_type": "code",
   "execution_count": null,
   "metadata": {},
   "outputs": [],
   "source": []
  },
  {
   "cell_type": "markdown",
   "metadata": {},
   "source": [
    "### Location 3"
   ]
  },
  {
   "cell_type": "code",
   "execution_count": null,
   "metadata": {},
   "outputs": [],
   "source": []
  },
  {
   "cell_type": "markdown",
   "metadata": {},
   "source": [
    "### Due Mon Feb 27 - 1 pm\n",
    "\n",
    "- `File -> Download as -> HTML (.html)`\n",
    "- `upload your .html file to the class Canvas page`"
   ]
  },
  {
   "cell_type": "code",
   "execution_count": null,
   "metadata": {},
   "outputs": [],
   "source": []
  }
 ],
 "metadata": {
  "anaconda-cloud": {},
  "kernelspec": {
   "display_name": "Python 3 (ipykernel)",
   "language": "python",
   "name": "python3"
  },
  "language_info": {
   "codemirror_mode": {
    "name": "ipython",
    "version": 3
   },
   "file_extension": ".py",
   "mimetype": "text/x-python",
   "name": "python",
   "nbconvert_exporter": "python",
   "pygments_lexer": "ipython3",
   "version": "3.9.7"
  }
 },
 "nbformat": 4,
 "nbformat_minor": 4
}
