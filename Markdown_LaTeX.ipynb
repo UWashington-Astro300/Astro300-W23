{
 "cells": [
  {
   "cell_type": "markdown",
   "metadata": {},
   "source": [
    "Markdown and $\\LaTeX$\n",
    "====================="
   ]
  },
  {
   "cell_type": "markdown",
   "metadata": {},
   "source": [
    "Markdown\n",
    "========\n",
    "\n",
    "## Jupyter Notebooks use the [Markdown](https://en.wikipedia.org/wiki/Markdown) language to render text in cells"
   ]
  },
  {
   "cell_type": "raw",
   "metadata": {},
   "source": [
    "Paragraphs are separated\n",
    "by a blank line.\n",
    "\n",
    "Two spaces at the end of a line  \n",
    "produces a line break.\n",
    "\n",
    "> Markdown uses email-style \n",
    "> characters for blockquoting."
   ]
  },
  {
   "cell_type": "markdown",
   "metadata": {},
   "source": [
    "### Make sure your cell is set to `Markdown` mode"
   ]
  },
  {
   "cell_type": "markdown",
   "metadata": {},
   "source": [
    "Paragraphs are separated\n",
    "by a blank line.\n",
    "\n",
    "Two spaces at the end of a line  \n",
    "produces a line break.\n",
    "\n",
    "> Markdown uses email-style \n",
    "> characters for blockquoting."
   ]
  },
  {
   "cell_type": "raw",
   "metadata": {},
   "source": [
    "# Main Heading"
   ]
  },
  {
   "cell_type": "markdown",
   "metadata": {},
   "source": [
    "# Main Heading"
   ]
  },
  {
   "cell_type": "raw",
   "metadata": {},
   "source": [
    "## Sub-heading\n",
    "### Sub-sub-heading\n",
    "#### Sub-sub-sub-heading\n",
    "##### Sub-sub-sub-sub-heading"
   ]
  },
  {
   "cell_type": "markdown",
   "metadata": {},
   "source": [
    "## Sub-heading\n",
    "### Sub-sub-heading\n",
    "#### Sub-sub-sub-heading\n",
    "##### Sub-sub-sub-sub-heading"
   ]
  },
  {
   "cell_type": "raw",
   "metadata": {},
   "source": [
    "Horizontal rule:\n",
    "\n",
    "---"
   ]
  },
  {
   "cell_type": "markdown",
   "metadata": {},
   "source": [
    "---"
   ]
  },
  {
   "cell_type": "raw",
   "metadata": {},
   "source": [
    "Text attributes: _italic_ , **bold**, `monospace`, and ~~strikethrough~~."
   ]
  },
  {
   "cell_type": "markdown",
   "metadata": {},
   "source": [
    "Text attributes: _italic_ , **bold**, `monospace`, and ~~strikethrough~~."
   ]
  },
  {
   "cell_type": "raw",
   "metadata": {},
   "source": [
    "Bullet list:\n",
    "\n",
    "  * john\n",
    "  * paul\n",
    "  * george\n",
    "    * ringo"
   ]
  },
  {
   "cell_type": "markdown",
   "metadata": {},
   "source": [
    "* john\n",
    "* paul\n",
    "* george\n",
    "  * ringo"
   ]
  },
  {
   "cell_type": "raw",
   "metadata": {},
   "source": [
    "Numbered list (you need the \".\" after the number):\n",
    "\n",
    "  1. john\n",
    "  2. paul\n",
    "  3. george\n",
    "     1. ringo"
   ]
  },
  {
   "cell_type": "markdown",
   "metadata": {},
   "source": [
    "Numbered list (you need the \".\" after the number):\n",
    "\n",
    "  1. john\n",
    "  2. paul\n",
    "  3. george  \n",
    "     1. ringo"
   ]
  },
  {
   "cell_type": "raw",
   "metadata": {},
   "source": [
    "A web link:\n",
    "\n",
    "[Words](url)\n",
    "\n",
    "This is pretty much just taken from the [Wiki entry for Markdown](https://en.wikipedia.org/wiki/Markdown)"
   ]
  },
  {
   "cell_type": "markdown",
   "metadata": {},
   "source": [
    "### This is all pretty much just taken from the [Wiki entry for Markdown](https://en.wikipedia.org/wiki/Markdown)"
   ]
  },
  {
   "cell_type": "markdown",
   "metadata": {},
   "source": [
    "---\n",
    "\n",
    "# I ♡ $\\LaTeX$\n",
    "\n",
    "* $\\LaTeX$ is based on the $\\TeX$ typesetting language. The [$\\TeX$](https://en.wikipedia.org/wiki/TeX) language has a long and deep history (1978).\n",
    "* $\\LaTeX$ is widely used in academia, especially in Astronomy.\n",
    "\n",
    "<p align=\"center\"> \n",
    "<img img style=\"padding: 0px 10px 0px 0px;\" src=\"https://uwashington-astro300.github.io/A300_images/ArtOfComputerProgramming.jpg\" width = \"220\">\n",
    "<img img style=\"padding: 0px 10px 0px 0px;\" src=\"https://uwashington-astro300.github.io/A300_images/TeXBook.jpg\" width = \"270\">\n",
    "<img src=\"https://uwashington-astro300.github.io/A300_images/LaTeX_Comic.jpg\" width = \"250\">\n",
    "</p>"
   ]
  },
  {
   "cell_type": "markdown",
   "metadata": {},
   "source": [
    "## Jupyter Notebooks use the $\\LaTeX$ language to typeset equations.\n",
    "\n",
    "* Actually, they use a subset of $\\LaTeX$ called [MathJax](https://en.wikipedia.org/wiki/MathJax)."
   ]
  },
  {
   "cell_type": "raw",
   "metadata": {},
   "source": [
    "Most LaTeX commands are prefixed with a \"\\\". For example \\pi is the\n",
    "command to produce the lower case Greek letter pi.\n",
    "\n",
    "The characters  # $ % & ~ _ ^ \\ { } are special characters in LaTeX. If\n",
    "you want to typeset them you need to put a \\ in front of them. For\n",
    "example \\$ will typeset the symbol $\n",
    "\n",
    "Special case: if you want the \"\\\" character use \\backslash"
   ]
  },
  {
   "cell_type": "markdown",
   "metadata": {},
   "source": [
    "----\n",
    "\n",
    "#  $\\$$ $\\rightarrow$ $\\LaTeX$ equation mode"
   ]
  },
  {
   "cell_type": "markdown",
   "metadata": {},
   "source": [
    "### `$` (in-line math mode)"
   ]
  },
  {
   "cell_type": "raw",
   "metadata": {},
   "source": [
    "The circumfrence of a circle is $2 \\pi r$"
   ]
  },
  {
   "cell_type": "markdown",
   "metadata": {},
   "source": [
    "The circumfrence of a circle is $2 \\pi r$"
   ]
  },
  {
   "cell_type": "markdown",
   "metadata": {},
   "source": [
    "### `$$` (display mode)"
   ]
  },
  {
   "cell_type": "raw",
   "metadata": {},
   "source": [
    "$$\n",
    "2 \\pi r\n",
    "$$"
   ]
  },
  {
   "cell_type": "markdown",
   "metadata": {},
   "source": [
    "$$ \n",
    "2 \\pi r \n",
    "$$"
   ]
  },
  {
   "cell_type": "markdown",
   "metadata": {},
   "source": [
    "### Do not put any bank lines around the equation. This will not work:"
   ]
  },
  {
   "cell_type": "raw",
   "metadata": {},
   "source": [
    "$$\n",
    "\n",
    "2 \\pi r\n",
    "$$"
   ]
  },
  {
   "cell_type": "markdown",
   "metadata": {},
   "source": [
    "$$ \n",
    "\n",
    "2 \\pi r \n",
    "$$"
   ]
  },
  {
   "cell_type": "markdown",
   "metadata": {},
   "source": [
    "### `%` - $\\LaTeX$ comment character"
   ]
  },
  {
   "cell_type": "raw",
   "metadata": {},
   "source": [
    "$$\n",
    "% - nothing here\n",
    "2 \\pi r\n",
    "% - and nothing here\n",
    "$$"
   ]
  },
  {
   "cell_type": "markdown",
   "metadata": {},
   "source": [
    "$$\n",
    "% - nothing here\n",
    "2 \\pi r\n",
    "% - and nothing here\n",
    "$$"
   ]
  },
  {
   "cell_type": "markdown",
   "metadata": {},
   "source": [
    "### `^`  - Superscript"
   ]
  },
  {
   "cell_type": "raw",
   "metadata": {},
   "source": [
    "$$\n",
    "\\pi r^{2}\n",
    "$$"
   ]
  },
  {
   "cell_type": "markdown",
   "metadata": {},
   "source": [
    "$$\n",
    "\\pi r^{2}\n",
    "$$"
   ]
  },
  {
   "cell_type": "markdown",
   "metadata": {},
   "source": [
    "### `_` - Subscript"
   ]
  },
  {
   "cell_type": "raw",
   "metadata": {},
   "source": [
    "$$\n",
    "x_{2}\n",
    "$$"
   ]
  },
  {
   "cell_type": "markdown",
   "metadata": {},
   "source": [
    "$$\n",
    "x_{2}\n",
    "$$"
   ]
  },
  {
   "cell_type": "markdown",
   "metadata": {},
   "source": [
    "### `\\frac{}{}` - Fractions"
   ]
  },
  {
   "cell_type": "raw",
   "metadata": {},
   "source": [
    "$$\n",
    "\\frac{2}{\\pi}\n",
    "$$"
   ]
  },
  {
   "cell_type": "markdown",
   "metadata": {},
   "source": [
    "$$\n",
    "\\frac{2}{\\pi}\n",
    "$$"
   ]
  },
  {
   "cell_type": "markdown",
   "metadata": {},
   "source": [
    "### Nice looking delimiters\n",
    "\n",
    "- Do not use `()` or `[]`"
   ]
  },
  {
   "cell_type": "raw",
   "metadata": {},
   "source": [
    "$$\n",
    "( \\frac{2}{\\pi} )\n",
    "$$"
   ]
  },
  {
   "cell_type": "markdown",
   "metadata": {},
   "source": [
    "$$\n",
    "( \\frac{2}{\\pi} )\n",
    "$$"
   ]
  },
  {
   "cell_type": "markdown",
   "metadata": {},
   "source": [
    "### Use `\\left(` and `\\right)` or `\\left[` `\\right]`"
   ]
  },
  {
   "cell_type": "raw",
   "metadata": {},
   "source": [
    "$$\n",
    "\\left( \\frac{2}{\\pi} \\right)\n",
    "$$"
   ]
  },
  {
   "cell_type": "markdown",
   "metadata": {},
   "source": [
    "$$\n",
    "\\left( \\frac{2}{\\pi} \\right)\n",
    "$$"
   ]
  },
  {
   "cell_type": "markdown",
   "metadata": {},
   "source": [
    "### Font size (from small to big)\n",
    "- `\\tiny \\Tiny \\small \\normalsize \\large \\Large \\LARGE \\huge \\Huge`"
   ]
  },
  {
   "cell_type": "raw",
   "metadata": {},
   "source": [
    "$$\n",
    "\\huge\n",
    "\\left( \\frac{2}{\\pi} \\right)\n",
    "$$"
   ]
  },
  {
   "cell_type": "markdown",
   "metadata": {},
   "source": [
    "$$\n",
    "\\Huge\n",
    "\\left( \\frac{2}{\\pi} \\right)\n",
    "$$"
   ]
  },
  {
   "cell_type": "raw",
   "metadata": {},
   "source": [
    "$$\n",
    "\\large\n",
    "x_{2}\n",
    "$$"
   ]
  },
  {
   "cell_type": "markdown",
   "metadata": {},
   "source": [
    "$$\n",
    "\\large\n",
    "x_{2}\n",
    "$$"
   ]
  },
  {
   "cell_type": "raw",
   "metadata": {},
   "source": [
    "$$\n",
    "\\large\n",
    "x_{\\small 2}\n",
    "$$"
   ]
  },
  {
   "cell_type": "markdown",
   "metadata": {},
   "source": [
    "$$\n",
    "\\large\n",
    "x_{\\small 2}\n",
    "$$"
   ]
  },
  {
   "cell_type": "markdown",
   "metadata": {},
   "source": [
    "### Spacing will make your equations look nicer"
   ]
  },
  {
   "cell_type": "raw",
   "metadata": {},
   "source": [
    "\\! - a (negative) small space\n",
    "\\, - a small space\n",
    "\\  - a text space (space after backslash!) - depends on fontsize\n",
    "\\quad - a big space\n",
    "\\qquad - a really big space"
   ]
  },
  {
   "cell_type": "raw",
   "metadata": {},
   "source": [
    "$$\n",
    "f(x)\\! =\\! x^{2}\\! +\\! 2 \\\\\n",
    "f(x) = x^{2}+2 \\\\\n",
    "f(x)\\, =\\, x^{2}\\,+\\,2 \\\\\n",
    "f(x)\\ =\\ x^{2}\\ +\\ 2 \\\\\n",
    "f(x)\\quad =\\quad x^{2}\\quad +\\quad 2 \\\\\n",
    "f(x)\\qquad =\\qquad x^{2}\\qquad +\\qquad 2 \\\\\n",
    "$$"
   ]
  },
  {
   "cell_type": "markdown",
   "metadata": {},
   "source": [
    "$$\n",
    "f(x)\\! =\\! x^{2}\\! +\\! 2 \\\\\n",
    "f(x) = x^{2}+2 \\\\\n",
    "f(x)\\, =\\, x^{2}\\,+\\,2 \\\\\n",
    "f(x)\\ =\\ x^{2}\\ +\\ 2 \\\\\n",
    "f(x)\\quad =\\quad x^{2}\\quad +\\quad 2 \\\\\n",
    "f(x)\\qquad =\\qquad x^{2}\\qquad +\\qquad 2 \\\\\n",
    "$$"
   ]
  },
  {
   "cell_type": "markdown",
   "metadata": {},
   "source": [
    "#### Adding spaces in equation will give your equations breathing room"
   ]
  },
  {
   "cell_type": "raw",
   "metadata": {},
   "source": [
    "$$\n",
    "\\large\n",
    "\\sqrt{2x}\n",
    "$$"
   ]
  },
  {
   "cell_type": "markdown",
   "metadata": {},
   "source": [
    "$$\n",
    "\\large\n",
    "f(x)=\\sqrt{2x}\n",
    "$$"
   ]
  },
  {
   "cell_type": "raw",
   "metadata": {},
   "source": [
    "$$\n",
    "\\large\n",
    "f(x) = \\sqrt{\\,2x\\,}\n",
    "$$"
   ]
  },
  {
   "cell_type": "markdown",
   "metadata": {},
   "source": [
    "$$\n",
    "\\large\n",
    "f(x) = \\sqrt{\\,2x\\,}\n",
    "$$"
   ]
  },
  {
   "cell_type": "markdown",
   "metadata": {},
   "source": [
    "## Text\n",
    "\n",
    "- By default $\\LaTeX$ math-mode will ignore spaces and set text in italics"
   ]
  },
  {
   "cell_type": "raw",
   "metadata": {},
   "source": [
    "$$\n",
    "Spam, Eggs, and Spam\n",
    "$$"
   ]
  },
  {
   "cell_type": "markdown",
   "metadata": {},
   "source": [
    "$$\n",
    "Spam, Eggs, and Spam\n",
    "$$"
   ]
  },
  {
   "cell_type": "markdown",
   "metadata": {},
   "source": [
    "#### You need to manually add spaces (i.e. `\\ `)"
   ]
  },
  {
   "cell_type": "raw",
   "metadata": {},
   "source": [
    "$$\n",
    "Spam,\\ Eggs,\\ and\\ Spam\n",
    "$$"
   ]
  },
  {
   "cell_type": "markdown",
   "metadata": {},
   "source": [
    "$$\n",
    "Spam,\\ Eggs,\\ and\\ Spam\n",
    "$$"
   ]
  },
  {
   "cell_type": "markdown",
   "metadata": {},
   "source": [
    "#### `\\mathrm{}` will render math text in standard (roman) font "
   ]
  },
  {
   "cell_type": "raw",
   "metadata": {},
   "source": [
    "$$\n",
    "\\mathrm{Spam,\\ Eggs,\\ and\\ Spam}\n",
    "$$"
   ]
  },
  {
   "cell_type": "markdown",
   "metadata": {},
   "source": [
    "$$\n",
    "\\mathrm{Spam,\\ Eggs,\\ and\\ Spam}\n",
    "$$"
   ]
  },
  {
   "cell_type": "markdown",
   "metadata": {},
   "source": [
    "# $\\LaTeX$ environments"
   ]
  },
  {
   "cell_type": "markdown",
   "metadata": {},
   "source": [
    "### Alignment, Matrices and Brackets\n",
    "\n",
    "* The ampersand `&` is used to separate/align columns\n",
    "* Use `\\\\` to end a row (except for the last row)"
   ]
  },
  {
   "cell_type": "raw",
   "metadata": {},
   "source": [
    "$$\n",
    "\\begin{align}\n",
    "a_1 & = b_1 + c_1 \\\\\n",
    "a_2 & = b_2 + c_2 + d_2\n",
    "\\end{align}\n",
    "$$"
   ]
  },
  {
   "cell_type": "markdown",
   "metadata": {},
   "source": [
    "$$\n",
    "\\begin{align}\n",
    "a_1 & = b_1 + c_1 \\\\\n",
    "a_2 & = b_2 + c_2 + d_2\n",
    "\\end{align}\n",
    "$$"
   ]
  },
  {
   "cell_type": "raw",
   "metadata": {},
   "source": [
    "$$\n",
    "\\begin{matrix}\n",
    "a & b \\\\\n",
    "c & d\n",
    "\\end{matrix}\n",
    "$$"
   ]
  },
  {
   "cell_type": "markdown",
   "metadata": {},
   "source": [
    "$$\n",
    "\\begin{matrix}\n",
    "a & b \\\\\n",
    "c & d\n",
    "\\end{matrix}\n",
    "$$"
   ]
  },
  {
   "cell_type": "raw",
   "metadata": {},
   "source": [
    "$$\n",
    "\\begin{pmatrix}\n",
    "a & b \\\\\n",
    "c & d\n",
    "\\end{pmatrix}\n",
    "$$"
   ]
  },
  {
   "cell_type": "markdown",
   "metadata": {},
   "source": [
    "$$\n",
    "\\begin{pmatrix}\n",
    "a & b \\\\\n",
    "c & d\n",
    "\\end{pmatrix}\n",
    "$$"
   ]
  },
  {
   "cell_type": "raw",
   "metadata": {},
   "source": [
    "$$\n",
    "\\begin{bmatrix}\n",
    "a & b \\\\\n",
    "c & d\n",
    "\\end{bmatrix}\n",
    "$$"
   ]
  },
  {
   "cell_type": "markdown",
   "metadata": {},
   "source": [
    "$$\n",
    "\\begin{bmatrix}\n",
    "a & b \\\\\n",
    "c & d\n",
    "\\end{bmatrix}\n",
    "$$"
   ]
  },
  {
   "cell_type": "markdown",
   "metadata": {},
   "source": [
    "# Array\n",
    "\n",
    "- The `array` enviroment is a general tabular grid\n",
    "- Column alignment:\n",
    "  - `c` centred\n",
    "  - `l` flush left\n",
    "  - `r` flush right"
   ]
  },
  {
   "cell_type": "raw",
   "metadata": {},
   "source": [
    "$$ \\large\n",
    "\\begin{array}{ccr}\n",
    "0 & \\mathrm{if} & x \\ge 3y \\\\\n",
    "1 & \\mathrm{if} & x \\lt 3y\n",
    "\\end{array}\n",
    "$$"
   ]
  },
  {
   "cell_type": "markdown",
   "metadata": {},
   "source": [
    "$$ \\large\n",
    "\\begin{array}{ccr}\n",
    "0 & \\mathrm{if} & x \\ge 3y \\\\\n",
    "1 & \\mathrm{if} & x \\lt 3y\n",
    "\\end{array}\n",
    "$$"
   ]
  },
  {
   "cell_type": "markdown",
   "metadata": {},
   "source": [
    "### The `array` enviroment is good tool for making more complicated expressions"
   ]
  },
  {
   "cell_type": "raw",
   "metadata": {},
   "source": [
    "$$ \\large\n",
    "Z = \\left\\{\n",
    "\\begin{array}{ccr}\n",
    "0 & \\mathrm{if} & x \\ge 3y \\\\\n",
    "1 & \\mathrm{if} & x \\lt 3y\n",
    "\\end{array}\n",
    "\\right.\n",
    "$$"
   ]
  },
  {
   "cell_type": "markdown",
   "metadata": {},
   "source": [
    "$$ \\large\n",
    "Z = \\left\\{\n",
    "\\begin{array}{ccr}\n",
    "0 & \\mathrm{if} & x \\ge 3y \\\\\n",
    "1 & \\mathrm{if} & x \\lt 3y\n",
    "\\end{array}\n",
    "\\right.\n",
    "$$"
   ]
  },
  {
   "cell_type": "markdown",
   "metadata": {},
   "source": [
    "---\n",
    "## These few commands, plus a list of [Latex Symbols](http://oeis.org/wiki/List_of_LaTeX_mathematical_symbols), are all you need for most $\\LaTeX$ equations\n",
    "\n",
    "### If you cannot find a symbol, you can try the [Detexify Latex](http://detexify.kirelabs.org/classify.html) drawing tool"
   ]
  },
  {
   "cell_type": "markdown",
   "metadata": {},
   "source": [
    "### Note: Jupyter notebooks only support a [small subset of the full $\\LaTeX$ language](https://docs.mathjax.org/en/latest/input/tex/differences.html).\n",
    "\n",
    "* Mostly just the Math stuff (`mathmode`)\n",
    "* Only symbols that **do not** require external packages `\\usepackage{}`\n",
    "* Here is the [Full list of supported commands](http://www.onemathematicalcat.org/MathJaxDocumentation/TeXSyntax.htm)\n",
    "* You will definitely find some symbols that will not render in a notebook!"
   ]
  },
  {
   "cell_type": "markdown",
   "metadata": {},
   "source": [
    "----"
   ]
  },
  {
   "cell_type": "markdown",
   "metadata": {},
   "source": [
    "## Writing $\\LaTeX$ equations from scratch can be a pain. There are some ways to make it easier:"
   ]
  },
  {
   "cell_type": "markdown",
   "metadata": {},
   "source": [
    "### Use can use `SymPy` to make $\\LaTeX$ equations for you!"
   ]
  },
  {
   "cell_type": "code",
   "execution_count": null,
   "metadata": {
    "collapsed": false,
    "jupyter": {
     "outputs_hidden": false
    }
   },
   "outputs": [],
   "source": [
    "import sympy as sp"
   ]
  },
  {
   "cell_type": "code",
   "execution_count": null,
   "metadata": {
    "collapsed": false,
    "jupyter": {
     "outputs_hidden": false
    }
   },
   "outputs": [],
   "source": [
    "z = sp.symbols('z')"
   ]
  },
  {
   "cell_type": "code",
   "execution_count": null,
   "metadata": {
    "collapsed": false,
    "jupyter": {
     "outputs_hidden": false
    }
   },
   "outputs": [],
   "source": [
    "my_equation =  1/( ( z + 2 ) * ( z + 1 ) )\n",
    "\n",
    "print(sp.latex(my_equation))"
   ]
  },
  {
   "cell_type": "raw",
   "metadata": {},
   "source": [
    "$$\n",
    "\\frac{1}{\\left(z + 1\\right) \\left(z + 2\\right)}\n",
    "$$"
   ]
  },
  {
   "cell_type": "markdown",
   "metadata": {},
   "source": [
    "$$ \n",
    "\\frac{1}{\\left(z + 1\\right) \\left(z + 2\\right)}\n",
    "$$"
   ]
  },
  {
   "cell_type": "markdown",
   "metadata": {},
   "source": [
    "----\n",
    "## My favorite trick is the Wikipedia $\\LaTeX$ equation cheat:"
   ]
  },
  {
   "cell_type": "markdown",
   "metadata": {},
   "source": [
    "* #### Navigate over to: [Plank's Law](https://en.wikipedia.org/wiki/Planck%27s_law)"
   ]
  },
  {
   "cell_type": "markdown",
   "metadata": {},
   "source": [
    "### Double-click on this cell\n",
    "\n",
    "$$ \\Large\n",
    "\n",
    "$$"
   ]
  },
  {
   "cell_type": "markdown",
   "metadata": {},
   "source": [
    "# Magic!"
   ]
  },
  {
   "cell_type": "markdown",
   "metadata": {},
   "source": [
    "----\n",
    "\n",
    "### There are also a bunch of on-line $\\LaTeX$ equation editors: \n",
    "\n",
    "* http://atomurl.net/math/\n",
    "* https://www.tutorialspoint.com/latex_equation_editor.htm\n",
    "* https://www.latex4technics.com/\n",
    "* https://www.codecogs.com/latex/eqneditor.php\n",
    "* http://www.sciweavers.org/free-online-latex-equation-editor"
   ]
  },
  {
   "cell_type": "markdown",
   "metadata": {},
   "source": [
    "----"
   ]
  },
  {
   "cell_type": "markdown",
   "metadata": {},
   "source": [
    "## Use can use $\\LaTeX$ in plots:\n",
    "\n",
    "* You need to use the `raw` strings: (`r`)\n",
    "* For example: `r\"$e^{-\\sqrt{x}}$\"`"
   ]
  },
  {
   "cell_type": "code",
   "execution_count": null,
   "metadata": {
    "collapsed": false,
    "jupyter": {
     "outputs_hidden": false
    }
   },
   "outputs": [],
   "source": [
    "import numpy as np\n",
    "import matplotlib.pyplot as plt"
   ]
  },
  {
   "cell_type": "code",
   "execution_count": null,
   "metadata": {
    "collapsed": false,
    "jupyter": {
     "outputs_hidden": false
    }
   },
   "outputs": [],
   "source": [
    "plt.style.use('ggplot')\n",
    "\n",
    "my_x = np.linspace(0,2*np.pi,200)\n",
    "my_y = np.sin(5*my_x) * np.exp(-np.sqrt(my_x))"
   ]
  },
  {
   "cell_type": "code",
   "execution_count": null,
   "metadata": {
    "collapsed": false,
    "jupyter": {
     "outputs_hidden": false
    }
   },
   "outputs": [],
   "source": [
    "fig, ax = plt.subplots(\n",
    "    figsize = (10, 4), \n",
    "    constrained_layout = True\n",
    ")\n",
    "\n",
    "ax.set_xlabel(r\"This is in units of 2$\\pi$\", \n",
    "              fontsize=16)\n",
    "\n",
    "ax.set_ylabel(r\"This is $f\\,(x)$\", \n",
    "              fontsize=16)\n",
    "\n",
    "ax.plot(my_x, my_y, \n",
    "        color = (1.0, 0.0, 0.0, 0.5), \n",
    "        marker= 'None', \n",
    "        linestyle = '-', \n",
    "        linewidth = 6,\n",
    "        label = r\"$f\\,(x)$\")\n",
    "\n",
    "ax.text(2.0, 0.4, \n",
    "        r\"$f\\,(x) =\\, \\sin(5x)\\, e^{-\\sqrt{x}}$\", \n",
    "        color='green', \n",
    "        fontsize=36)\n",
    "\n",
    "ax.legend(loc = 4, fontsize = 24, shadow = True);"
   ]
  },
  {
   "cell_type": "markdown",
   "metadata": {},
   "source": [
    "---\n",
    "\n",
    "# ⚠ Learn to tailor your google searches for $\\LaTeX$ ⚠"
   ]
  },
  {
   "cell_type": "markdown",
   "metadata": {},
   "source": [
    "---\n",
    "\n",
    "# This is just the beginning!\n",
    "\n",
    "## [Showcase of beautiful typography done in TeX & friends](https://tex.stackexchange.com/questions/1319/showcase-of-beautiful-typography-done-in-tex-friends)"
   ]
  },
  {
   "cell_type": "markdown",
   "metadata": {},
   "source": [
    "----"
   ]
  },
  {
   "cell_type": "markdown",
   "metadata": {},
   "source": [
    "Your assignment\n",
    "===============\n",
    "\n",
    "- ### Go to the [Overleaf](https://www.overleaf.com?r=f33161ec&rm=d&rs=b) site and create an account using your `uw.edu` address.\n",
    "- ### It is important that you use your `uw.edu` address! \n",
    "- ### If you already have an Overleaf account, no need to do this."
   ]
  }
 ],
 "metadata": {
  "anaconda-cloud": {},
  "kernelspec": {
   "display_name": "Python 3 (ipykernel)",
   "language": "python",
   "name": "python3"
  },
  "language_info": {
   "codemirror_mode": {
    "name": "ipython",
    "version": 3
   },
   "file_extension": ".py",
   "mimetype": "text/x-python",
   "name": "python",
   "nbconvert_exporter": "python",
   "pygments_lexer": "ipython3",
   "version": "3.9.7"
  }
 },
 "nbformat": 4,
 "nbformat_minor": 4
}
